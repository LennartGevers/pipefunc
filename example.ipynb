{
 "cells": [
  {
   "cell_type": "markdown",
   "id": "0",
   "metadata": {},
   "source": [
    "# Tutorial for Pipefunc Package\n",
    "\n",
    "The pipefunc package is a Python library designed to simplify the creation and execution of function pipelines.\n",
    "It allows you to define functions as pipeline steps, automatically managing dependencies and execution order.\n",
    "In this tutorial, we will guide you through the key features of pipefunc, including sequential and parallel execution, map-reduce operations, and advanced functionalities."
   ]
  },
  {
   "cell_type": "markdown",
   "id": "1",
   "metadata": {},
   "source": [
    "This page is [a Jupyter notebook](https://github.com/pipefunc/pipefunc/blob/main/example.ipynb), executed and rendered in [the official documentation](https://pipefunc.readthedocs.io/en/latest/tutorial)."
   ]
  },
  {
   "cell_type": "markdown",
   "id": "2",
   "metadata": {},
   "source": [
    "## High level overview\n",
    "\n",
    "1. The pipefunc package allows to create reusable and callable pipelines.\n",
    "1. A `Pipeline` contains a list of `PipeFunc` objects.\n",
    "1. At its core, these `PipeFunc` objects only contain a function and an output name.\n",
    "1. You can create a `PipeFunc` object directly or using the `@pipefunc` decorator.\n",
    "1. The `Pipeline` will automatically connect all functions based on the output names and function inputs."
   ]
  },
  {
   "cell_type": "markdown",
   "id": "3",
   "metadata": {},
   "source": [
    "---\n",
    "\n",
    "## Building a Simple Pipeline\n",
    "\n",
    "Let's start by importing `pipefunc` and `Pipeline` from the `pipefunc` module.\n"
   ]
  },
  {
   "cell_type": "code",
   "execution_count": 1,
   "id": "4",
   "metadata": {},
   "outputs": [],
   "source": [
    "from pipefunc import PipeFunc, Pipeline, pipefunc"
   ]
  },
  {
   "cell_type": "markdown",
   "id": "5",
   "metadata": {},
   "source": [
    "We then define some functions using the `@pipefunc` decorator.\n",
    "The `@pipefunc` decorator turns these functions into pipeline steps.\n",
    "For each function, we specify an `output_name` which will be used to refer to the output of that function in the pipeline."
   ]
  },
  {
   "cell_type": "code",
   "execution_count": 2,
   "id": "6",
   "metadata": {},
   "outputs": [],
   "source": [
    "@pipefunc(output_name=\"c\")\n",
    "def f(a, b):\n",
    "    return a + b\n",
    "\n",
    "\n",
    "@pipefunc(output_name=\"d\")\n",
    "def g(b, c, x=1):  # \"c\" is the output of f\n",
    "    return b * c * x\n",
    "\n",
    "\n",
    "@pipefunc(output_name=\"e\")\n",
    "def h(c, d, x=1):  # \"d\" is the output of g\n",
    "    return c * d * x"
   ]
  },
  {
   "cell_type": "markdown",
   "id": "7",
   "metadata": {},
   "source": [
    "We now have three functions `f`, `g`, and `h`, which we can use to build a pipeline.\n",
    "We create a `Pipeline` object passing the list of functions.\n",
    "We can also enable debugging, profiling, and caching for the entire pipeline:"
   ]
  },
  {
   "cell_type": "code",
   "execution_count": 3,
   "id": "8",
   "metadata": {},
   "outputs": [],
   "source": [
    "pipeline = Pipeline(\n",
    "    [f, g, h],\n",
    "    debug=True,  # optionally print debug information\n",
    "    profile=True,  # optionally profile the pipeline\n",
    "    cache_type=\"hybrid\",  # optionally cache the pipeline\n",
    ")"
   ]
  },
  {
   "cell_type": "markdown",
   "id": "9",
   "metadata": {},
   "source": [
    "Now, we have a pipeline that only requires `a` and `b` as inputs and uses the outputs of the functions and automatically passes them as inputs to the next function.\n",
    "\n",
    "Don't want to use the `@pipefunc` decorator? No problem! You can create a `PipeFunc` object directly:"
   ]
  },
  {
   "cell_type": "code",
   "execution_count": 4,
   "id": "10",
   "metadata": {},
   "outputs": [],
   "source": [
    "@pipefunc(output_name=\"c\")\n",
    "def f(a, b):\n",
    "    return a + b\n",
    "\n",
    "\n",
    "# is equivalent to\n",
    "\n",
    "\n",
    "def f(a, b):\n",
    "    return a + b\n",
    "\n",
    "\n",
    "f = PipeFunc(f, output_name=\"c\")"
   ]
  },
  {
   "cell_type": "markdown",
   "id": "11",
   "metadata": {},
   "source": [
    "\n",
    "---\n",
    "\n",
    "## Visualizing the Pipeline\n",
    "\n",
    "You can visualize your pipeline using the `visualize()` method, and print the nodes in the graph using the `graph.nodes` attribute."
   ]
  },
  {
   "cell_type": "markdown",
   "id": "12",
   "metadata": {},
   "source": [
    ":::{admonition} Interactive visualization with [`graphviz-anywidget`](https://github.com/pipefunc/graphviz-anywidget)\n",
    ":class: note, dropdown\n",
    "\n",
    "In a live Jupyter notebook, the output below allows interaction with the pipeline visualization.\n",
    " \n",
    "You will be able to zoom by scrolling, pan by dragging the image, and click on nodes to highlight all connected nodes. Click Escape to reset the view.\n",
    ":::"
   ]
  },
  {
   "cell_type": "code",
   "execution_count": null,
   "id": "13",
   "metadata": {},
   "outputs": [
    {
     "name": "stdout",
     "output_type": "stream",
     "text": [
      "Graph nodes: [PipeFunc(f), 'a', 'b', PipeFunc(g), 'x', PipeFunc(h)]\n",
      "{} c\n",
      "{} d\n",
      "{} e\n",
      "Hints in viz {}\n"
     ]
    },
    {
     "data": {
      "application/vnd.jupyter.widget-view+json": {
       "model_id": "526d3958c85a4193be0bb2a86f1bbe4b",
       "version_major": 2,
       "version_minor": 0
      },
      "text/plain": [
       "VBox(children=(HBox(children=(Button(description='Reset Zoom', style=ButtonStyle()), Dropdown(description='Dir…"
      ]
     },
     "execution_count": 5,
     "metadata": {},
     "output_type": "execute_result"
    }
   ],
   "source": [
    "print(\"Graph nodes:\", pipeline.graph.nodes)\n",
    "pipeline.visualize()"
   ]
  },
  {
   "cell_type": "markdown",
   "id": "14",
   "metadata": {},
   "source": [
    "---\n",
    "\n",
    "## Executing the Pipeline\n",
    "\n",
    "There are two ways to execute the pipeline:\n",
    "\n",
    "1. Call the pipeline as a function (***sequentially***) and get a specific output:\n",
    "   - `pipeline(output_name, **kwargs)`\n",
    "   - `pipeline.run(output_name, kwargs)`\n",
    "2. Evaluate the entire pipeline (***parallel***) including map-reduce operations:\n",
    "   - `pipeline.map(kwargs)`\n",
    "\n",
    "We start with calling the pipeline directly and then introduce the `map` method.\n",
    "\n",
    "See [this FAQ section](project:faq.md#run-vs-map) for more information on the difference between `run` and `map`."
   ]
  },
  {
   "cell_type": "markdown",
   "id": "15",
   "metadata": {},
   "source": [
    "### Using `pipeline(...)` (Sequential Execution)\n",
    "\n",
    "If the pipeline has a unique leaf node (single final output), then we can directly call the pipeline object with the input arguments."
   ]
  },
  {
   "cell_type": "code",
   "execution_count": 6,
   "id": "16",
   "metadata": {},
   "outputs": [
    {
     "name": "stdout",
     "output_type": "stream",
     "text": [
      "2025-01-13 19:41:11.475036 - Function returning 'c' was invoked as `f(a=1, b=2)` and returned `3`. The execution time was 7.74e-04 seconds on average.\n",
      "2025-01-13 19:41:11.475805 - Function returning 'd' was invoked as `g(x=1, b=2, c=3)` and returned `6`. The execution time was 1.34e-04 seconds on average.\n",
      "2025-01-13 19:41:11.476201 - Function returning 'e' was invoked as `h(x=1, c=3, d=6)` and returned `18`. The execution time was 1.40e-04 seconds on average.\n"
     ]
    },
    {
     "data": {
      "text/plain": [
       "18"
      ]
     },
     "execution_count": 6,
     "metadata": {},
     "output_type": "execute_result"
    }
   ],
   "source": [
    "pipeline(a=1, b=2)"
   ]
  },
  {
   "cell_type": "code",
   "execution_count": 7,
   "id": "17",
   "metadata": {},
   "outputs": [
    {
     "data": {
      "text/plain": [
       "PipeFunc(h)"
      ]
     },
     "execution_count": 7,
     "metadata": {},
     "output_type": "execute_result"
    }
   ],
   "source": [
    "# The above returns the output for:\n",
    "pipeline.unique_leaf_node"
   ]
  },
  {
   "cell_type": "markdown",
   "id": "18",
   "metadata": {},
   "source": [
    "We can also specify the desired output as the first argument of the pipeline function:\n"
   ]
  },
  {
   "cell_type": "code",
   "execution_count": 8,
   "id": "19",
   "metadata": {},
   "outputs": [
    {
     "name": "stdout",
     "output_type": "stream",
     "text": [
      "2025-01-13 19:41:11.700447 - Function returning 'c' was invoked as `f(a=1, b=2)` and returned `3`. The execution time was 8.21e-04 seconds on average.\n",
      "2025-01-13 19:41:11.702442 - Function returning 'd' was invoked as `g(x=1, b=2, c=3)` and returned `6`. The execution time was 2.15e-04 seconds on average.\n",
      "2025-01-13 19:41:11.703611 - Function returning 'e' was invoked as `h(x=1, c=3, d=6)` and returned `18`. The execution time was 2.55e-04 seconds on average.\n",
      "`e` is: 18\n",
      "2025-01-13 19:41:11.704972 - Function returning 'c' was invoked as `f(a=1, b=2)` and returned `3`. The execution time was 6.50e-04 seconds on average.\n",
      "2025-01-13 19:41:11.706251 - Function returning 'd' was invoked as `g(x=1, b=2, c=3)` and returned `6`. The execution time was 3.32e-04 seconds on average.\n",
      "`d` is: 6\n"
     ]
    }
   ],
   "source": [
    "print(\"`e` is:\", pipeline(\"e\", a=1, b=2))\n",
    "print(\"`d` is:\", pipeline(\"d\", a=1, b=2))"
   ]
  },
  {
   "cell_type": "markdown",
   "id": "20",
   "metadata": {},
   "source": [
    "### Using `pipeline.run(...)` (Sequential Execution)\n",
    "\n",
    "Similar to calling the `pipeline` object, we can use the `run` method to execute the pipeline.\n",
    "\n",
    "> Note: The `pipeline(...)` call is just a wrapper around the `run` method.\n"
   ]
  },
  {
   "cell_type": "code",
   "execution_count": 9,
   "id": "21",
   "metadata": {},
   "outputs": [
    {
     "name": "stdout",
     "output_type": "stream",
     "text": [
      "2025-01-13 19:41:11.842863 - Function returning 'c' was invoked as `f(a=1, b=2)` and returned `3`. The execution time was 6.31e-04 seconds on average.\n",
      "2025-01-13 19:41:11.844270 - Function returning 'd' was invoked as `g(x=1, b=2, c=3)` and returned `6`. The execution time was 3.06e-04 seconds on average.\n",
      "2025-01-13 19:41:11.844961 - Function returning 'e' was invoked as `h(x=1, c=3, d=6)` and returned `18`. The execution time was 2.53e-04 seconds on average.\n",
      "18\n"
     ]
    }
   ],
   "source": [
    "result = pipeline.run(\"e\", kwargs={\"a\": 1, \"b\": 2})\n",
    "print(result)"
   ]
  },
  {
   "cell_type": "markdown",
   "id": "22",
   "metadata": {},
   "source": [
    "or get _*all*_ function outputs and inputs by specifying `full_output=True`:\n"
   ]
  },
  {
   "cell_type": "code",
   "execution_count": 10,
   "id": "23",
   "metadata": {},
   "outputs": [
    {
     "name": "stdout",
     "output_type": "stream",
     "text": [
      "2025-01-13 19:41:12.028466 - Function returning 'c' was invoked as `f(a=1, b=2)` and returned `3`. The execution time was 5.57e-04 seconds on average.\n",
      "2025-01-13 19:41:12.029241 - Function returning 'd' was invoked as `g(x=1, b=2, c=3)` and returned `6`. The execution time was 3.07e-04 seconds on average.\n",
      "2025-01-13 19:41:12.029476 - Function returning 'e' was invoked as `h(x=1, c=3, d=6)` and returned `18`. The execution time was 2.07e-04 seconds on average.\n",
      "{'a': 1, 'b': 2, 'c': 3, 'd': 6, 'e': 18}\n"
     ]
    }
   ],
   "source": [
    "result = pipeline.run(\"e\", kwargs={\"a\": 1, \"b\": 2}, full_output=True)\n",
    "print(result)"
   ]
  },
  {
   "cell_type": "markdown",
   "id": "24",
   "metadata": {},
   "source": [
    "### Using `pipeline.map(...)` (Parallel Execution)"
   ]
  },
  {
   "cell_type": "markdown",
   "id": "25",
   "metadata": {},
   "source": [
    "`pipeline.map` allows you to execute your pipeline over a set of inputs in parallel.\n",
    "\n",
    "> **Note:** The `mapspec` argument in the `@pipefunc` decorator defines how inputs are mapped to outputs.\n",
    "\n",
    "> **Note:** ⚠️ The mapping computation of the pipeline is done in parallel using the `concurrent.futures.ProcessPoolExecutor` whenever `pipeline.map(..., parallel=True)` (default).\n"
   ]
  },
  {
   "cell_type": "code",
   "execution_count": 11,
   "id": "26",
   "metadata": {},
   "outputs": [
    {
     "name": "stdout",
     "output_type": "stream",
     "text": [
      "[2 4 6 8 10]\n"
     ]
    }
   ],
   "source": [
    "@pipefunc(output_name=\"y\", mapspec=\"x[i] -> y[i]\")\n",
    "def double_it(x: int) -> int:\n",
    "    assert isinstance(x, int)\n",
    "    return 2 * x\n",
    "\n",
    "\n",
    "pipeline_double = Pipeline([double_it])\n",
    "\n",
    "inputs = {\"x\": [1, 2, 3, 4, 5]}\n",
    "run_folder = \"my_run_folder\"  # save the results in this folder\n",
    "result = pipeline_double.map(inputs, run_folder)\n",
    "print(result[\"y\"].output)"
   ]
  },
  {
   "cell_type": "markdown",
   "id": "27",
   "metadata": {},
   "source": [
    "**Syntax of `mapspec`:**\n",
    "\n",
    "```\n",
    "input1[i], input2[j] -> output[i, j]\n",
    "```\n",
    "\n",
    "- **`i` and `j`** are indices over which the function maps.\n",
    "- **`input1[i]`** means the function will receive `input1` at index `i`.\n",
    "- **`output[i, j]`** means the function will produce `output` with indices `i` and `j`."
   ]
  },
  {
   "cell_type": "markdown",
   "id": "28",
   "metadata": {},
   "source": [
    "Instead of defining `mapspec` manually, you can use the `add_mapspec_axis` method on the pipeline object:"
   ]
  },
  {
   "cell_type": "code",
   "execution_count": 12,
   "id": "29",
   "metadata": {},
   "outputs": [
    {
     "data": {
      "text/html": [
       "\n",
       "        <style>\n",
       "            .progress {\n",
       "                border-radius: 5px;\n",
       "                box-shadow: 0 0 10px rgba(0, 0, 0, 0.1);\n",
       "            }\n",
       "            .progress-bar {\n",
       "                border-radius: 5px;\n",
       "                transition: width 0.4s ease;\n",
       "                background-image: linear-gradient(\n",
       "                    -45deg,\n",
       "                    rgba(255, 255, 255, 0.15) 25%,\n",
       "                    transparent 25%,\n",
       "                    transparent 50%,\n",
       "                    rgba(255, 255, 255, 0.15) 50%,\n",
       "                    rgba(255, 255, 255, 0.15) 75%,\n",
       "                    transparent 75%,\n",
       "                    transparent\n",
       "                );\n",
       "                background-size: 40px 40px;\n",
       "            }\n",
       "            .animated-progress .progress-bar {\n",
       "                animation: stripes 1s linear infinite;\n",
       "            }\n",
       "            .completed-progress .progress-bar {\n",
       "                animation: none;\n",
       "            }\n",
       "            @keyframes stripes {\n",
       "                0% {\n",
       "                    background-position: 0 0;\n",
       "                }\n",
       "                100% {\n",
       "                    background-position: 40px 0;\n",
       "                }\n",
       "            }\n",
       "            .container {\n",
       "                border-radius: 10px;\n",
       "                box-shadow: 0 0 10px rgba(0, 0, 0, 0.1);\n",
       "            }\n",
       "            .percent-label {\n",
       "                margin-left: 10px;\n",
       "                font-weight: bold;\n",
       "                color: #3366cc;\n",
       "            }\n",
       "            .estimate-label {\n",
       "                font-style: italic;\n",
       "                color: #666;\n",
       "            }\n",
       "            .speed-label {\n",
       "                font-weight: bold;\n",
       "                color: #009900;\n",
       "            }\n",
       "            .interval-label {\n",
       "                font-weight: bold;\n",
       "                color: #990000;\n",
       "            }\n",
       "            .widget-label {\n",
       "                margin-bottom: 5px;\n",
       "                color: #333;\n",
       "                font-family: monospace;\n",
       "            }\n",
       "            .widget-button {\n",
       "                margin-top: 5px;\n",
       "            }\n",
       "        </style>\n",
       "        "
      ],
      "text/plain": [
       "<IPython.core.display.HTML object>"
      ]
     },
     "metadata": {},
     "output_type": "display_data"
    },
    {
     "data": {
      "application/vnd.jupyter.widget-view+json": {
       "model_id": "262ea177d60948af81cced673ef53082",
       "version_major": 2,
       "version_minor": 0
      },
      "text/plain": [
       "VBox(children=(VBox(children=(FloatProgress(value=0.0, bar_style='info', description='c', layout=Layout(width=…"
      ]
     },
     "metadata": {},
     "output_type": "display_data"
    },
    {
     "data": {
      "text/plain": [
       "array([[48, 100],\n",
       "       [75, 144]], dtype=object)"
      ]
     },
     "execution_count": 12,
     "metadata": {},
     "output_type": "execute_result"
    }
   ],
   "source": [
    "# Take `pipeline` defined above and add a 2D mapspec\n",
    "pipeline2 = pipeline.copy()\n",
    "pipeline2.debug = False  # Turn off debugging print statements\n",
    "pipeline2.add_mapspec_axis(\"a\", axis=\"i\")\n",
    "pipeline2.add_mapspec_axis(\"b\", axis=\"j\")\n",
    "run_folder = \"my_run_folder\"\n",
    "result = pipeline2.map({\"a\": [1, 2], \"b\": [3, 4]}, run_folder, show_progress=True)\n",
    "result[\"e\"].output  # This is now a 2D array"
   ]
  },
  {
   "cell_type": "markdown",
   "id": "30",
   "metadata": {},
   "source": [
    "The methods above will automatically generate the `mapspec` for you, which is now:"
   ]
  },
  {
   "cell_type": "code",
   "execution_count": 13,
   "id": "31",
   "metadata": {},
   "outputs": [
    {
     "data": {
      "text/plain": [
       "['a[i], b[j] -> c[i, j]',\n",
       " 'c[i, j], b[j] -> d[i, j]',\n",
       " 'd[i, j], c[i, j] -> e[i, j]']"
      ]
     },
     "execution_count": 13,
     "metadata": {},
     "output_type": "execute_result"
    }
   ],
   "source": [
    "pipeline2.mapspecs_as_strings"
   ]
  },
  {
   "cell_type": "markdown",
   "id": "32",
   "metadata": {},
   "source": [
    "The `pipeline.map` method is powerful and can handle complex map-reduce operations, which we will demonstrate next."
   ]
  },
  {
   "cell_type": "markdown",
   "id": "33",
   "metadata": {},
   "source": [
    "#### Map-reduce or fan-in / fan-out operations\n",
    "\n",
    "The script below demonstrates a two-step pipeline: doubling each integer in an input list, followed by summing all the doubled values.\n"
   ]
  },
  {
   "cell_type": "code",
   "execution_count": null,
   "id": "34",
   "metadata": {},
   "outputs": [
    {
     "name": "stdout",
     "output_type": "stream",
     "text": [
      "{'y': <class 'int'>} y\n",
      "{'sum': <class 'int'>} sum\n",
      "Hints in viz {'y': typing.Annotated[numpy.ndarray[typing.Any, numpy.dtype[numpy.object_]], pipefunc.typing.ArrayElementType[int]], 'x': <class 'int'>, 'sum': <class 'int'>}\n"
     ]
    },
    {
     "data": {
      "application/vnd.jupyter.widget-view+json": {
       "model_id": "1a562e1e095e4ae48c7c24344216e3b7",
       "version_major": 2,
       "version_minor": 0
      },
      "text/plain": [
       "VBox(children=(HBox(children=(Button(description='Reset Zoom', style=ButtonStyle()), Dropdown(description='Dir…"
      ]
     },
     "execution_count": 14,
     "metadata": {},
     "output_type": "execute_result"
    }
   ],
   "source": [
    "import numpy as np\n",
    "\n",
    "from pipefunc import Pipeline, pipefunc\n",
    "from pipefunc.typing import Array\n",
    "\n",
    "\n",
    "@pipefunc(output_name=\"y\", mapspec=\"x[i] -> y[i]\")\n",
    "def double_it(x: int) -> int:\n",
    "    assert isinstance(x, int)\n",
    "    return 2 * x\n",
    "\n",
    "\n",
    "@pipefunc(output_name=\"sum\")  # no mapspec, so receives y[:] as input\n",
    "def take_sum(y: Array[int]) -> int:\n",
    "    assert isinstance(y, np.ndarray)\n",
    "    return sum(y)\n",
    "\n",
    "\n",
    "pipeline_map = Pipeline([double_it, take_sum])\n",
    "pipeline_map.visualize()"
   ]
  },
  {
   "cell_type": "markdown",
   "id": "35",
   "metadata": {},
   "source": [
    ":::{admonition} What is `mapspec`?\n",
    ":class: note, dropdown\n",
    "\n",
    "In `double_it`, `mapspec=\"x[i] -> y[i]\"` specifies that each element `i` of the input array `x` is independently processed to produce the corresponding element `i` in the output array `y`.\n",
    "Because `take_sum` does not have a `mapspec`, it receives the entire array `y` for aggregation.\n",
    ":::"
   ]
  },
  {
   "cell_type": "markdown",
   "id": "36",
   "metadata": {},
   "source": [
    "Note that the mapspecs are present in the plot. For example, `x` is now `x[i]`."
   ]
  },
  {
   "cell_type": "code",
   "execution_count": 15,
   "id": "37",
   "metadata": {},
   "outputs": [],
   "source": [
    "inputs = {\"x\": [0, 1, 2, 3]}\n",
    "run_folder = \"my_run_folder\"\n",
    "results = pipeline_map.map(inputs, run_folder=run_folder)"
   ]
  },
  {
   "cell_type": "markdown",
   "id": "38",
   "metadata": {},
   "source": [
    "Check the results in the resulting dict"
   ]
  },
  {
   "cell_type": "code",
   "execution_count": 16,
   "id": "39",
   "metadata": {},
   "outputs": [],
   "source": [
    "assert results[\"y\"].output.tolist() == [0, 2, 4, 6]\n",
    "assert results[\"sum\"].output == 12"
   ]
  },
  {
   "cell_type": "markdown",
   "id": "40",
   "metadata": {},
   "source": [
    "Or load the outputs from disk"
   ]
  },
  {
   "cell_type": "code",
   "execution_count": 17,
   "id": "41",
   "metadata": {},
   "outputs": [],
   "source": [
    "from pipefunc.map import load_outputs\n",
    "\n",
    "assert load_outputs(\"y\", run_folder=run_folder).tolist() == [0, 2, 4, 6]\n",
    "assert load_outputs(\"sum\", run_folder=run_folder) == 12"
   ]
  },
  {
   "cell_type": "markdown",
   "id": "42",
   "metadata": {},
   "source": [
    "Or also load from disk but as an `xarray.Dataset`:"
   ]
  },
  {
   "cell_type": "code",
   "execution_count": 18,
   "id": "43",
   "metadata": {},
   "outputs": [
    {
     "data": {
      "text/html": [
       "<div><svg style=\"position: absolute; width: 0; height: 0; overflow: hidden\">\n",
       "<defs>\n",
       "<symbol id=\"icon-database\" viewBox=\"0 0 32 32\">\n",
       "<path d=\"M16 0c-8.837 0-16 2.239-16 5v4c0 2.761 7.163 5 16 5s16-2.239 16-5v-4c0-2.761-7.163-5-16-5z\"></path>\n",
       "<path d=\"M16 17c-8.837 0-16-2.239-16-5v6c0 2.761 7.163 5 16 5s16-2.239 16-5v-6c0 2.761-7.163 5-16 5z\"></path>\n",
       "<path d=\"M16 26c-8.837 0-16-2.239-16-5v6c0 2.761 7.163 5 16 5s16-2.239 16-5v-6c0 2.761-7.163 5-16 5z\"></path>\n",
       "</symbol>\n",
       "<symbol id=\"icon-file-text2\" viewBox=\"0 0 32 32\">\n",
       "<path d=\"M28.681 7.159c-0.694-0.947-1.662-2.053-2.724-3.116s-2.169-2.030-3.116-2.724c-1.612-1.182-2.393-1.319-2.841-1.319h-15.5c-1.378 0-2.5 1.121-2.5 2.5v27c0 1.378 1.122 2.5 2.5 2.5h23c1.378 0 2.5-1.122 2.5-2.5v-19.5c0-0.448-0.137-1.23-1.319-2.841zM24.543 5.457c0.959 0.959 1.712 1.825 2.268 2.543h-4.811v-4.811c0.718 0.556 1.584 1.309 2.543 2.268zM28 29.5c0 0.271-0.229 0.5-0.5 0.5h-23c-0.271 0-0.5-0.229-0.5-0.5v-27c0-0.271 0.229-0.5 0.5-0.5 0 0 15.499-0 15.5 0v7c0 0.552 0.448 1 1 1h7v19.5z\"></path>\n",
       "<path d=\"M23 26h-14c-0.552 0-1-0.448-1-1s0.448-1 1-1h14c0.552 0 1 0.448 1 1s-0.448 1-1 1z\"></path>\n",
       "<path d=\"M23 22h-14c-0.552 0-1-0.448-1-1s0.448-1 1-1h14c0.552 0 1 0.448 1 1s-0.448 1-1 1z\"></path>\n",
       "<path d=\"M23 18h-14c-0.552 0-1-0.448-1-1s0.448-1 1-1h14c0.552 0 1 0.448 1 1s-0.448 1-1 1z\"></path>\n",
       "</symbol>\n",
       "</defs>\n",
       "</svg>\n",
       "<style>/* CSS stylesheet for displaying xarray objects in jupyterlab.\n",
       " *\n",
       " */\n",
       "\n",
       ":root {\n",
       "  --xr-font-color0: var(--jp-content-font-color0, rgba(0, 0, 0, 1));\n",
       "  --xr-font-color2: var(--jp-content-font-color2, rgba(0, 0, 0, 0.54));\n",
       "  --xr-font-color3: var(--jp-content-font-color3, rgba(0, 0, 0, 0.38));\n",
       "  --xr-border-color: var(--jp-border-color2, #e0e0e0);\n",
       "  --xr-disabled-color: var(--jp-layout-color3, #bdbdbd);\n",
       "  --xr-background-color: var(--jp-layout-color0, white);\n",
       "  --xr-background-color-row-even: var(--jp-layout-color1, white);\n",
       "  --xr-background-color-row-odd: var(--jp-layout-color2, #eeeeee);\n",
       "}\n",
       "\n",
       "html[theme=\"dark\"],\n",
       "html[data-theme=\"dark\"],\n",
       "body[data-theme=\"dark\"],\n",
       "body.vscode-dark {\n",
       "  --xr-font-color0: rgba(255, 255, 255, 1);\n",
       "  --xr-font-color2: rgba(255, 255, 255, 0.54);\n",
       "  --xr-font-color3: rgba(255, 255, 255, 0.38);\n",
       "  --xr-border-color: #1f1f1f;\n",
       "  --xr-disabled-color: #515151;\n",
       "  --xr-background-color: #111111;\n",
       "  --xr-background-color-row-even: #111111;\n",
       "  --xr-background-color-row-odd: #313131;\n",
       "}\n",
       "\n",
       ".xr-wrap {\n",
       "  display: block !important;\n",
       "  min-width: 300px;\n",
       "  max-width: 700px;\n",
       "}\n",
       "\n",
       ".xr-text-repr-fallback {\n",
       "  /* fallback to plain text repr when CSS is not injected (untrusted notebook) */\n",
       "  display: none;\n",
       "}\n",
       "\n",
       ".xr-header {\n",
       "  padding-top: 6px;\n",
       "  padding-bottom: 6px;\n",
       "  margin-bottom: 4px;\n",
       "  border-bottom: solid 1px var(--xr-border-color);\n",
       "}\n",
       "\n",
       ".xr-header > div,\n",
       ".xr-header > ul {\n",
       "  display: inline;\n",
       "  margin-top: 0;\n",
       "  margin-bottom: 0;\n",
       "}\n",
       "\n",
       ".xr-obj-type,\n",
       ".xr-array-name {\n",
       "  margin-left: 2px;\n",
       "  margin-right: 10px;\n",
       "}\n",
       "\n",
       ".xr-obj-type {\n",
       "  color: var(--xr-font-color2);\n",
       "}\n",
       "\n",
       ".xr-sections {\n",
       "  padding-left: 0 !important;\n",
       "  display: grid;\n",
       "  grid-template-columns: 150px auto auto 1fr 0 20px 0 20px;\n",
       "}\n",
       "\n",
       ".xr-section-item {\n",
       "  display: contents;\n",
       "}\n",
       "\n",
       ".xr-section-item input {\n",
       "  display: inline-block;\n",
       "  opacity: 0;\n",
       "  height: 0;\n",
       "}\n",
       "\n",
       ".xr-section-item input + label {\n",
       "  color: var(--xr-disabled-color);\n",
       "}\n",
       "\n",
       ".xr-section-item input:enabled + label {\n",
       "  cursor: pointer;\n",
       "  color: var(--xr-font-color2);\n",
       "}\n",
       "\n",
       ".xr-section-item input:focus + label {\n",
       "  border: 2px solid var(--xr-font-color0);\n",
       "}\n",
       "\n",
       ".xr-section-item input:enabled + label:hover {\n",
       "  color: var(--xr-font-color0);\n",
       "}\n",
       "\n",
       ".xr-section-summary {\n",
       "  grid-column: 1;\n",
       "  color: var(--xr-font-color2);\n",
       "  font-weight: 500;\n",
       "}\n",
       "\n",
       ".xr-section-summary > span {\n",
       "  display: inline-block;\n",
       "  padding-left: 0.5em;\n",
       "}\n",
       "\n",
       ".xr-section-summary-in:disabled + label {\n",
       "  color: var(--xr-font-color2);\n",
       "}\n",
       "\n",
       ".xr-section-summary-in + label:before {\n",
       "  display: inline-block;\n",
       "  content: \"►\";\n",
       "  font-size: 11px;\n",
       "  width: 15px;\n",
       "  text-align: center;\n",
       "}\n",
       "\n",
       ".xr-section-summary-in:disabled + label:before {\n",
       "  color: var(--xr-disabled-color);\n",
       "}\n",
       "\n",
       ".xr-section-summary-in:checked + label:before {\n",
       "  content: \"▼\";\n",
       "}\n",
       "\n",
       ".xr-section-summary-in:checked + label > span {\n",
       "  display: none;\n",
       "}\n",
       "\n",
       ".xr-section-summary,\n",
       ".xr-section-inline-details {\n",
       "  padding-top: 4px;\n",
       "  padding-bottom: 4px;\n",
       "}\n",
       "\n",
       ".xr-section-inline-details {\n",
       "  grid-column: 2 / -1;\n",
       "}\n",
       "\n",
       ".xr-section-details {\n",
       "  display: none;\n",
       "  grid-column: 1 / -1;\n",
       "  margin-bottom: 5px;\n",
       "}\n",
       "\n",
       ".xr-section-summary-in:checked ~ .xr-section-details {\n",
       "  display: contents;\n",
       "}\n",
       "\n",
       ".xr-array-wrap {\n",
       "  grid-column: 1 / -1;\n",
       "  display: grid;\n",
       "  grid-template-columns: 20px auto;\n",
       "}\n",
       "\n",
       ".xr-array-wrap > label {\n",
       "  grid-column: 1;\n",
       "  vertical-align: top;\n",
       "}\n",
       "\n",
       ".xr-preview {\n",
       "  color: var(--xr-font-color3);\n",
       "}\n",
       "\n",
       ".xr-array-preview,\n",
       ".xr-array-data {\n",
       "  padding: 0 5px !important;\n",
       "  grid-column: 2;\n",
       "}\n",
       "\n",
       ".xr-array-data,\n",
       ".xr-array-in:checked ~ .xr-array-preview {\n",
       "  display: none;\n",
       "}\n",
       "\n",
       ".xr-array-in:checked ~ .xr-array-data,\n",
       ".xr-array-preview {\n",
       "  display: inline-block;\n",
       "}\n",
       "\n",
       ".xr-dim-list {\n",
       "  display: inline-block !important;\n",
       "  list-style: none;\n",
       "  padding: 0 !important;\n",
       "  margin: 0;\n",
       "}\n",
       "\n",
       ".xr-dim-list li {\n",
       "  display: inline-block;\n",
       "  padding: 0;\n",
       "  margin: 0;\n",
       "}\n",
       "\n",
       ".xr-dim-list:before {\n",
       "  content: \"(\";\n",
       "}\n",
       "\n",
       ".xr-dim-list:after {\n",
       "  content: \")\";\n",
       "}\n",
       "\n",
       ".xr-dim-list li:not(:last-child):after {\n",
       "  content: \",\";\n",
       "  padding-right: 5px;\n",
       "}\n",
       "\n",
       ".xr-has-index {\n",
       "  font-weight: bold;\n",
       "}\n",
       "\n",
       ".xr-var-list,\n",
       ".xr-var-item {\n",
       "  display: contents;\n",
       "}\n",
       "\n",
       ".xr-var-item > div,\n",
       ".xr-var-item label,\n",
       ".xr-var-item > .xr-var-name span {\n",
       "  background-color: var(--xr-background-color-row-even);\n",
       "  margin-bottom: 0;\n",
       "}\n",
       "\n",
       ".xr-var-item > .xr-var-name:hover span {\n",
       "  padding-right: 5px;\n",
       "}\n",
       "\n",
       ".xr-var-list > li:nth-child(odd) > div,\n",
       ".xr-var-list > li:nth-child(odd) > label,\n",
       ".xr-var-list > li:nth-child(odd) > .xr-var-name span {\n",
       "  background-color: var(--xr-background-color-row-odd);\n",
       "}\n",
       "\n",
       ".xr-var-name {\n",
       "  grid-column: 1;\n",
       "}\n",
       "\n",
       ".xr-var-dims {\n",
       "  grid-column: 2;\n",
       "}\n",
       "\n",
       ".xr-var-dtype {\n",
       "  grid-column: 3;\n",
       "  text-align: right;\n",
       "  color: var(--xr-font-color2);\n",
       "}\n",
       "\n",
       ".xr-var-preview {\n",
       "  grid-column: 4;\n",
       "}\n",
       "\n",
       ".xr-index-preview {\n",
       "  grid-column: 2 / 5;\n",
       "  color: var(--xr-font-color2);\n",
       "}\n",
       "\n",
       ".xr-var-name,\n",
       ".xr-var-dims,\n",
       ".xr-var-dtype,\n",
       ".xr-preview,\n",
       ".xr-attrs dt {\n",
       "  white-space: nowrap;\n",
       "  overflow: hidden;\n",
       "  text-overflow: ellipsis;\n",
       "  padding-right: 10px;\n",
       "}\n",
       "\n",
       ".xr-var-name:hover,\n",
       ".xr-var-dims:hover,\n",
       ".xr-var-dtype:hover,\n",
       ".xr-attrs dt:hover {\n",
       "  overflow: visible;\n",
       "  width: auto;\n",
       "  z-index: 1;\n",
       "}\n",
       "\n",
       ".xr-var-attrs,\n",
       ".xr-var-data,\n",
       ".xr-index-data {\n",
       "  display: none;\n",
       "  background-color: var(--xr-background-color) !important;\n",
       "  padding-bottom: 5px !important;\n",
       "}\n",
       "\n",
       ".xr-var-attrs-in:checked ~ .xr-var-attrs,\n",
       ".xr-var-data-in:checked ~ .xr-var-data,\n",
       ".xr-index-data-in:checked ~ .xr-index-data {\n",
       "  display: block;\n",
       "}\n",
       "\n",
       ".xr-var-data > table {\n",
       "  float: right;\n",
       "}\n",
       "\n",
       ".xr-var-name span,\n",
       ".xr-var-data,\n",
       ".xr-index-name div,\n",
       ".xr-index-data,\n",
       ".xr-attrs {\n",
       "  padding-left: 25px !important;\n",
       "}\n",
       "\n",
       ".xr-attrs,\n",
       ".xr-var-attrs,\n",
       ".xr-var-data,\n",
       ".xr-index-data {\n",
       "  grid-column: 1 / -1;\n",
       "}\n",
       "\n",
       "dl.xr-attrs {\n",
       "  padding: 0;\n",
       "  margin: 0;\n",
       "  display: grid;\n",
       "  grid-template-columns: 125px auto;\n",
       "}\n",
       "\n",
       ".xr-attrs dt,\n",
       ".xr-attrs dd {\n",
       "  padding: 0;\n",
       "  margin: 0;\n",
       "  float: left;\n",
       "  padding-right: 10px;\n",
       "  width: auto;\n",
       "}\n",
       "\n",
       ".xr-attrs dt {\n",
       "  font-weight: normal;\n",
       "  grid-column: 1;\n",
       "}\n",
       "\n",
       ".xr-attrs dt:hover span {\n",
       "  display: inline-block;\n",
       "  background: var(--xr-background-color);\n",
       "  padding-right: 10px;\n",
       "}\n",
       "\n",
       ".xr-attrs dd {\n",
       "  grid-column: 2;\n",
       "  white-space: pre-wrap;\n",
       "  word-break: break-all;\n",
       "}\n",
       "\n",
       ".xr-icon-database,\n",
       ".xr-icon-file-text2,\n",
       ".xr-no-icon {\n",
       "  display: inline-block;\n",
       "  vertical-align: middle;\n",
       "  width: 1em;\n",
       "  height: 1.5em !important;\n",
       "  stroke-width: 0;\n",
       "  stroke: currentColor;\n",
       "  fill: currentColor;\n",
       "}\n",
       "</style><pre class='xr-text-repr-fallback'>&lt;xarray.Dataset&gt; Size: 72B\n",
       "Dimensions:  (i: 4)\n",
       "Coordinates:\n",
       "    x        (i) int64 32B 0 1 2 3\n",
       "Dimensions without coordinates: i\n",
       "Data variables:\n",
       "    y        (i) object 32B 0 2 4 6\n",
       "    sum      int64 8B 12</pre><div class='xr-wrap' style='display:none'><div class='xr-header'><div class='xr-obj-type'>xarray.Dataset</div></div><ul class='xr-sections'><li class='xr-section-item'><input id='section-6f31bd8c-a38d-43c1-b906-989e6b52dd30' class='xr-section-summary-in' type='checkbox' disabled ><label for='section-6f31bd8c-a38d-43c1-b906-989e6b52dd30' class='xr-section-summary'  title='Expand/collapse section'>Dimensions:</label><div class='xr-section-inline-details'><ul class='xr-dim-list'><li><span>i</span>: 4</li></ul></div><div class='xr-section-details'></div></li><li class='xr-section-item'><input id='section-b0011b64-b930-4fb0-9e38-c7a9dbcfcceb' class='xr-section-summary-in' type='checkbox'  checked><label for='section-b0011b64-b930-4fb0-9e38-c7a9dbcfcceb' class='xr-section-summary' >Coordinates: <span>(1)</span></label><div class='xr-section-inline-details'></div><div class='xr-section-details'><ul class='xr-var-list'><li class='xr-var-item'><div class='xr-var-name'><span>x</span></div><div class='xr-var-dims'>(i)</div><div class='xr-var-dtype'>int64</div><div class='xr-var-preview xr-preview'>0 1 2 3</div><input id='attrs-52f5b294-20c8-46b8-8d21-f81afc917bfd' class='xr-var-attrs-in' type='checkbox' disabled><label for='attrs-52f5b294-20c8-46b8-8d21-f81afc917bfd' title='Show/Hide attributes'><svg class='icon xr-icon-file-text2'><use xlink:href='#icon-file-text2'></use></svg></label><input id='data-d268e448-d778-4014-9b77-a7e7edcfa4d0' class='xr-var-data-in' type='checkbox'><label for='data-d268e448-d778-4014-9b77-a7e7edcfa4d0' title='Show/Hide data repr'><svg class='icon xr-icon-database'><use xlink:href='#icon-database'></use></svg></label><div class='xr-var-attrs'><dl class='xr-attrs'></dl></div><div class='xr-var-data'><pre>array([0, 1, 2, 3])</pre></div></li></ul></div></li><li class='xr-section-item'><input id='section-dcfc5188-0206-4fa2-8632-d4caced4c51f' class='xr-section-summary-in' type='checkbox'  checked><label for='section-dcfc5188-0206-4fa2-8632-d4caced4c51f' class='xr-section-summary' >Data variables: <span>(2)</span></label><div class='xr-section-inline-details'></div><div class='xr-section-details'><ul class='xr-var-list'><li class='xr-var-item'><div class='xr-var-name'><span>y</span></div><div class='xr-var-dims'>(i)</div><div class='xr-var-dtype'>object</div><div class='xr-var-preview xr-preview'>0 2 4 6</div><input id='attrs-ba073294-367d-41ad-81eb-a2bb8116643c' class='xr-var-attrs-in' type='checkbox' disabled><label for='attrs-ba073294-367d-41ad-81eb-a2bb8116643c' title='Show/Hide attributes'><svg class='icon xr-icon-file-text2'><use xlink:href='#icon-file-text2'></use></svg></label><input id='data-3d6a29bd-82f8-4b36-8280-897ca0ebde34' class='xr-var-data-in' type='checkbox'><label for='data-3d6a29bd-82f8-4b36-8280-897ca0ebde34' title='Show/Hide data repr'><svg class='icon xr-icon-database'><use xlink:href='#icon-database'></use></svg></label><div class='xr-var-attrs'><dl class='xr-attrs'></dl></div><div class='xr-var-data'><pre>array([0, 2, 4, 6], dtype=object)</pre></div></li><li class='xr-var-item'><div class='xr-var-name'><span>sum</span></div><div class='xr-var-dims'>()</div><div class='xr-var-dtype'>int64</div><div class='xr-var-preview xr-preview'>12</div><input id='attrs-c46242b2-6850-4d6f-b580-d9897e51e6b9' class='xr-var-attrs-in' type='checkbox' disabled><label for='attrs-c46242b2-6850-4d6f-b580-d9897e51e6b9' title='Show/Hide attributes'><svg class='icon xr-icon-file-text2'><use xlink:href='#icon-file-text2'></use></svg></label><input id='data-8e38e262-0fe0-49ec-b31b-980271cdaabc' class='xr-var-data-in' type='checkbox'><label for='data-8e38e262-0fe0-49ec-b31b-980271cdaabc' title='Show/Hide data repr'><svg class='icon xr-icon-database'><use xlink:href='#icon-database'></use></svg></label><div class='xr-var-attrs'><dl class='xr-attrs'></dl></div><div class='xr-var-data'><pre>array(12)</pre></div></li></ul></div></li><li class='xr-section-item'><input id='section-43d9f99a-41dc-4090-8f85-cc128f683763' class='xr-section-summary-in' type='checkbox' disabled ><label for='section-43d9f99a-41dc-4090-8f85-cc128f683763' class='xr-section-summary'  title='Expand/collapse section'>Indexes: <span>(0)</span></label><div class='xr-section-inline-details'></div><div class='xr-section-details'><ul class='xr-var-list'></ul></div></li><li class='xr-section-item'><input id='section-8aa9ee66-3d28-49ca-bc67-cd1adb189793' class='xr-section-summary-in' type='checkbox' disabled ><label for='section-8aa9ee66-3d28-49ca-bc67-cd1adb189793' class='xr-section-summary'  title='Expand/collapse section'>Attributes: <span>(0)</span></label><div class='xr-section-inline-details'></div><div class='xr-section-details'><dl class='xr-attrs'></dl></div></li></ul></div></div>"
      ],
      "text/plain": [
       "<xarray.Dataset> Size: 72B\n",
       "Dimensions:  (i: 4)\n",
       "Coordinates:\n",
       "    x        (i) int64 32B 0 1 2 3\n",
       "Dimensions without coordinates: i\n",
       "Data variables:\n",
       "    y        (i) object 32B 0 2 4 6\n",
       "    sum      int64 8B 12"
      ]
     },
     "execution_count": 18,
     "metadata": {},
     "output_type": "execute_result"
    }
   ],
   "source": [
    "from pipefunc.map import load_xarray_dataset\n",
    "\n",
    "load_xarray_dataset(run_folder=run_folder)"
   ]
  },
  {
   "cell_type": "markdown",
   "id": "44",
   "metadata": {},
   "source": [
    "## Advanced features\n",
    "\n",
    "Below are some advanced features of the `pipefunc` package.\n",
    "You will find more features in the [FAQ](https://pipefunc.readthedocs.io/en/latest/faq/)."
   ]
  },
  {
   "cell_type": "markdown",
   "id": "45",
   "metadata": {},
   "source": [
    "---\n",
    "\n",
    "### Working with Resources Report\n",
    "\n",
    "The `print_profiling_stats()` method of the `pipeline` provides useful information on the performance of the functions in the pipeline such as CPU usage, memory usage, average time, and the number of times each function was called.\n",
    "This feature is only available if `profile=True` when creating the pipeline."
   ]
  },
  {
   "cell_type": "code",
   "execution_count": 19,
   "id": "46",
   "metadata": {},
   "outputs": [
    {
     "name": "stdout",
     "output_type": "stream",
     "text": [
      "Resource Usage Report:\n",
      "---------+-------------------+-----------------------+--------------+----------------+----------------\n",
      "Function | Avg CPU Usage (%) | Max Memory Usage (MB) | Avg Time (s) | Total Time (%) | Number of Calls\n",
      "-------- | ----------------- | --------------------- | ------------ | -------------- | ---------------\n",
      "f        | 0.00              | 0.00                  | 5.57e-04     | 54.12          | 5              \n",
      "g        | 0.00              | 0.00                  | 3.07e-04     | 29.79          | 5              \n",
      "h        | 0.00              | 0.00                  | 2.07e-04     | 16.09          | 4              \n",
      "---------+-------------------+-----------------------+--------------+----------------+----------------\n"
     ]
    }
   ],
   "source": [
    "# This will print the number of times each function was called\n",
    "# CPU, memory, and time usage is also reported\n",
    "pipeline.print_profiling_stats()"
   ]
  },
  {
   "cell_type": "markdown",
   "id": "47",
   "metadata": {},
   "source": [
    "This report can be beneficial in performance tuning and identifying bottlenecks in your pipeline. You can identify which functions are consuming the most resources and adjust your pipeline accordingly.\n",
    "\n",
    "You can also look all the stats directly with:\n"
   ]
  },
  {
   "cell_type": "code",
   "execution_count": 20,
   "id": "48",
   "metadata": {},
   "outputs": [
    {
     "data": {
      "text/plain": [
       "{'f': ProfilingStats(cpu=ResourceStats(num_executions=0, average=0.0000e+00, max=0.0000e+00, std=0.0000e+00), memory=ResourceStats(num_executions=0, average=0.0000e+00, max=0.0000e+00, std=0.0000e+00), time=ResourceStats(num_executions=5, average=5.5730e-04, max=8.6852e-04, std=2.7069e-04)),\n",
       " 'g': ProfilingStats(cpu=ResourceStats(num_executions=0, average=0.0000e+00, max=0.0000e+00, std=0.0000e+00), memory=ResourceStats(num_executions=0, average=0.0000e+00, max=0.0000e+00, std=0.0000e+00), time=ResourceStats(num_executions=5, average=3.0682e-04, max=5.6602e-04, std=1.6094e-04)),\n",
       " 'h': ProfilingStats(cpu=ResourceStats(num_executions=0, average=0.0000e+00, max=0.0000e+00, std=0.0000e+00), memory=ResourceStats(num_executions=0, average=0.0000e+00, max=0.0000e+00, std=0.0000e+00), time=ResourceStats(num_executions=4, average=2.0712e-04, max=3.6952e-04, std=1.3144e-04))}"
      ]
     },
     "execution_count": 20,
     "metadata": {},
     "output_type": "execute_result"
    }
   ],
   "source": [
    "pipeline.profiling_stats"
   ]
  },
  {
   "cell_type": "markdown",
   "id": "49",
   "metadata": {},
   "source": [
    " ---\n",
    "\n",
    "### Handling Multiple Outputs\n",
    "\n",
    "Functions can return multiple results at once.\n",
    "The `output_name` argument allows you to specify multiple outputs by providing a tuple of strings.\n",
    "By default, this assumes the output is a `tuple`.\n",
    "However, if you provide a `output_picker` function, you can return any type of object.\n",
    "As long as the output name can be used to get the desired output from the returned object."
   ]
  },
  {
   "cell_type": "code",
   "execution_count": null,
   "id": "50",
   "metadata": {},
   "outputs": [
    {
     "name": "stdout",
     "output_type": "stream",
     "text": [
      "{} ('c', 'const')\n",
      "{} ('d', 'e')\n",
      "{} ('g', 'h')\n",
      "{} i\n",
      "Hints in viz {}\n"
     ]
    },
    {
     "data": {
      "application/vnd.jupyter.widget-view+json": {
       "model_id": "b2ef685950c5400cac3936b02e92435d",
       "version_major": 2,
       "version_minor": 0
      },
      "text/plain": [
       "VBox(children=(HBox(children=(Button(description='Reset Zoom', style=ButtonStyle()), Dropdown(description='Dir…"
      ]
     },
     "execution_count": 21,
     "metadata": {},
     "output_type": "execute_result"
    }
   ],
   "source": [
    "from pipefunc import Pipeline, pipefunc\n",
    "\n",
    "\n",
    "# Returns 2 outputs as a tuple: 'c' and 'const'.\n",
    "@pipefunc(output_name=(\"c\", \"const\"))\n",
    "def add_ab(a, b):\n",
    "    return (a + b, 1)\n",
    "\n",
    "\n",
    "def get_dict_output(output, key):\n",
    "    return output[key]\n",
    "\n",
    "\n",
    "# Function that returns a dictionary, output_picker is used\n",
    "# to pick out \"d\" and \"e\".\n",
    "@pipefunc(output_name=(\"d\", \"e\"), output_picker=get_dict_output)\n",
    "def mul_bc(b, c, x=1):\n",
    "    return {\"d\": b * c, \"e\": x}\n",
    "\n",
    "\n",
    "# Function returns an object with attributes 'g' and 'h'.\n",
    "# output_picker is used to pick out 'g' and 'h'.\n",
    "@pipefunc(output_name=(\"g\", \"h\"), output_picker=getattr)\n",
    "def calc_cde(c, d, e, x):\n",
    "    from types import SimpleNamespace\n",
    "\n",
    "    return SimpleNamespace(g=c * d * x, h=c + e)\n",
    "\n",
    "\n",
    "# Define a function add_gh with a single output 'i'.\n",
    "@pipefunc(output_name=\"i\")\n",
    "def add_gh(e, g):\n",
    "    return e + g\n",
    "\n",
    "\n",
    "# Create a pipeline with the defined functions and visualize it.\n",
    "pipeline_multiple = Pipeline([add_ab, mul_bc, calc_cde, add_gh])\n",
    "pipeline_multiple.visualize()"
   ]
  },
  {
   "cell_type": "code",
   "execution_count": 22,
   "id": "51",
   "metadata": {},
   "outputs": [
    {
     "data": {
      "text/plain": [
       "57"
      ]
     },
     "execution_count": 22,
     "metadata": {},
     "output_type": "execute_result"
    }
   ],
   "source": [
    "pipeline_multiple(a=1, b=2, x=3)"
   ]
  },
  {
   "cell_type": "markdown",
   "id": "52",
   "metadata": {},
   "source": [
    "---\n",
    "\n",
    "### Using the `renames` Feature\n",
    "\n",
    "The `renames` attribute in `pipefunc` allows you to rename the inputs and outputs of a function before passing them to the next step in the pipeline.\n",
    "This can be particularly useful when the same function is used multiple times in a pipeline, or when you want to provide more meaningful names to the inputs and outputs.\n",
    "\n",
    "In the example below, we demonstrate how to use the `renames` attribute to rename the inputs of a function before they are passed to the next step in the pipeline.\n",
    "\n",
    "> ⚠️ Instead of using the `@pipefunc` decorator (which creates `pipefunc.PipeFunc` object), we will create `PipeFunc` objects directly and specify the `renames` attribute.\n"
   ]
  },
  {
   "cell_type": "code",
   "execution_count": 23,
   "id": "53",
   "metadata": {},
   "outputs": [
    {
     "name": "stdout",
     "output_type": "stream",
     "text": [
      "Results: -100\n",
      "{} prod1\n",
      "{} prod2\n",
      "{} delta1\n",
      "{} delta2\n",
      "{} result\n",
      "Hints in viz {}\n"
     ]
    },
    {
     "data": {
      "application/vnd.jupyter.widget-view+json": {
       "model_id": "b379c98331c24b96afab5350142878be",
       "version_major": 2,
       "version_minor": 0
      },
      "text/plain": [
       "VBox(children=(HBox(children=(Button(description='Reset Zoom', style=ButtonStyle()), Dropdown(description='Dir…"
      ]
     },
     "execution_count": 23,
     "metadata": {},
     "output_type": "execute_result"
    }
   ],
   "source": [
    "from pipefunc import PipeFunc, Pipeline\n",
    "\n",
    "\n",
    "def prod(a, b):\n",
    "    return a * b\n",
    "\n",
    "\n",
    "def subtract(a, b):\n",
    "    return a - b\n",
    "\n",
    "\n",
    "# We're going to use these functions multiple times in the pipeline\n",
    "functions = [\n",
    "    PipeFunc(prod, output_name=\"prod1\"),\n",
    "    PipeFunc(prod, output_name=\"prod2\", renames={\"a\": \"x\", \"b\": \"y\"}),\n",
    "    PipeFunc(subtract, output_name=\"delta1\", renames={\"a\": \"prod1\", \"b\": \"prod2\"}),\n",
    "    PipeFunc(subtract, output_name=\"delta2\", renames={\"a\": \"prod2\", \"b\": \"prod1\"}),\n",
    "    PipeFunc(prod, output_name=\"result\", renames={\"a\": \"delta1\", \"b\": \"delta2\"}),\n",
    "]\n",
    "pipeline_renames = Pipeline(functions)\n",
    "\n",
    "inputs = {\"a\": 1, \"b\": 2, \"x\": 3, \"y\": 4}\n",
    "results = pipeline_renames(\"result\", **inputs)\n",
    "\n",
    "# Output the results\n",
    "print(\"Results:\", results)\n",
    "\n",
    "pipeline_renames.visualize()"
   ]
  },
  {
   "cell_type": "markdown",
   "id": "54",
   "metadata": {},
   "source": [
    "**Explanation**:\n",
    "\n",
    "1. **Function Definitions**:\n",
    "\n",
    "   - `prod(a, b)`: Multiples two numbers and returns the result.\n",
    "   - `subtract(a, b)`: Subtracts `b` from `a` and returns the result.\n",
    "\n",
    "2. **Pipeline Construction**:\n",
    "\n",
    "We are just using the `prod` and `subtract` functions multiple times, but change the names of the inputs and outputs to create a pipeline from it."
   ]
  },
  {
   "cell_type": "markdown",
   "id": "55",
   "metadata": {},
   "source": [
    "One can also apply the renames afterwards using the `update_renames` method. Or even to the entire pipeline, like:"
   ]
  },
  {
   "cell_type": "code",
   "execution_count": 24,
   "id": "56",
   "metadata": {},
   "outputs": [
    {
     "data": {
      "text/plain": [
       "-100"
      ]
     },
     "execution_count": 24,
     "metadata": {},
     "output_type": "execute_result"
    }
   ],
   "source": [
    "pipeline_renames2 = pipeline_renames.copy()\n",
    "pipeline_renames2.update_renames(\n",
    "    {\n",
    "        \"a\": \"aa\",\n",
    "        \"b\": \"bb\",\n",
    "        \"x\": \"xx\",\n",
    "        \"y\": \"yy\",\n",
    "        \"result\": \"final_result\",  # Rename the `output_name` of the last function\n",
    "    },\n",
    "    update_from=\"current\",  # update from the current renames, not the original\n",
    ")\n",
    "pipeline_renames2(aa=1, bb=2, xx=3, yy=4)"
   ]
  },
  {
   "cell_type": "markdown",
   "id": "57",
   "metadata": {},
   "source": [
    "Also check out these `Pipeline` methods:\n",
    "\n",
    "- `Pipeline.update_defaults`\n",
    "- `Pipeline.update_bound`\n",
    "\n",
    "and these `PipeFunc` methods:\n",
    "\n",
    "- `PipeFunc.update_renames`\n",
    "- `PipeFunc.update_defaults`\n",
    "- `PipeFunc.update_bound`\n",
    "\n",
    "---"
   ]
  },
  {
   "cell_type": "markdown",
   "id": "58",
   "metadata": {},
   "source": [
    "### Custom Parallelism\n",
    "\n",
    "By default when `pipeline.map(..., parallel=True)` is used, the pipeline is executed in parallel using the `concurrent.futures.ProcessPoolExecutor`. However, you can also specify a custom executor to control the parallelism of the pipeline execution.\n",
    "\n",
    "It works with any custom executor that has the `concurrent.futures.Executor` interface, so for example it works with:\n",
    "\n",
    "- `concurrent.futures.ProcessPoolExecutor`\n",
    "- `concurrent.futures.ThreadPoolExecutor`\n",
    "- `ipyparallel.Client().executor()`\n",
    "- `dask.distributed.Client().get_executor()`\n",
    "- `mpi4py.futures.MPIPoolExecutor()`\n",
    "- `loky.get_reusable_executor()`\n",
    "\n",
    "To just change the number of cores while using the default executor, use"
   ]
  },
  {
   "cell_type": "code",
   "execution_count": 25,
   "id": "59",
   "metadata": {},
   "outputs": [
    {
     "name": "stdout",
     "output_type": "stream",
     "text": [
      "2025-01-13 19:41:20.753529 - Running double_it for x=0\n",
      "2025-01-13 19:41:20.754121 - Running double_it for x=22025-01-13 19:41:20.754160 - Running double_it for x=32025-01-13 19:41:20.753718 - Running double_it for x=1\n",
      "\n",
      "\n",
      "2025-01-13 19:41:20.757577 - Running half_it for x=02025-01-13 19:41:20.759279 - Running half_it for x=1\n",
      "2025-01-13 19:41:20.760484 - Running half_it for x=2\n",
      "2025-01-13 19:41:20.761113 - Running half_it for x=3\n",
      "\n"
     ]
    },
    {
     "name": "stdout",
     "output_type": "stream",
     "text": [
      "2025-01-13 19:41:21.772368 - Running take_sum\n",
      "14\n"
     ]
    }
   ],
   "source": [
    "import datetime\n",
    "import time\n",
    "from concurrent.futures import ProcessPoolExecutor\n",
    "\n",
    "from pipefunc import Pipeline, pipefunc\n",
    "\n",
    "\n",
    "@pipefunc(output_name=\"double\", mapspec=\"x[i] -> double[i]\")\n",
    "def double_it(x: int) -> int:\n",
    "    print(f\"{datetime.datetime.now()} - Running double_it for x={x}\")\n",
    "    time.sleep(1)\n",
    "    return 2 * x\n",
    "\n",
    "\n",
    "@pipefunc(output_name=\"half\", mapspec=\"x[i] -> half[i]\")\n",
    "def half_it(x: int) -> int:\n",
    "    print(f\"{datetime.datetime.now()} - Running half_it for x={x}\")\n",
    "    time.sleep(1)\n",
    "    return x // 2\n",
    "\n",
    "\n",
    "@pipefunc(output_name=\"sum\")\n",
    "def take_sum(half: np.ndarray, double: np.ndarray) -> int:\n",
    "    print(f\"{datetime.datetime.now()} - Running take_sum\")\n",
    "    return sum(half + double)\n",
    "\n",
    "\n",
    "pipeline_parallel = Pipeline([double_it, half_it, take_sum])\n",
    "inputs = {\"x\": [0, 1, 2, 3]}\n",
    "run_folder = \"my_run_folder\"\n",
    "executor = ProcessPoolExecutor(max_workers=8)  # use 8 processes\n",
    "results = pipeline_parallel.map(\n",
    "    inputs,\n",
    "    run_folder=run_folder,\n",
    "    parallel=True,\n",
    "    executor=executor,\n",
    "    storage=\"shared_memory_dict\",\n",
    ")\n",
    "print(results[\"sum\"].output)"
   ]
  },
  {
   "cell_type": "markdown",
   "id": "60",
   "metadata": {},
   "source": [
    "> ⚠️ In this pipeline, `double_it` and `half_it` are doubly parallel; both the map is parallel and the two functions are executed at the same time, note the timestamps and the `sleep()` calls.\n",
    "> See the `visualize()` output to see the structure of the pipeline."
   ]
  },
  {
   "cell_type": "code",
   "execution_count": 26,
   "id": "61",
   "metadata": {},
   "outputs": [
    {
     "name": "stdout",
     "output_type": "stream",
     "text": [
      "{'double': <class 'int'>} double\n",
      "{'half': <class 'int'>} half\n",
      "{'sum': <class 'int'>} sum\n",
      "Hints in viz {'double': <class 'numpy.ndarray'>, 'x': <class 'int'>, 'half': <class 'numpy.ndarray'>, 'sum': <class 'int'>}\n"
     ]
    },
    {
     "data": {
      "application/vnd.jupyter.widget-view+json": {
       "model_id": "4ad8e5792878407192b6c31cc94b5a55",
       "version_major": 2,
       "version_minor": 0
      },
      "text/plain": [
       "VBox(children=(HBox(children=(Button(description='Reset Zoom', style=ButtonStyle()), Dropdown(description='Dir…"
      ]
     },
     "execution_count": 26,
     "metadata": {},
     "output_type": "execute_result"
    }
   ],
   "source": [
    "pipeline_parallel.visualize()"
   ]
  },
  {
   "cell_type": "markdown",
   "id": "62",
   "metadata": {},
   "source": [
    "---\n",
    "\n",
    "### Combining Pipelines\n",
    "\n",
    "Different pipelines can be combined into a single pipeline using the `Pipeline.join` method or the `|` operator.\n",
    "\n",
    "```{note} tl;dr\n",
    "Use `pipeline1 | pipeline2` to join two pipelines.\n",
    "```\n",
    "\n",
    "In cases the output names and arugments do not match up, we can rename the parameters of an entire pipeline using the `update_renames` method."
   ]
  },
  {
   "cell_type": "code",
   "execution_count": 27,
   "id": "63",
   "metadata": {},
   "outputs": [
    {
     "name": "stdout",
     "output_type": "stream",
     "text": [
      "{} c\n",
      "{} d\n",
      "{} e\n",
      "Hints in viz {}\n"
     ]
    },
    {
     "data": {
      "application/vnd.jupyter.widget-view+json": {
       "model_id": "481e3c13cce74e3986f29fe47d3956fc",
       "version_major": 2,
       "version_minor": 0
      },
      "text/plain": [
       "VBox(children=(HBox(children=(Button(description='Reset Zoom', style=ButtonStyle()), Dropdown(description='Dir…"
      ]
     },
     "execution_count": 27,
     "metadata": {},
     "output_type": "execute_result"
    }
   ],
   "source": [
    "from pipefunc import Pipeline, pipefunc\n",
    "\n",
    "\n",
    "@pipefunc(output_name=\"c\")\n",
    "def f(a, b):\n",
    "    return a + b\n",
    "\n",
    "\n",
    "@pipefunc(output_name=\"d\")\n",
    "def g(b, c, x=1):\n",
    "    return b + c + x\n",
    "\n",
    "\n",
    "pl1 = Pipeline([f, g])\n",
    "\n",
    "\n",
    "@pipefunc(output_name=\"e\")\n",
    "def h(cc, dd, xx=2):\n",
    "    return cc + dd + xx\n",
    "\n",
    "\n",
    "pl2 = Pipeline([h])\n",
    "\n",
    "# We now have two pipelines, `pl1` and `pl2`, that we want to combine\n",
    "# into a single pipeline. However, they have different inputs and defaults.\n",
    "# Let's update the renames and defaults of `pl2` to match `pl1`.\n",
    "pl2_ = pl2.copy()\n",
    "pl2_.update_renames({\"cc\": \"c\", \"dd\": \"d\", \"xx\": \"x\"})\n",
    "pl2_.update_defaults({\"x\": 1})\n",
    "combined_pipeline = pl1 | pl2_  # or use `pl1.combine(pl2_)`\n",
    "\n",
    "combined_pipeline.visualize()"
   ]
  },
  {
   "cell_type": "code",
   "execution_count": 28,
   "id": "64",
   "metadata": {},
   "outputs": [
    {
     "name": "stdout",
     "output_type": "stream",
     "text": [
      "17\n"
     ]
    }
   ],
   "source": [
    "# The combined pipeline can now be used as a single pipeline\n",
    "result = combined_pipeline(a=2, b=3, x=2)\n",
    "print(result)  # Output: 17"
   ]
  },
  {
   "cell_type": "markdown",
   "id": "65",
   "metadata": {},
   "source": [
    "Just to see another quick example of combining pipelines (even though it makes no sense to combine these pipelines):"
   ]
  },
  {
   "cell_type": "code",
   "execution_count": 29,
   "id": "66",
   "metadata": {
    "lines_to_next_cell": 2
   },
   "outputs": [
    {
     "name": "stdout",
     "output_type": "stream",
     "text": [
      "{} prod1\n",
      "{} prod2\n",
      "{} delta1\n",
      "{} delta2\n",
      "{} result\n",
      "{} c\n",
      "{} d\n",
      "{} e\n",
      "Hints in viz {}\n"
     ]
    },
    {
     "data": {
      "application/vnd.jupyter.widget-view+json": {
       "model_id": "f0dfe797328342edb4afd2fe766cb256",
       "version_major": 2,
       "version_minor": 0
      },
      "text/plain": [
       "VBox(children=(HBox(children=(Button(description='Reset Zoom', style=ButtonStyle()), Dropdown(description='Dir…"
      ]
     },
     "execution_count": 29,
     "metadata": {},
     "output_type": "execute_result"
    }
   ],
   "source": [
    "pipeline_silly = pipeline_renames | combined_pipeline\n",
    "pipeline_silly.visualize()"
   ]
  },
  {
   "cell_type": "code",
   "execution_count": 30,
   "id": "67",
   "metadata": {},
   "outputs": [
    {
     "data": {
      "text/plain": [
       "-1"
      ]
     },
     "execution_count": 30,
     "metadata": {},
     "output_type": "execute_result"
    }
   ],
   "source": [
    "# e.g., if we want to get the output of `result` in the `pipeline` (not the leaf node!):\n",
    "pipeline_silly(\"result\", a=1, b=2, y=3)"
   ]
  },
  {
   "cell_type": "markdown",
   "id": "68",
   "metadata": {},
   "source": [
    "---\n",
    "\n",
    "### Caching Results\n",
    "\n",
    "To enable caching, simply set the `cache` attribute to `True` for each function.\n",
    "This can be useful to avoid recomputing results when calling the same function with the same arguments multiple times.\n",
    "\n",
    "```{note}\n",
    "Some cache types support shared memory, which means that the cache can be shared between different processes when running in parallel.\n",
    "```"
   ]
  },
  {
   "cell_type": "code",
   "execution_count": 31,
   "id": "69",
   "metadata": {},
   "outputs": [
    {
     "name": "stdout",
     "output_type": "stream",
     "text": [
      "Function is called!\n"
     ]
    }
   ],
   "source": [
    "@pipefunc(output_name=\"y\", cache=True)\n",
    "def my_function(a: int, b: int) -> int:\n",
    "    time.sleep(1)  # Pretend this is a slow function\n",
    "    print(\"Function is called!\")\n",
    "    return a + b\n",
    "\n",
    "\n",
    "# multiple cache_type options are available, e.g., \"lru\", \"hybrid\", \"disk\", and \"simple\"\n",
    "pipeline_cache = Pipeline([my_function], cache_type=\"lru\")\n",
    "\n",
    "# lets call the function 10 times with the same arguments\n",
    "for _ in range(10):\n",
    "    pipeline_cache(a=2, b=3)"
   ]
  },
  {
   "cell_type": "code",
   "execution_count": 32,
   "id": "70",
   "metadata": {},
   "outputs": [
    {
     "name": "stdout",
     "output_type": "stream",
     "text": [
      "Cache object: <pipefunc.cache.LRUCache object at 0x7f3ebe5ff250>\n"
     ]
    },
    {
     "data": {
      "text/plain": [
       "{('y', (('a', 2), ('b', 3))): 5}"
      ]
     },
     "execution_count": 32,
     "metadata": {},
     "output_type": "execute_result"
    }
   ],
   "source": [
    "print(f\"Cache object: {pipeline_cache.cache}\")\n",
    "pipeline_cache.cache.cache"
   ]
  },
  {
   "cell_type": "markdown",
   "id": "71",
   "metadata": {},
   "source": [
    "The cache is populated _**even when using parallel execution**_. To see the cache, you can use the `cache` attribute on the pipeline.\n",
    "\n",
    "```{note}\n",
    "If calling the pipeline like a function (in contrast to using `pipeline.map`) keys of the cache are always in terms of the root arguments of the pipeline. When using `pipeline.map`, the keys are in terms of the arguments of the function.\n",
    "\n",
    "The key is constructed from the function name and the (root) arguments passed to the function. If the arguments are not hashable, the {class}`pipefunc.cache.to_hashable` function is used to *attempt* to convert them to a hashable form.\n",
    "```\n",
    "\n",
    "One can also enable caching after the pipeline is created by setting the `cache` attribute to `True` for each function.\n",
    "\n",
    "```python\n",
    "for f in pipeline.functions:\n",
    "    f.cache = True\n",
    "```"
   ]
  },
  {
   "cell_type": "markdown",
   "id": "72",
   "metadata": {},
   "source": [
    "---\n",
    "\n",
    "### Function Argument Combinations\n",
    "\n",
    "As we showed in the first example, we can call the functions in the pipeline by either providing the root inputs or by providing the output of the previous function ourselves.\n",
    "\n",
    "To see all the possible combinations of arguments that can be passed to each function, you can use the `all_arg_combinations` property. This will return a dictionary, with function output names as keys and sets of argument tuples as values.\n"
   ]
  },
  {
   "cell_type": "code",
   "execution_count": 33,
   "id": "73",
   "metadata": {},
   "outputs": [],
   "source": [
    "all_args = pipeline.all_arg_combinations\n",
    "assert all_args == {\n",
    "    # means we can call `pipeline(\"c\", a=1, b=2)`\n",
    "    \"c\": {(\"a\", \"b\")},\n",
    "    # means we can call `pipeline(\"d\", a=1, b=2, x=3)` or `pipeline(\"d\", b=2, c=3, x=4)`\n",
    "    \"d\": {(\"a\", \"b\", \"x\"), (\"b\", \"c\", \"x\")},\n",
    "    # means we can call `pipeline(\"e\", a=1, b=2, x=3)` or `pipeline(\"e\", b=2, d=3, x=4)`, etc.\n",
    "    \"e\": {(\"a\", \"b\", \"x\"), (\"a\", \"b\", \"d\", \"x\"), (\"b\", \"c\", \"x\"), (\"c\", \"d\", \"x\")},\n",
    "}\n",
    "# We can get root arguments for a specific function\n",
    "assert pipeline.root_args(\"e\") == (\"a\", \"b\", \"x\")"
   ]
  },
  {
   "cell_type": "markdown",
   "id": "74",
   "metadata": {},
   "source": [
    "---\n",
    "\n",
    "### More `mapspec` Examples\n",
    "\n",
    "This section shows additional `mapspec` examples."
   ]
  },
  {
   "cell_type": "markdown",
   "id": "75",
   "metadata": {},
   "source": [
    "#### Cross-product of two inputs\n",
    "\n",
    "This example shows how to compute the outer product of two input vectors (`x` and `y`) and then aggregate the resulting matrix along rows, and finally reduce the computation to a single `float` by taking the `norm` of the resulting `aggregated` vector.\n"
   ]
  },
  {
   "cell_type": "code",
   "execution_count": 34,
   "id": "76",
   "metadata": {},
   "outputs": [
    {
     "name": "stdout",
     "output_type": "stream",
     "text": [
      "Norm of the aggregated sums: 56.124860801609124\n"
     ]
    }
   ],
   "source": [
    "from pipefunc import Pipeline, pipefunc\n",
    "\n",
    "\n",
    "@pipefunc(output_name=\"z\", mapspec=\"x[i], y[j] -> z[i, j]\")\n",
    "def multiply_elements(x: int, y: int) -> int:\n",
    "    \"\"\"Multiply two integers.\"\"\"\n",
    "    return x * y\n",
    "\n",
    "\n",
    "@pipefunc(output_name=\"aggregated\", mapspec=\"z[i, :] -> aggregated[i]\")\n",
    "def aggregate_rows(z: np.ndarray) -> np.ndarray:\n",
    "    \"\"\"Sum the elements of each row in matrix z.\"\"\"\n",
    "    return np.sum(z)\n",
    "\n",
    "\n",
    "@pipefunc(output_name=\"norm\")\n",
    "def compute_norm(aggregated: np.ndarray) -> float:\n",
    "    \"\"\"Compute the Euclidean norm of the vector aggregated.\"\"\"\n",
    "    return np.linalg.norm(aggregated)\n",
    "\n",
    "\n",
    "pipeline_norm = Pipeline([multiply_elements, aggregate_rows, compute_norm])\n",
    "inputs = {\"x\": [1, 2, 3], \"y\": [4, 5, 6]}\n",
    "results = pipeline_norm.map(inputs, run_folder=\"my_run_folder\")\n",
    "print(\"Norm of the aggregated sums:\", results[\"norm\"].output)"
   ]
  },
  {
   "cell_type": "code",
   "execution_count": 35,
   "id": "77",
   "metadata": {},
   "outputs": [
    {
     "name": "stdout",
     "output_type": "stream",
     "text": [
      "{'z': <class 'int'>} z\n",
      "{'aggregated': <class 'numpy.ndarray'>} aggregated\n",
      "{'norm': <class 'float'>} norm\n",
      "Hints in viz {'z': <class 'numpy.ndarray'>, 'x': <class 'int'>, 'y': <class 'int'>, 'aggregated': <class 'numpy.ndarray'>, 'norm': <class 'float'>}\n"
     ]
    },
    {
     "data": {
      "application/vnd.jupyter.widget-view+json": {
       "model_id": "9ad58d5fef5b4292a7e94b5bf0d00c13",
       "version_major": 2,
       "version_minor": 0
      },
      "text/plain": [
       "VBox(children=(HBox(children=(Button(description='Reset Zoom', style=ButtonStyle()), Dropdown(description='Dir…"
      ]
     },
     "execution_count": 35,
     "metadata": {},
     "output_type": "execute_result"
    }
   ],
   "source": [
    "pipeline_norm.visualize()"
   ]
  },
  {
   "cell_type": "markdown",
   "id": "78",
   "metadata": {},
   "source": [
    "**Explanation**:\n",
    "\n",
    "1. **Matrix Creation (`multiply_elements`)**:\n",
    "\n",
    "   - Each combination of elements from arrays `x` and `y` is multiplied to form the matrix `z`. The `mapspec` `\"x[i], y[j] -> z[i, j]\"` ensures that every pair of elements is processed to generate a 2D matrix.\n",
    "\n",
    "2. **Row Aggregation (`aggregate_rows`)**:\n",
    "\n",
    "   - The matrix `z` is then processed row by row to sum the values, creating an aggregated result for each row. The `mapspec` `\"z[i, :] -> aggregated[i]\"` directs the pipeline to apply the summation across each row, transforming a 2D array into a 1D array of row sums.\n",
    "\n",
    "3. **Vector Norm Calculation (`compute_norm`)**:\n",
    "   - Finally, the norm of the aggregated vector is computed, providing a single scalar value that quantifies the magnitude of the vector formed from row sums. This step does not require a `mapspec` as it takes the entire output from the previous step and produces a single output."
   ]
  },
  {
   "cell_type": "markdown",
   "id": "79",
   "metadata": {},
   "source": [
    "\n",
    "#### Dynamic Output Shapes and `internal_shapes`\n",
    "\n",
    "In most cases, `pipefunc` automatically infers the output shape of each function based on the `mapspec` and the input shapes.\n",
    "However, use the `internal_shapes` argument if **a function returns an iterable/array that the next function will iterate over using a `mapspec`.**\n",
    "The most common case is when the `mapspec` of the first function is `... -> output1[i]` and the `mapspec` of the second function is `output1[i] -> output2[i]`.\n",
    "\n",
    "**How to use `internal_shapes`:**\n",
    "\n",
    "1. Provide a tuple in `@pipefunc(internal_shape=(...))` representing the shape of the output of that function. You can use `?` for unknown dimensions.\n",
    "2. Provide a dictionary in `pipeline.map(internal_shapes={...})` where keys are function output names, and values are tuples representing the shape *added* by that function. You can use `?` for unknown dimensions.\n",
    "3. Or omit `internal_shapes` and let `pipefunc` infer the shapes automatically (missing out on some consistency checks).\n",
    "\n",
    "**Minimal example:**\n",
    "\n",
    "```python\n",
    "@pipefunc(output_name=\"x\", internal_shape=(10, 20))  # or `internal_shape=(\"?\", \"?\")`\n",
    "def generate_ints() -> np.ndarray:\n",
    "    return np.ones((10, 20))\n",
    "\n",
    "# or\n",
    "\n",
    "pipeline.map(..., internal_shapes={\"x\": (10, 20)})  # or `internal_shapes={\"x\": (\"?\", \"?\")}`\n",
    "```\n",
    "\n",
    "**Full example:**\n",
    "\n",
    "We generate a list of integers with a length determined by an input parameter `n`."
   ]
  },
  {
   "cell_type": "code",
   "execution_count": 36,
   "id": "80",
   "metadata": {},
   "outputs": [
    {
     "name": "stdout",
     "output_type": "stream",
     "text": [
      "Autogenerated MapSpec for `generate_ints(...) → x`: `... -> x[i]`\n"
     ]
    }
   ],
   "source": [
    "from pipefunc import Pipeline, pipefunc\n",
    "from pipefunc.typing import Array\n",
    "\n",
    "\n",
    "@pipefunc(output_name=\"x\")\n",
    "def generate_ints(n: int) -> list[int]:\n",
    "    \"\"\"Generate a list of integers from 0 to n-1.\"\"\"\n",
    "    return list(range(n))\n",
    "\n",
    "\n",
    "@pipefunc(output_name=\"y\", mapspec=\"x[i] -> y[i]\")\n",
    "def double_it(x: int) -> int:\n",
    "    \"\"\"Double the input integer.\"\"\"\n",
    "    return 2 * x\n",
    "\n",
    "\n",
    "@pipefunc(output_name=\"sum\")\n",
    "def take_sum(y: Array[int]) -> int:\n",
    "    \"\"\"Sum a list of integers.\"\"\"\n",
    "    return sum(y)\n",
    "\n",
    "\n",
    "pipeline_sum = Pipeline([generate_ints, double_it, take_sum])"
   ]
  },
  {
   "cell_type": "markdown",
   "id": "81",
   "metadata": {},
   "source": [
    "Here, `generate_ints` creates a list of length `n`.\n",
    "In the function `double_it`, we map over the resulting list and double each element.\n",
    "Note that PipeFunc automatically generated the `mapspec=\"... -> x[i]\"` for `generate_ints`, which means that the output is an array with index `i` that can be mapped over in the `double_it` function.\n",
    "\n",
    "We indicate that the output is a 1D array with an unknown number of elements by doing either:\n",
    "\n",
    "1. setting the `internal_shape` argument of the `generate_ints` decorator to `@pipefunc(output_name=\"x\", internal_shapes=\"?\")`, or\n",
    "2. by providing a dictionary to the `internal_shapes` argument in `pipeline.map`:\n",
    "\n",
    "Using option 2:"
   ]
  },
  {
   "cell_type": "code",
   "execution_count": 37,
   "id": "82",
   "metadata": {},
   "outputs": [
    {
     "name": "stdout",
     "output_type": "stream",
     "text": [
      "Sum of doubled integers: 12\n"
     ]
    }
   ],
   "source": [
    "inputs = {\"n\": 4}\n",
    "results = pipeline_sum.map(\n",
    "    inputs,\n",
    "    run_folder=\"my_run_folder\",\n",
    "    internal_shapes={\"x\": (\"?\",)},  # Or if we know the shape of the output `{\"x\": (4,)}`\n",
    ")\n",
    "print(\"Sum of doubled integers:\", results[\"sum\"].output)"
   ]
  },
  {
   "cell_type": "markdown",
   "id": "83",
   "metadata": {},
   "source": [
    "Or we can omit the `internal_shapes` argument and let `pipefunc` infer the shapes automatically:"
   ]
  },
  {
   "cell_type": "code",
   "execution_count": 38,
   "id": "84",
   "metadata": {},
   "outputs": [
    {
     "name": "stdout",
     "output_type": "stream",
     "text": [
      "Sum of doubled integers: 12\n"
     ]
    }
   ],
   "source": [
    "results = pipeline_sum.map(inputs, run_folder=\"my_run_folder\")\n",
    "print(\"Sum of doubled integers:\", results[\"sum\"].output)"
   ]
  },
  {
   "cell_type": "markdown",
   "id": "85",
   "metadata": {},
   "source": [
    "\n",
    "\n",
    "#### Zipped inputs\n",
    "\n",
    "This pipeline processes zipped inputs `x` and `y` with independent `z` to compute a function across all combinations, producing a 2D matrix `r`.\n"
   ]
  },
  {
   "cell_type": "code",
   "execution_count": 39,
   "id": "86",
   "metadata": {},
   "outputs": [
    {
     "name": "stdout",
     "output_type": "stream",
     "text": [
      "Output Matrix:\n",
      " [[11 12]\n",
      " [17 18]\n",
      " [25 26]]\n"
     ]
    }
   ],
   "source": [
    "from pipefunc import Pipeline, pipefunc\n",
    "\n",
    "\n",
    "@pipefunc(output_name=\"r\")\n",
    "def process_elements(x: int, y: int, z: int) -> float:\n",
    "    return x * y + z\n",
    "\n",
    "\n",
    "pipeline_proc = Pipeline([(process_elements, \"x[a], y[a], z[b] -> r[a, b]\")])\n",
    "\n",
    "inputs = {\"x\": [1, 2, 3], \"y\": [4, 5, 6], \"z\": [7, 8]}\n",
    "\n",
    "results = pipeline_proc.map(inputs, run_folder=\"my_run_folder\")\n",
    "output_matrix = results[\"r\"].output\n",
    "print(\"Output Matrix:\\n\", output_matrix)"
   ]
  },
  {
   "cell_type": "markdown",
   "id": "87",
   "metadata": {},
   "source": [
    "**Explanation**:\n",
    "\n",
    "- **Function `process_elements`**:\n",
    "\n",
    "  - Takes three inputs: `x`, `y`, and `z`. For each pair `(x[a], y[a])`, the function is applied with each `z[b]`.\n",
    "\n",
    "- **Pipeline Definition**:\n",
    "\n",
    "  - The `mapspec` `\"x[a], y[a], z[b] -> r[a, b]\"` specifies how elements from the inputs are to be combined. It states that each element from the paired inputs `x` and `y` (indexed by `a`) should be processed with each element from `z` (indexed by `b`), resulting in a 2D output array `r`.\n",
    "\n",
    "- **Outputs**:\n",
    "  - The output `r` is a 2-dimensional matrix where the dimensions are determined by the lengths of `x`/`y` and `z`. Each element of this matrix represents the computation result for a specific combination of inputs."
   ]
  },
  {
   "cell_type": "markdown",
   "id": "88",
   "metadata": {},
   "source": [
    "---\n",
    "\n",
    "### Nesting Pipelines for Modularity and Reusability\n",
    "\n",
    "`pipefunc` allows you to create modular and reusable pipeline components by nesting pipelines within each other using the {class}`pipefunc.NestedPipeFunc` class or the {meth}`~pipefunc.Pipeline.nest_funcs` method. This is particularly useful for:\n",
    "\n",
    "- **Encapsulating** a sequence of steps that logically belong together.\n",
    "- **Reusing** a part of a pipeline in multiple projects or within a larger pipeline.\n",
    "- **Abstracting** away internal details of a complex sub-process.\n",
    "- **Selectively avoid returning** intermediate results when using `pipeline.map` (e.g., to prevent serializing large objects and passing it around).\n",
    "\n",
    "**Creating Nested Pipelines:**\n",
    "\n",
    "You can manually create a {class}`~pipefunc.NestedPipeFunc` by passing a list of functions to its constructor.\n",
    "However, a potentially more convenient way is to use the {meth}`pipefunc.Pipeline.nest_funcs` method, which allows you to combine existing functions within a pipeline into a nested one:"
   ]
  },
  {
   "cell_type": "code",
   "execution_count": 40,
   "id": "89",
   "metadata": {},
   "outputs": [
    {
     "name": "stdout",
     "output_type": "stream",
     "text": [
      "{} e\n",
      "{} d\n",
      "Hints in viz {'kwargs': typing.Any}\n"
     ]
    },
    {
     "data": {
      "application/vnd.jupyter.widget-view+json": {
       "model_id": "0b9c9625ea6d46ed9caa3192706d22f7",
       "version_major": 2,
       "version_minor": 0
      },
      "text/plain": [
       "VBox(children=(HBox(children=(Button(description='Reset Zoom', style=ButtonStyle()), Dropdown(description='Dir…"
      ]
     },
     "execution_count": 40,
     "metadata": {},
     "output_type": "execute_result"
    }
   ],
   "source": [
    "from pipefunc import Pipeline, pipefunc\n",
    "\n",
    "\n",
    "@pipefunc(output_name=\"c\")\n",
    "def f1(a, b):\n",
    "    return a + b\n",
    "\n",
    "\n",
    "@pipefunc(output_name=\"d\")\n",
    "def f2(c):\n",
    "    return c * 2\n",
    "\n",
    "\n",
    "@pipefunc(output_name=\"e\")\n",
    "def f3(d, x):\n",
    "    return d + x\n",
    "\n",
    "\n",
    "pipeline = Pipeline([f1, f2, f3])\n",
    "\n",
    "# Nest f1 and f2 into a single NestedPipeFunc\n",
    "nested_pipeline = pipeline.copy()\n",
    "nested_func = nested_pipeline.nest_funcs(\n",
    "    {\"c\", \"d\"},\n",
    "    new_output_name=\"d\",  # Only returns \"d\" and not \"c\"\n",
    "    function_name=\"f1_f2\",\n",
    ")\n",
    "nested_pipeline.visualize()"
   ]
  },
  {
   "cell_type": "markdown",
   "id": "90",
   "metadata": {},
   "source": [
    "This creates a `nested_pipeline` where `f1` and `f2` are combined into a `NestedPipeFunc` named `f1_f2`.\n",
    "The new nested function only returns `\"d\"` and not `\"c\"`.\n",
    "The `new_output_name` must be a subset of the outputs of the nested pipeline.\n",
    "You can optionally specify the name of the function using the `function_name` argument.\n",
    "\n",
    "**Inspecting the Nested Pipeline:**\n",
    "\n",
    "The `nested_func` object contains its own internal pipeline, accessible via the `pipeline` attribute:"
   ]
  },
  {
   "cell_type": "code",
   "execution_count": 41,
   "id": "91",
   "metadata": {},
   "outputs": [
    {
     "name": "stdout",
     "output_type": "stream",
     "text": [
      "{} d\n",
      "{} c\n",
      "Hints in viz {}\n"
     ]
    },
    {
     "data": {
      "application/vnd.jupyter.widget-view+json": {
       "model_id": "5352788421844d49bcaad5a40c0dff28",
       "version_major": 2,
       "version_minor": 0
      },
      "text/plain": [
       "VBox(children=(HBox(children=(Button(description='Reset Zoom', style=ButtonStyle()), Dropdown(description='Dir…"
      ]
     },
     "execution_count": 41,
     "metadata": {},
     "output_type": "execute_result"
    }
   ],
   "source": [
    "nested_func.pipeline.visualize()"
   ]
  },
  {
   "cell_type": "markdown",
   "id": "92",
   "metadata": {},
   "source": [
    "**Using the Nested Pipeline:**\n",
    "\n",
    "You can now use the `nested_pipeline` like any other pipeline. When executed, the `NestedPipeFunc` will run its internal pipeline, taking the required inputs and producing the specified output.\n"
   ]
  },
  {
   "cell_type": "code",
   "execution_count": 42,
   "id": "93",
   "metadata": {},
   "outputs": [
    {
     "name": "stdout",
     "output_type": "stream",
     "text": [
      "result=9\n",
      "nested_result=6\n"
     ]
    }
   ],
   "source": [
    "result = nested_pipeline(a=1, b=2, x=3)\n",
    "print(f\"{result=}\")\n",
    "nested_result = nested_func(a=1, b=2)\n",
    "print(f\"{nested_result=}\")"
   ]
  },
  {
   "cell_type": "markdown",
   "id": "94",
   "metadata": {},
   "source": [
    "**Limitations with `mapspec`:**\n",
    "\n",
    "While `NestedPipeFunc` offers powerful modularity, there are limitations when using it with `mapspec`:\n",
    "\n",
    "- **No Map-Reduce Operations:** The `mapspec` of functions within a `NestedPipeFunc` **cannot** contain reductions (e.g., `x[i, j] -> y[i]`).\n",
    "- **No Dynamic Axis Generation:** The `mapspec` **cannot** dynamically generate new axes (e.g., `... -> out[i]`). In other words, it cannot return an output with an `internal_shape`.\n",
    "- **Allowed `mapspec`s:** You can use mapspecs that do not reduce or create new axes.\n",
    "\n",
    "These limitations stem from the fact that the nested pipeline is treated as a single unit, and its internal operations are not directly exposed to the outer pipeline's mapping logic.\n",
    "\n",
    "**Benefits of Nesting (Despite Limitations):**\n",
    "\n",
    "- **Modularity:** Create self-contained, reusable pipeline components.\n",
    "- **Abstraction:** Hide internal complexity behind a well-defined interface.\n",
    "- **Reusability:** Easily integrate nested pipelines into other projects or larger workflows.\n",
    "- **Clarity:** Improve the overall structure and readability of your pipelines.\n",
    "- **Control over intermediate results:** When using `pipeline.map`, use `nest_funcs` to avoid returning intermediate results."
   ]
  },
  {
   "cell_type": "markdown",
   "id": "95",
   "metadata": {},
   "source": [
    "## Full Examples\n",
    "\n",
    "### Example: Physics based example\n",
    "\n",
    "This example demonstrates using the `pipefunc` for a physics-based simulation. The goal is to create a pipeline for geometry creation, meshing, material assignment, and electrostatics calculations, culminating in computing the average charge.\n",
    "\n",
    "> Note: this example is based on the [`aiida-dynamic-workflows` tutorial](https://github.com/microsoft/aiida-dynamic-workflows/blob/4d452ed3be4192dc5b2c8f40690f82c3afcaa7a8/examples/02-workflows.md).\n",
    "\n",
    "We start with defining a few `dataclasses` to represent the geometry, mesh, and material properties. We then define functions to create the geometry, mesh it, assign materials, and calculate the electrostatics.\n"
   ]
  },
  {
   "cell_type": "code",
   "execution_count": 43,
   "id": "96",
   "metadata": {},
   "outputs": [],
   "source": [
    "from dataclasses import dataclass\n",
    "\n",
    "\n",
    "@dataclass(frozen=True)\n",
    "class Geometry:\n",
    "    x: float\n",
    "    y: float\n",
    "\n",
    "\n",
    "@dataclass(frozen=True)\n",
    "class Mesh:\n",
    "    geometry: Geometry\n",
    "    mesh_size: float\n",
    "\n",
    "\n",
    "@dataclass(frozen=True)\n",
    "class Materials:\n",
    "    geometry: Geometry\n",
    "    materials: list[str]\n",
    "\n",
    "\n",
    "@dataclass(frozen=True)\n",
    "class Electrostatics:\n",
    "    mesh: Mesh\n",
    "    materials: Materials\n",
    "    voltages: list[float]"
   ]
  },
  {
   "cell_type": "code",
   "execution_count": 44,
   "id": "97",
   "metadata": {},
   "outputs": [
    {
     "name": "stdout",
     "output_type": "stream",
     "text": [
      "{'geo': <class '__main__.Geometry'>} geo\n",
      "{'mesh': <class '__main__.Mesh'>, 'coarse_mesh': <class '__main__.Mesh'>} ('mesh', 'coarse_mesh')\n",
      "{'materials': <class '__main__.Materials'>} materials\n",
      "{'electrostatics': <class '__main__.Electrostatics'>} electrostatics\n",
      "{'charge': <class 'float'>} charge\n",
      "{'average_charge': <class 'float'>} average_charge\n",
      "Hints in viz {'geo': <class '__main__.Geometry'>, 'x': <class 'float'>, 'y': <class 'float'>, 'mesh': <class '__main__.Mesh'>, 'coarse_mesh': <class '__main__.Mesh'>, 'mesh_size': <class 'float'>, 'coarse_mesh_size': <class 'float'>, 'materials': <class '__main__.Materials'>, 'electrostatics': <class '__main__.Electrostatics'>, 'V_left': <class 'float'>, 'V_right': <class 'float'>, 'charge': <class 'numpy.ndarray'>, 'average_charge': <class 'float'>}\n"
     ]
    },
    {
     "data": {
      "application/vnd.jupyter.widget-view+json": {
       "model_id": "b125100a3a9147b49ec38a4645ada29c",
       "version_major": 2,
       "version_minor": 0
      },
      "text/plain": [
       "VBox(children=(HBox(children=(Button(description='Reset Zoom', style=ButtonStyle()), Dropdown(description='Dir…"
      ]
     },
     "execution_count": 44,
     "metadata": {},
     "output_type": "execute_result"
    }
   ],
   "source": [
    "import numpy as np\n",
    "\n",
    "from pipefunc import Pipeline, pipefunc\n",
    "from pipefunc.map import load_outputs\n",
    "\n",
    "\n",
    "@pipefunc(output_name=\"geo\")\n",
    "def make_geometry(x: float, y: float) -> Geometry:\n",
    "    return Geometry(x, y)\n",
    "\n",
    "\n",
    "@pipefunc(output_name=(\"mesh\", \"coarse_mesh\"))\n",
    "def make_mesh(\n",
    "    geo: Geometry,\n",
    "    mesh_size: float,\n",
    "    coarse_mesh_size: float,\n",
    ") -> tuple[Mesh, Mesh]:\n",
    "    return Mesh(geo, mesh_size), Mesh(geo, coarse_mesh_size)\n",
    "\n",
    "\n",
    "@pipefunc(output_name=\"materials\")\n",
    "def make_materials(geo: Geometry) -> Materials:\n",
    "    return Materials(geo, [\"i\", \"j\", \"c\"])\n",
    "\n",
    "\n",
    "@pipefunc(output_name=\"electrostatics\", mapspec=\"V_left[i], V_right[j] -> electrostatics[i, j]\")\n",
    "def run_electrostatics(\n",
    "    mesh: Mesh,\n",
    "    materials: Materials,\n",
    "    V_left: float,  # noqa: N803\n",
    "    V_right: float,  # noqa: N803\n",
    ") -> Electrostatics:\n",
    "    return Electrostatics(mesh, materials, [V_left, V_right])\n",
    "\n",
    "\n",
    "@pipefunc(output_name=\"charge\", mapspec=\"electrostatics[i, j] -> charge[i, j]\")\n",
    "def get_charge(electrostatics: Electrostatics) -> float:\n",
    "    # obviously not actually the charge; but we should return _some_ number that\n",
    "    # is \"derived\" from the electrostatics.\n",
    "    return sum(electrostatics.voltages)\n",
    "\n",
    "\n",
    "# No mapspec: function receives the full 2D array of charges!\n",
    "@pipefunc(output_name=\"average_charge\")\n",
    "def average_charge(charge: np.ndarray) -> float:\n",
    "    return np.mean(charge)\n",
    "\n",
    "\n",
    "pipeline_charge = Pipeline(\n",
    "    [make_geometry, make_mesh, make_materials, run_electrostatics, get_charge, average_charge],\n",
    ")\n",
    "pipeline_charge.visualize(orient=\"TB\")"
   ]
  },
  {
   "cell_type": "markdown",
   "id": "98",
   "metadata": {},
   "source": [
    "Let's run the map for some inputs:\n"
   ]
  },
  {
   "cell_type": "code",
   "execution_count": 45,
   "id": "99",
   "metadata": {},
   "outputs": [],
   "source": [
    "inputs = {\n",
    "    \"V_left\": np.linspace(0, 2, 3),\n",
    "    \"V_right\": np.linspace(-0.5, 0.5, 2),\n",
    "    \"x\": 0.1,\n",
    "    \"y\": 0.2,\n",
    "    \"mesh_size\": 0.01,\n",
    "    \"coarse_mesh_size\": 0.05,\n",
    "}\n",
    "\n",
    "run_folder = \"my_run_folder\"\n",
    "results = pipeline_charge.map(inputs, run_folder=run_folder, parallel=False)\n",
    "assert results[\"average_charge\"].output == 1.0\n",
    "assert results[\"average_charge\"].output_name == \"average_charge\"\n",
    "assert load_outputs(\"average_charge\", run_folder=run_folder) == 1.0"
   ]
  },
  {
   "cell_type": "markdown",
   "id": "100",
   "metadata": {},
   "source": [
    "This example highlighted how to run a simulation that included a map-reduce operation.\n",
    "Often we want to sweep this over multiple parameters.\n",
    "You could add all the `mapspec`s required to map an additional parameter.\n",
    "Alternatively, you can use the `pipeline.add_mapspec_axis` method to add an axis to parameters of the pipeline.\n",
    "\n",
    "See the example below, where we extend the `mapspec`s.\n"
   ]
  },
  {
   "cell_type": "code",
   "execution_count": 46,
   "id": "101",
   "metadata": {},
   "outputs": [
    {
     "data": {
      "text/plain": [
       "['x[a], y[b] -> geo[a, b]',\n",
       " 'geo[a, b], mesh_size[c], coarse_mesh_size[c] -> mesh[a, b, c], coarse_mesh[a, b, c]',\n",
       " 'geo[a, b] -> materials[a, b]',\n",
       " 'V_left[i], V_right[j], mesh[a, b, c], materials[a, b] -> electrostatics[i, j, a, b, c]',\n",
       " 'electrostatics[i, j, a, b, c] -> charge[i, j, a, b, c]',\n",
       " 'charge[:, :, a, b, c] -> average_charge[a, b, c]']"
      ]
     },
     "execution_count": 46,
     "metadata": {},
     "output_type": "execute_result"
    }
   ],
   "source": [
    "# Add a cross-product of x and y\n",
    "pipeline_charge.add_mapspec_axis(\"x\", axis=\"a\")\n",
    "pipeline_charge.add_mapspec_axis(\"y\", axis=\"b\")\n",
    "\n",
    "# And also a cross-product of the zipped mesh_size and coarse_mesh_size\n",
    "pipeline_charge.add_mapspec_axis(\"mesh_size\", axis=\"c\")\n",
    "pipeline_charge.add_mapspec_axis(\"coarse_mesh_size\", axis=\"c\")\n",
    "\n",
    "# Finally, the mapspecs become, which shows a 3D array for the `average_charge`:\n",
    "pipeline_charge.mapspecs_as_strings"
   ]
  },
  {
   "cell_type": "code",
   "execution_count": 47,
   "id": "102",
   "metadata": {},
   "outputs": [
    {
     "name": "stdout",
     "output_type": "stream",
     "text": [
      "{'geo': <class '__main__.Geometry'>} geo\n",
      "{'mesh': <class '__main__.Mesh'>, 'coarse_mesh': <class '__main__.Mesh'>} ('mesh', 'coarse_mesh')\n",
      "{'materials': <class '__main__.Materials'>} materials\n",
      "{'electrostatics': <class '__main__.Electrostatics'>} electrostatics\n",
      "{'charge': <class 'float'>} charge\n",
      "{'average_charge': <class 'float'>} average_charge\n",
      "Hints in viz {'geo': <class '__main__.Geometry'>, 'x': <class 'float'>, 'y': <class 'float'>, 'mesh': <class '__main__.Mesh'>, 'coarse_mesh': <class '__main__.Mesh'>, 'mesh_size': <class 'float'>, 'coarse_mesh_size': <class 'float'>, 'materials': <class '__main__.Materials'>, 'electrostatics': <class '__main__.Electrostatics'>, 'V_left': <class 'float'>, 'V_right': <class 'float'>, 'charge': <class 'numpy.ndarray'>, 'average_charge': <class 'float'>}\n"
     ]
    },
    {
     "data": {
      "application/vnd.jupyter.widget-view+json": {
       "model_id": "755cedb819ac4c04b24b98477247e560",
       "version_major": 2,
       "version_minor": 0
      },
      "text/plain": [
       "VBox(children=(HBox(children=(Button(description='Reset Zoom', style=ButtonStyle()), Dropdown(description='Dir…"
      ]
     },
     "execution_count": 47,
     "metadata": {},
     "output_type": "execute_result"
    }
   ],
   "source": [
    "pipeline_charge.visualize(orient=\"TB\")"
   ]
  },
  {
   "cell_type": "markdown",
   "id": "103",
   "metadata": {},
   "source": [
    "Let's run it on a 2x2x2 grid of inputs:\n"
   ]
  },
  {
   "cell_type": "code",
   "execution_count": 48,
   "id": "104",
   "metadata": {},
   "outputs": [
    {
     "name": "stdout",
     "output_type": "stream",
     "text": [
      "Output shape: (2, 2, 2)\n",
      "Output:\n",
      "[[[np.float64(1.0) np.float64(1.0)]\n",
      "  [np.float64(1.0) np.float64(1.0)]]\n",
      "\n",
      " [[np.float64(1.0) np.float64(1.0)]\n",
      "  [np.float64(1.0) np.float64(1.0)]]]\n"
     ]
    }
   ],
   "source": [
    "inputs = {\n",
    "    \"V_left\": np.linspace(0, 2, 3),\n",
    "    \"V_right\": np.linspace(-0.5, 0.5, 2),\n",
    "    \"x\": np.linspace(0.1, 0.2, 2),\n",
    "    \"y\": np.linspace(0.2, 0.3, 2),\n",
    "    \"mesh_size\": [0.01, 0.02],\n",
    "    \"coarse_mesh_size\": [0.05, 0.06],\n",
    "}\n",
    "results = pipeline_charge.map(inputs, run_folder=run_folder, parallel=False)\n",
    "output = results[\"average_charge\"].output\n",
    "print(f\"Output shape: {output.shape}\")\n",
    "print(f\"Output:\\n{output}\")"
   ]
  },
  {
   "cell_type": "markdown",
   "id": "105",
   "metadata": {},
   "source": [
    "We can also load all data as `xarray.Dataset`:\n"
   ]
  },
  {
   "cell_type": "code",
   "execution_count": 49,
   "id": "106",
   "metadata": {},
   "outputs": [
    {
     "data": {
      "text/html": [
       "<div><svg style=\"position: absolute; width: 0; height: 0; overflow: hidden\">\n",
       "<defs>\n",
       "<symbol id=\"icon-database\" viewBox=\"0 0 32 32\">\n",
       "<path d=\"M16 0c-8.837 0-16 2.239-16 5v4c0 2.761 7.163 5 16 5s16-2.239 16-5v-4c0-2.761-7.163-5-16-5z\"></path>\n",
       "<path d=\"M16 17c-8.837 0-16-2.239-16-5v6c0 2.761 7.163 5 16 5s16-2.239 16-5v-6c0 2.761-7.163 5-16 5z\"></path>\n",
       "<path d=\"M16 26c-8.837 0-16-2.239-16-5v6c0 2.761 7.163 5 16 5s16-2.239 16-5v-6c0 2.761-7.163 5-16 5z\"></path>\n",
       "</symbol>\n",
       "<symbol id=\"icon-file-text2\" viewBox=\"0 0 32 32\">\n",
       "<path d=\"M28.681 7.159c-0.694-0.947-1.662-2.053-2.724-3.116s-2.169-2.030-3.116-2.724c-1.612-1.182-2.393-1.319-2.841-1.319h-15.5c-1.378 0-2.5 1.121-2.5 2.5v27c0 1.378 1.122 2.5 2.5 2.5h23c1.378 0 2.5-1.122 2.5-2.5v-19.5c0-0.448-0.137-1.23-1.319-2.841zM24.543 5.457c0.959 0.959 1.712 1.825 2.268 2.543h-4.811v-4.811c0.718 0.556 1.584 1.309 2.543 2.268zM28 29.5c0 0.271-0.229 0.5-0.5 0.5h-23c-0.271 0-0.5-0.229-0.5-0.5v-27c0-0.271 0.229-0.5 0.5-0.5 0 0 15.499-0 15.5 0v7c0 0.552 0.448 1 1 1h7v19.5z\"></path>\n",
       "<path d=\"M23 26h-14c-0.552 0-1-0.448-1-1s0.448-1 1-1h14c0.552 0 1 0.448 1 1s-0.448 1-1 1z\"></path>\n",
       "<path d=\"M23 22h-14c-0.552 0-1-0.448-1-1s0.448-1 1-1h14c0.552 0 1 0.448 1 1s-0.448 1-1 1z\"></path>\n",
       "<path d=\"M23 18h-14c-0.552 0-1-0.448-1-1s0.448-1 1-1h14c0.552 0 1 0.448 1 1s-0.448 1-1 1z\"></path>\n",
       "</symbol>\n",
       "</defs>\n",
       "</svg>\n",
       "<style>/* CSS stylesheet for displaying xarray objects in jupyterlab.\n",
       " *\n",
       " */\n",
       "\n",
       ":root {\n",
       "  --xr-font-color0: var(--jp-content-font-color0, rgba(0, 0, 0, 1));\n",
       "  --xr-font-color2: var(--jp-content-font-color2, rgba(0, 0, 0, 0.54));\n",
       "  --xr-font-color3: var(--jp-content-font-color3, rgba(0, 0, 0, 0.38));\n",
       "  --xr-border-color: var(--jp-border-color2, #e0e0e0);\n",
       "  --xr-disabled-color: var(--jp-layout-color3, #bdbdbd);\n",
       "  --xr-background-color: var(--jp-layout-color0, white);\n",
       "  --xr-background-color-row-even: var(--jp-layout-color1, white);\n",
       "  --xr-background-color-row-odd: var(--jp-layout-color2, #eeeeee);\n",
       "}\n",
       "\n",
       "html[theme=\"dark\"],\n",
       "html[data-theme=\"dark\"],\n",
       "body[data-theme=\"dark\"],\n",
       "body.vscode-dark {\n",
       "  --xr-font-color0: rgba(255, 255, 255, 1);\n",
       "  --xr-font-color2: rgba(255, 255, 255, 0.54);\n",
       "  --xr-font-color3: rgba(255, 255, 255, 0.38);\n",
       "  --xr-border-color: #1f1f1f;\n",
       "  --xr-disabled-color: #515151;\n",
       "  --xr-background-color: #111111;\n",
       "  --xr-background-color-row-even: #111111;\n",
       "  --xr-background-color-row-odd: #313131;\n",
       "}\n",
       "\n",
       ".xr-wrap {\n",
       "  display: block !important;\n",
       "  min-width: 300px;\n",
       "  max-width: 700px;\n",
       "}\n",
       "\n",
       ".xr-text-repr-fallback {\n",
       "  /* fallback to plain text repr when CSS is not injected (untrusted notebook) */\n",
       "  display: none;\n",
       "}\n",
       "\n",
       ".xr-header {\n",
       "  padding-top: 6px;\n",
       "  padding-bottom: 6px;\n",
       "  margin-bottom: 4px;\n",
       "  border-bottom: solid 1px var(--xr-border-color);\n",
       "}\n",
       "\n",
       ".xr-header > div,\n",
       ".xr-header > ul {\n",
       "  display: inline;\n",
       "  margin-top: 0;\n",
       "  margin-bottom: 0;\n",
       "}\n",
       "\n",
       ".xr-obj-type,\n",
       ".xr-array-name {\n",
       "  margin-left: 2px;\n",
       "  margin-right: 10px;\n",
       "}\n",
       "\n",
       ".xr-obj-type {\n",
       "  color: var(--xr-font-color2);\n",
       "}\n",
       "\n",
       ".xr-sections {\n",
       "  padding-left: 0 !important;\n",
       "  display: grid;\n",
       "  grid-template-columns: 150px auto auto 1fr 0 20px 0 20px;\n",
       "}\n",
       "\n",
       ".xr-section-item {\n",
       "  display: contents;\n",
       "}\n",
       "\n",
       ".xr-section-item input {\n",
       "  display: inline-block;\n",
       "  opacity: 0;\n",
       "  height: 0;\n",
       "}\n",
       "\n",
       ".xr-section-item input + label {\n",
       "  color: var(--xr-disabled-color);\n",
       "}\n",
       "\n",
       ".xr-section-item input:enabled + label {\n",
       "  cursor: pointer;\n",
       "  color: var(--xr-font-color2);\n",
       "}\n",
       "\n",
       ".xr-section-item input:focus + label {\n",
       "  border: 2px solid var(--xr-font-color0);\n",
       "}\n",
       "\n",
       ".xr-section-item input:enabled + label:hover {\n",
       "  color: var(--xr-font-color0);\n",
       "}\n",
       "\n",
       ".xr-section-summary {\n",
       "  grid-column: 1;\n",
       "  color: var(--xr-font-color2);\n",
       "  font-weight: 500;\n",
       "}\n",
       "\n",
       ".xr-section-summary > span {\n",
       "  display: inline-block;\n",
       "  padding-left: 0.5em;\n",
       "}\n",
       "\n",
       ".xr-section-summary-in:disabled + label {\n",
       "  color: var(--xr-font-color2);\n",
       "}\n",
       "\n",
       ".xr-section-summary-in + label:before {\n",
       "  display: inline-block;\n",
       "  content: \"►\";\n",
       "  font-size: 11px;\n",
       "  width: 15px;\n",
       "  text-align: center;\n",
       "}\n",
       "\n",
       ".xr-section-summary-in:disabled + label:before {\n",
       "  color: var(--xr-disabled-color);\n",
       "}\n",
       "\n",
       ".xr-section-summary-in:checked + label:before {\n",
       "  content: \"▼\";\n",
       "}\n",
       "\n",
       ".xr-section-summary-in:checked + label > span {\n",
       "  display: none;\n",
       "}\n",
       "\n",
       ".xr-section-summary,\n",
       ".xr-section-inline-details {\n",
       "  padding-top: 4px;\n",
       "  padding-bottom: 4px;\n",
       "}\n",
       "\n",
       ".xr-section-inline-details {\n",
       "  grid-column: 2 / -1;\n",
       "}\n",
       "\n",
       ".xr-section-details {\n",
       "  display: none;\n",
       "  grid-column: 1 / -1;\n",
       "  margin-bottom: 5px;\n",
       "}\n",
       "\n",
       ".xr-section-summary-in:checked ~ .xr-section-details {\n",
       "  display: contents;\n",
       "}\n",
       "\n",
       ".xr-array-wrap {\n",
       "  grid-column: 1 / -1;\n",
       "  display: grid;\n",
       "  grid-template-columns: 20px auto;\n",
       "}\n",
       "\n",
       ".xr-array-wrap > label {\n",
       "  grid-column: 1;\n",
       "  vertical-align: top;\n",
       "}\n",
       "\n",
       ".xr-preview {\n",
       "  color: var(--xr-font-color3);\n",
       "}\n",
       "\n",
       ".xr-array-preview,\n",
       ".xr-array-data {\n",
       "  padding: 0 5px !important;\n",
       "  grid-column: 2;\n",
       "}\n",
       "\n",
       ".xr-array-data,\n",
       ".xr-array-in:checked ~ .xr-array-preview {\n",
       "  display: none;\n",
       "}\n",
       "\n",
       ".xr-array-in:checked ~ .xr-array-data,\n",
       ".xr-array-preview {\n",
       "  display: inline-block;\n",
       "}\n",
       "\n",
       ".xr-dim-list {\n",
       "  display: inline-block !important;\n",
       "  list-style: none;\n",
       "  padding: 0 !important;\n",
       "  margin: 0;\n",
       "}\n",
       "\n",
       ".xr-dim-list li {\n",
       "  display: inline-block;\n",
       "  padding: 0;\n",
       "  margin: 0;\n",
       "}\n",
       "\n",
       ".xr-dim-list:before {\n",
       "  content: \"(\";\n",
       "}\n",
       "\n",
       ".xr-dim-list:after {\n",
       "  content: \")\";\n",
       "}\n",
       "\n",
       ".xr-dim-list li:not(:last-child):after {\n",
       "  content: \",\";\n",
       "  padding-right: 5px;\n",
       "}\n",
       "\n",
       ".xr-has-index {\n",
       "  font-weight: bold;\n",
       "}\n",
       "\n",
       ".xr-var-list,\n",
       ".xr-var-item {\n",
       "  display: contents;\n",
       "}\n",
       "\n",
       ".xr-var-item > div,\n",
       ".xr-var-item label,\n",
       ".xr-var-item > .xr-var-name span {\n",
       "  background-color: var(--xr-background-color-row-even);\n",
       "  margin-bottom: 0;\n",
       "}\n",
       "\n",
       ".xr-var-item > .xr-var-name:hover span {\n",
       "  padding-right: 5px;\n",
       "}\n",
       "\n",
       ".xr-var-list > li:nth-child(odd) > div,\n",
       ".xr-var-list > li:nth-child(odd) > label,\n",
       ".xr-var-list > li:nth-child(odd) > .xr-var-name span {\n",
       "  background-color: var(--xr-background-color-row-odd);\n",
       "}\n",
       "\n",
       ".xr-var-name {\n",
       "  grid-column: 1;\n",
       "}\n",
       "\n",
       ".xr-var-dims {\n",
       "  grid-column: 2;\n",
       "}\n",
       "\n",
       ".xr-var-dtype {\n",
       "  grid-column: 3;\n",
       "  text-align: right;\n",
       "  color: var(--xr-font-color2);\n",
       "}\n",
       "\n",
       ".xr-var-preview {\n",
       "  grid-column: 4;\n",
       "}\n",
       "\n",
       ".xr-index-preview {\n",
       "  grid-column: 2 / 5;\n",
       "  color: var(--xr-font-color2);\n",
       "}\n",
       "\n",
       ".xr-var-name,\n",
       ".xr-var-dims,\n",
       ".xr-var-dtype,\n",
       ".xr-preview,\n",
       ".xr-attrs dt {\n",
       "  white-space: nowrap;\n",
       "  overflow: hidden;\n",
       "  text-overflow: ellipsis;\n",
       "  padding-right: 10px;\n",
       "}\n",
       "\n",
       ".xr-var-name:hover,\n",
       ".xr-var-dims:hover,\n",
       ".xr-var-dtype:hover,\n",
       ".xr-attrs dt:hover {\n",
       "  overflow: visible;\n",
       "  width: auto;\n",
       "  z-index: 1;\n",
       "}\n",
       "\n",
       ".xr-var-attrs,\n",
       ".xr-var-data,\n",
       ".xr-index-data {\n",
       "  display: none;\n",
       "  background-color: var(--xr-background-color) !important;\n",
       "  padding-bottom: 5px !important;\n",
       "}\n",
       "\n",
       ".xr-var-attrs-in:checked ~ .xr-var-attrs,\n",
       ".xr-var-data-in:checked ~ .xr-var-data,\n",
       ".xr-index-data-in:checked ~ .xr-index-data {\n",
       "  display: block;\n",
       "}\n",
       "\n",
       ".xr-var-data > table {\n",
       "  float: right;\n",
       "}\n",
       "\n",
       ".xr-var-name span,\n",
       ".xr-var-data,\n",
       ".xr-index-name div,\n",
       ".xr-index-data,\n",
       ".xr-attrs {\n",
       "  padding-left: 25px !important;\n",
       "}\n",
       "\n",
       ".xr-attrs,\n",
       ".xr-var-attrs,\n",
       ".xr-var-data,\n",
       ".xr-index-data {\n",
       "  grid-column: 1 / -1;\n",
       "}\n",
       "\n",
       "dl.xr-attrs {\n",
       "  padding: 0;\n",
       "  margin: 0;\n",
       "  display: grid;\n",
       "  grid-template-columns: 125px auto;\n",
       "}\n",
       "\n",
       ".xr-attrs dt,\n",
       ".xr-attrs dd {\n",
       "  padding: 0;\n",
       "  margin: 0;\n",
       "  float: left;\n",
       "  padding-right: 10px;\n",
       "  width: auto;\n",
       "}\n",
       "\n",
       ".xr-attrs dt {\n",
       "  font-weight: normal;\n",
       "  grid-column: 1;\n",
       "}\n",
       "\n",
       ".xr-attrs dt:hover span {\n",
       "  display: inline-block;\n",
       "  background: var(--xr-background-color);\n",
       "  padding-right: 10px;\n",
       "}\n",
       "\n",
       ".xr-attrs dd {\n",
       "  grid-column: 2;\n",
       "  white-space: pre-wrap;\n",
       "  word-break: break-all;\n",
       "}\n",
       "\n",
       ".xr-icon-database,\n",
       ".xr-icon-file-text2,\n",
       ".xr-no-icon {\n",
       "  display: inline-block;\n",
       "  vertical-align: middle;\n",
       "  width: 1em;\n",
       "  height: 1.5em !important;\n",
       "  stroke-width: 0;\n",
       "  stroke: currentColor;\n",
       "  fill: currentColor;\n",
       "}\n",
       "</style><pre class='xr-text-repr-fallback'>&lt;xarray.Dataset&gt; Size: 1kB\n",
       "Dimensions:                     (a: 2, b: 2, c: 2, i: 3, j: 2)\n",
       "Coordinates:\n",
       "    x                           (a) float64 16B 0.1 0.2\n",
       "    y                           (b) float64 16B 0.2 0.3\n",
       "    coarse_mesh_size:mesh_size  (c) object 16B (0.05, 0.01) (0.06, 0.02)\n",
       "    V_left                      (i) float64 24B 0.0 1.0 2.0\n",
       "    V_right                     (j) float64 16B -0.5 0.5\n",
       "Dimensions without coordinates: a, b, c, i, j\n",
       "Data variables:\n",
       "    geo                         (a, b) object 32B Geometry(x=np.float64(0.1),...\n",
       "    mesh                        (a, b, c) object 64B Mesh(geometry=Geometry(x...\n",
       "    coarse_mesh                 (a, b, c) object 64B Mesh(geometry=Geometry(x...\n",
       "    materials                   (a, b) object 32B Materials(geometry=Geometry...\n",
       "    electrostatics              (i, j, a, b, c) object 384B Electrostatics(me...\n",
       "    charge                      (i, j, a, b, c) object 384B -0.5 -0.5 ... 2.5\n",
       "    average_charge              (a, b, c) object 64B 1.0 1.0 1.0 ... 1.0 1.0 1.0</pre><div class='xr-wrap' style='display:none'><div class='xr-header'><div class='xr-obj-type'>xarray.Dataset</div></div><ul class='xr-sections'><li class='xr-section-item'><input id='section-24c8b7d2-7547-4fde-87d8-82901e5fa9f8' class='xr-section-summary-in' type='checkbox' disabled ><label for='section-24c8b7d2-7547-4fde-87d8-82901e5fa9f8' class='xr-section-summary'  title='Expand/collapse section'>Dimensions:</label><div class='xr-section-inline-details'><ul class='xr-dim-list'><li><span>a</span>: 2</li><li><span>b</span>: 2</li><li><span>c</span>: 2</li><li><span>i</span>: 3</li><li><span>j</span>: 2</li></ul></div><div class='xr-section-details'></div></li><li class='xr-section-item'><input id='section-45105953-0643-4535-9d19-675761957326' class='xr-section-summary-in' type='checkbox'  checked><label for='section-45105953-0643-4535-9d19-675761957326' class='xr-section-summary' >Coordinates: <span>(5)</span></label><div class='xr-section-inline-details'></div><div class='xr-section-details'><ul class='xr-var-list'><li class='xr-var-item'><div class='xr-var-name'><span>x</span></div><div class='xr-var-dims'>(a)</div><div class='xr-var-dtype'>float64</div><div class='xr-var-preview xr-preview'>0.1 0.2</div><input id='attrs-ad981867-07b7-4d03-a4cd-fbed03f079a6' class='xr-var-attrs-in' type='checkbox' disabled><label for='attrs-ad981867-07b7-4d03-a4cd-fbed03f079a6' title='Show/Hide attributes'><svg class='icon xr-icon-file-text2'><use xlink:href='#icon-file-text2'></use></svg></label><input id='data-e6c4f607-8183-43e1-ba43-7aab1326f533' class='xr-var-data-in' type='checkbox'><label for='data-e6c4f607-8183-43e1-ba43-7aab1326f533' title='Show/Hide data repr'><svg class='icon xr-icon-database'><use xlink:href='#icon-database'></use></svg></label><div class='xr-var-attrs'><dl class='xr-attrs'></dl></div><div class='xr-var-data'><pre>array([0.1, 0.2])</pre></div></li><li class='xr-var-item'><div class='xr-var-name'><span>y</span></div><div class='xr-var-dims'>(b)</div><div class='xr-var-dtype'>float64</div><div class='xr-var-preview xr-preview'>0.2 0.3</div><input id='attrs-2a001890-f22e-44cd-b26e-8b253091035b' class='xr-var-attrs-in' type='checkbox' disabled><label for='attrs-2a001890-f22e-44cd-b26e-8b253091035b' title='Show/Hide attributes'><svg class='icon xr-icon-file-text2'><use xlink:href='#icon-file-text2'></use></svg></label><input id='data-dea23190-6f7d-43bd-b897-60c938f82bab' class='xr-var-data-in' type='checkbox'><label for='data-dea23190-6f7d-43bd-b897-60c938f82bab' title='Show/Hide data repr'><svg class='icon xr-icon-database'><use xlink:href='#icon-database'></use></svg></label><div class='xr-var-attrs'><dl class='xr-attrs'></dl></div><div class='xr-var-data'><pre>array([0.2, 0.3])</pre></div></li><li class='xr-var-item'><div class='xr-var-name'><span>coarse_mesh_size:mesh_size</span></div><div class='xr-var-dims'>(c)</div><div class='xr-var-dtype'>object</div><div class='xr-var-preview xr-preview'>(0.05, 0.01) (0.06, 0.02)</div><input id='attrs-3a6c1280-68a9-4e47-8127-95298a34ba42' class='xr-var-attrs-in' type='checkbox' disabled><label for='attrs-3a6c1280-68a9-4e47-8127-95298a34ba42' title='Show/Hide attributes'><svg class='icon xr-icon-file-text2'><use xlink:href='#icon-file-text2'></use></svg></label><input id='data-e79feb0c-f754-4643-8b78-735759e98c61' class='xr-var-data-in' type='checkbox'><label for='data-e79feb0c-f754-4643-8b78-735759e98c61' title='Show/Hide data repr'><svg class='icon xr-icon-database'><use xlink:href='#icon-database'></use></svg></label><div class='xr-var-attrs'><dl class='xr-attrs'></dl></div><div class='xr-var-data'><pre>array([(0.05, 0.01), (0.06, 0.02)], dtype=object)</pre></div></li><li class='xr-var-item'><div class='xr-var-name'><span>V_left</span></div><div class='xr-var-dims'>(i)</div><div class='xr-var-dtype'>float64</div><div class='xr-var-preview xr-preview'>0.0 1.0 2.0</div><input id='attrs-746b2993-546f-49ae-bd4f-11ee41c4063b' class='xr-var-attrs-in' type='checkbox' disabled><label for='attrs-746b2993-546f-49ae-bd4f-11ee41c4063b' title='Show/Hide attributes'><svg class='icon xr-icon-file-text2'><use xlink:href='#icon-file-text2'></use></svg></label><input id='data-4d0e2008-5136-4fd6-9f75-e44023481408' class='xr-var-data-in' type='checkbox'><label for='data-4d0e2008-5136-4fd6-9f75-e44023481408' title='Show/Hide data repr'><svg class='icon xr-icon-database'><use xlink:href='#icon-database'></use></svg></label><div class='xr-var-attrs'><dl class='xr-attrs'></dl></div><div class='xr-var-data'><pre>array([0., 1., 2.])</pre></div></li><li class='xr-var-item'><div class='xr-var-name'><span>V_right</span></div><div class='xr-var-dims'>(j)</div><div class='xr-var-dtype'>float64</div><div class='xr-var-preview xr-preview'>-0.5 0.5</div><input id='attrs-df73c558-0f47-499a-b433-8ecc5bd11c2f' class='xr-var-attrs-in' type='checkbox' disabled><label for='attrs-df73c558-0f47-499a-b433-8ecc5bd11c2f' title='Show/Hide attributes'><svg class='icon xr-icon-file-text2'><use xlink:href='#icon-file-text2'></use></svg></label><input id='data-47509c6b-2bee-4dfd-aaf4-f89f2cddd644' class='xr-var-data-in' type='checkbox'><label for='data-47509c6b-2bee-4dfd-aaf4-f89f2cddd644' title='Show/Hide data repr'><svg class='icon xr-icon-database'><use xlink:href='#icon-database'></use></svg></label><div class='xr-var-attrs'><dl class='xr-attrs'></dl></div><div class='xr-var-data'><pre>array([-0.5,  0.5])</pre></div></li></ul></div></li><li class='xr-section-item'><input id='section-721ebcc4-9a37-4324-a785-7a418e934b63' class='xr-section-summary-in' type='checkbox'  checked><label for='section-721ebcc4-9a37-4324-a785-7a418e934b63' class='xr-section-summary' >Data variables: <span>(7)</span></label><div class='xr-section-inline-details'></div><div class='xr-section-details'><ul class='xr-var-list'><li class='xr-var-item'><div class='xr-var-name'><span>geo</span></div><div class='xr-var-dims'>(a, b)</div><div class='xr-var-dtype'>object</div><div class='xr-var-preview xr-preview'>Geometry(x=np.float64(0.1), y=np...</div><input id='attrs-daa2bbed-444e-446c-812c-df985cf2acfe' class='xr-var-attrs-in' type='checkbox' disabled><label for='attrs-daa2bbed-444e-446c-812c-df985cf2acfe' title='Show/Hide attributes'><svg class='icon xr-icon-file-text2'><use xlink:href='#icon-file-text2'></use></svg></label><input id='data-d8f9f846-622d-4e35-844d-488cd792a4a7' class='xr-var-data-in' type='checkbox'><label for='data-d8f9f846-622d-4e35-844d-488cd792a4a7' title='Show/Hide data repr'><svg class='icon xr-icon-database'><use xlink:href='#icon-database'></use></svg></label><div class='xr-var-attrs'><dl class='xr-attrs'></dl></div><div class='xr-var-data'><pre>array([[Geometry(x=np.float64(0.1), y=np.float64(0.2)),\n",
       "        Geometry(x=np.float64(0.1), y=np.float64(0.3))],\n",
       "       [Geometry(x=np.float64(0.2), y=np.float64(0.2)),\n",
       "        Geometry(x=np.float64(0.2), y=np.float64(0.3))]], dtype=object)</pre></div></li><li class='xr-var-item'><div class='xr-var-name'><span>mesh</span></div><div class='xr-var-dims'>(a, b, c)</div><div class='xr-var-dtype'>object</div><div class='xr-var-preview xr-preview'>Mesh(geometry=Geometry(x=np.floa...</div><input id='attrs-a82f6c0b-fd85-4524-b2be-3af71654ad43' class='xr-var-attrs-in' type='checkbox' disabled><label for='attrs-a82f6c0b-fd85-4524-b2be-3af71654ad43' title='Show/Hide attributes'><svg class='icon xr-icon-file-text2'><use xlink:href='#icon-file-text2'></use></svg></label><input id='data-b05411b1-faff-4cf0-879d-2d9bf48e65c5' class='xr-var-data-in' type='checkbox'><label for='data-b05411b1-faff-4cf0-879d-2d9bf48e65c5' title='Show/Hide data repr'><svg class='icon xr-icon-database'><use xlink:href='#icon-database'></use></svg></label><div class='xr-var-attrs'><dl class='xr-attrs'></dl></div><div class='xr-var-data'><pre>array([[[Mesh(geometry=Geometry(x=np.float64(0.1), y=np.float64(0.2)), mesh_size=0.01),\n",
       "         Mesh(geometry=Geometry(x=np.float64(0.1), y=np.float64(0.2)), mesh_size=0.02)],\n",
       "        [Mesh(geometry=Geometry(x=np.float64(0.1), y=np.float64(0.3)), mesh_size=0.01),\n",
       "         Mesh(geometry=Geometry(x=np.float64(0.1), y=np.float64(0.3)), mesh_size=0.02)]],\n",
       "\n",
       "       [[Mesh(geometry=Geometry(x=np.float64(0.2), y=np.float64(0.2)), mesh_size=0.01),\n",
       "         Mesh(geometry=Geometry(x=np.float64(0.2), y=np.float64(0.2)), mesh_size=0.02)],\n",
       "        [Mesh(geometry=Geometry(x=np.float64(0.2), y=np.float64(0.3)), mesh_size=0.01),\n",
       "         Mesh(geometry=Geometry(x=np.float64(0.2), y=np.float64(0.3)), mesh_size=0.02)]]],\n",
       "      dtype=object)</pre></div></li><li class='xr-var-item'><div class='xr-var-name'><span>coarse_mesh</span></div><div class='xr-var-dims'>(a, b, c)</div><div class='xr-var-dtype'>object</div><div class='xr-var-preview xr-preview'>Mesh(geometry=Geometry(x=np.floa...</div><input id='attrs-d5827400-7b6a-4b9b-820c-d5c3ccc2a7b2' class='xr-var-attrs-in' type='checkbox' disabled><label for='attrs-d5827400-7b6a-4b9b-820c-d5c3ccc2a7b2' title='Show/Hide attributes'><svg class='icon xr-icon-file-text2'><use xlink:href='#icon-file-text2'></use></svg></label><input id='data-20cae49e-d3a2-4f92-aacb-d0868b45fde8' class='xr-var-data-in' type='checkbox'><label for='data-20cae49e-d3a2-4f92-aacb-d0868b45fde8' title='Show/Hide data repr'><svg class='icon xr-icon-database'><use xlink:href='#icon-database'></use></svg></label><div class='xr-var-attrs'><dl class='xr-attrs'></dl></div><div class='xr-var-data'><pre>array([[[Mesh(geometry=Geometry(x=np.float64(0.1), y=np.float64(0.2)), mesh_size=0.05),\n",
       "         Mesh(geometry=Geometry(x=np.float64(0.1), y=np.float64(0.2)), mesh_size=0.06)],\n",
       "        [Mesh(geometry=Geometry(x=np.float64(0.1), y=np.float64(0.3)), mesh_size=0.05),\n",
       "         Mesh(geometry=Geometry(x=np.float64(0.1), y=np.float64(0.3)), mesh_size=0.06)]],\n",
       "\n",
       "       [[Mesh(geometry=Geometry(x=np.float64(0.2), y=np.float64(0.2)), mesh_size=0.05),\n",
       "         Mesh(geometry=Geometry(x=np.float64(0.2), y=np.float64(0.2)), mesh_size=0.06)],\n",
       "        [Mesh(geometry=Geometry(x=np.float64(0.2), y=np.float64(0.3)), mesh_size=0.05),\n",
       "         Mesh(geometry=Geometry(x=np.float64(0.2), y=np.float64(0.3)), mesh_size=0.06)]]],\n",
       "      dtype=object)</pre></div></li><li class='xr-var-item'><div class='xr-var-name'><span>materials</span></div><div class='xr-var-dims'>(a, b)</div><div class='xr-var-dtype'>object</div><div class='xr-var-preview xr-preview'>Materials(geometry=Geometry(x=np...</div><input id='attrs-b2149756-6165-451b-9145-14d98e32647a' class='xr-var-attrs-in' type='checkbox' disabled><label for='attrs-b2149756-6165-451b-9145-14d98e32647a' title='Show/Hide attributes'><svg class='icon xr-icon-file-text2'><use xlink:href='#icon-file-text2'></use></svg></label><input id='data-e10b92df-43ba-4c69-be5f-3d7ed926a389' class='xr-var-data-in' type='checkbox'><label for='data-e10b92df-43ba-4c69-be5f-3d7ed926a389' title='Show/Hide data repr'><svg class='icon xr-icon-database'><use xlink:href='#icon-database'></use></svg></label><div class='xr-var-attrs'><dl class='xr-attrs'></dl></div><div class='xr-var-data'><pre>array([[Materials(geometry=Geometry(x=np.float64(0.1), y=np.float64(0.2)), materials=[&#x27;i&#x27;, &#x27;j&#x27;, &#x27;c&#x27;]),\n",
       "        Materials(geometry=Geometry(x=np.float64(0.1), y=np.float64(0.3)), materials=[&#x27;i&#x27;, &#x27;j&#x27;, &#x27;c&#x27;])],\n",
       "       [Materials(geometry=Geometry(x=np.float64(0.2), y=np.float64(0.2)), materials=[&#x27;i&#x27;, &#x27;j&#x27;, &#x27;c&#x27;]),\n",
       "        Materials(geometry=Geometry(x=np.float64(0.2), y=np.float64(0.3)), materials=[&#x27;i&#x27;, &#x27;j&#x27;, &#x27;c&#x27;])]],\n",
       "      dtype=object)</pre></div></li><li class='xr-var-item'><div class='xr-var-name'><span>electrostatics</span></div><div class='xr-var-dims'>(i, j, a, b, c)</div><div class='xr-var-dtype'>object</div><div class='xr-var-preview xr-preview'>Electrostatics(mesh=Mesh(geometr...</div><input id='attrs-47ebdbf8-e058-4203-9aed-20bb81e5f4b3' class='xr-var-attrs-in' type='checkbox' disabled><label for='attrs-47ebdbf8-e058-4203-9aed-20bb81e5f4b3' title='Show/Hide attributes'><svg class='icon xr-icon-file-text2'><use xlink:href='#icon-file-text2'></use></svg></label><input id='data-1ed92c86-c372-447f-91cd-5c50c37628d8' class='xr-var-data-in' type='checkbox'><label for='data-1ed92c86-c372-447f-91cd-5c50c37628d8' title='Show/Hide data repr'><svg class='icon xr-icon-database'><use xlink:href='#icon-database'></use></svg></label><div class='xr-var-attrs'><dl class='xr-attrs'></dl></div><div class='xr-var-data'><pre>array([[[[[Electrostatics(mesh=Mesh(geometry=Geometry(x=np.float64(0.1), y=np.float64(0.2)), mesh_size=0.01), materials=Materials(geometry=Geometry(x=np.float64(0.1), y=np.float64(0.2)), materials=[&#x27;i&#x27;, &#x27;j&#x27;, &#x27;c&#x27;]), voltages=[np.float64(0.0), np.float64(-0.5)]),\n",
       "           Electrostatics(mesh=Mesh(geometry=Geometry(x=np.float64(0.1), y=np.float64(0.2)), mesh_size=0.02), materials=Materials(geometry=Geometry(x=np.float64(0.1), y=np.float64(0.2)), materials=[&#x27;i&#x27;, &#x27;j&#x27;, &#x27;c&#x27;]), voltages=[np.float64(0.0), np.float64(-0.5)])],\n",
       "          [Electrostatics(mesh=Mesh(geometry=Geometry(x=np.float64(0.1), y=np.float64(0.3)), mesh_size=0.01), materials=Materials(geometry=Geometry(x=np.float64(0.1), y=np.float64(0.3)), materials=[&#x27;i&#x27;, &#x27;j&#x27;, &#x27;c&#x27;]), voltages=[np.float64(0.0), np.float64(-0.5)]),\n",
       "           Electrostatics(mesh=Mesh(geometry=Geometry(x=np.float64(0.1), y=np.float64(0.3)), mesh_size=0.02), materials=Materials(geometry=Geometry(x=np.float64(0.1), y=np.float64(0.3)), materials=[&#x27;i&#x27;, &#x27;j&#x27;, &#x27;c&#x27;]), voltages=[np.float64(0.0), np.float64(-0.5)])]],\n",
       "\n",
       "         [[Electrostatics(mesh=Mesh(geometry=Geometry(x=np.float64(0.2), y=np.float64(0.2)), mesh_size=0.01), materials=Materials(geometry=Geometry(x=np.float64(0.2), y=np.float64(0.2)), materials=[&#x27;i&#x27;, &#x27;j&#x27;, &#x27;c&#x27;]), voltages=[np.float64(0.0), np.float64(-0.5)]),\n",
       "           Electrostatics(mesh=Mesh(geometry=Geometry(x=np.float64(0.2), y=np.float64(0.2)), mesh_size=0.02), materials=Materials(geometry=Geometry(x=np.float64(0.2), y=np.float64(0.2)), materials=[&#x27;i&#x27;, &#x27;j&#x27;, &#x27;c&#x27;]), voltages=[np.float64(0.0), np.float64(-0.5)])],\n",
       "          [Electrostatics(mesh=Mesh(geometry=Geometry(x=np.float64(0.2), y=np.float64(0.3)), mesh_size=0.01), materials=Materials(geometry=Geometry(x=np.float64(0.2), y=np.float64(0.3)), materials=[&#x27;i&#x27;, &#x27;j&#x27;, &#x27;c&#x27;]), voltages=[np.float64(0.0), np.float64(-0.5)]),\n",
       "           Electrostatics(mesh=Mesh(geometry=Geometry(x=np.float64(0.2), y=np.float64(0.3)), mesh_size=0.02), materials=Materials(geometry=Geometry(x=np.float64(0.2), y=np.float64(0.3)), materials=[&#x27;i&#x27;, &#x27;j&#x27;, &#x27;c&#x27;]), voltages=[np.float64(0.0), np.float64(-0.5)])]]],\n",
       "\n",
       "\n",
       "        [[[Electrostatics(mesh=Mesh(geometry=Geometry(x=np.float64(0.1), y=np.float64(0.2)), mesh_size=0.01), materials=Materials(geometry=Geometry(x=np.float64(0.1), y=np.float64(0.2)), materials=[&#x27;i&#x27;, &#x27;j&#x27;, &#x27;c&#x27;]), voltages=[np.float64(0.0), np.float64(0.5)]),\n",
       "           Electrostatics(mesh=Mesh(geometry=Geometry(x=np.float64(0.1), y=np.float64(0.2)), mesh_size=0.02), materials=Materials(geometry=Geometry(x=np.float64(0.1), y=np.float64(0.2)), materials=[&#x27;i&#x27;, &#x27;j&#x27;, &#x27;c&#x27;]), voltages=[np.float64(0.0), np.float64(0.5)])],\n",
       "          [Electrostatics(mesh=Mesh(geometry=Geometry(x=np.float64(0.1), y=np.float64(0.3)), mesh_size=0.01), materials=Materials(geometry=Geometry(x=np.float64(0.1), y=np.float64(0.3)), materials=[&#x27;i&#x27;, &#x27;j&#x27;, &#x27;c&#x27;]), voltages=[np.float64(0.0), np.float64(0.5)]),\n",
       "           Electrostatics(mesh=Mesh(geometry=Geometry(x=np.float64(0.1), y=np.float64(0.3)), mesh_size=0.02), materials=Materials(geometry=Geometry(x=np.float64(0.1), y=np.float64(0.3)), materials=[&#x27;i&#x27;, &#x27;j&#x27;, &#x27;c&#x27;]), voltages=[np.float64(0.0), np.float64(0.5)])]],\n",
       "\n",
       "         [[Electrostatics(mesh=Mesh(geometry=Geometry(x=np.float64(0.2), y=np.float64(0.2)), mesh_size=0.01), materials=Materials(geometry=Geometry(x=np.float64(0.2), y=np.float64(0.2)), materials=[&#x27;i&#x27;, &#x27;j&#x27;, &#x27;c&#x27;]), voltages=[np.float64(0.0), np.float64(0.5)]),\n",
       "           Electrostatics(mesh=Mesh(geometry=Geometry(x=np.float64(0.2), y=np.float64(0.2)), mesh_size=0.02), materials=Materials(geometry=Geometry(x=np.float64(0.2), y=np.float64(0.2)), materials=[&#x27;i&#x27;, &#x27;j&#x27;, &#x27;c&#x27;]), voltages=[np.float64(0.0), np.float64(0.5)])],\n",
       "          [Electrostatics(mesh=Mesh(geometry=Geometry(x=np.float64(0.2), y=np.float64(0.3)), mesh_size=0.01), materials=Materials(geometry=Geometry(x=np.float64(0.2), y=np.float64(0.3)), materials=[&#x27;i&#x27;, &#x27;j&#x27;, &#x27;c&#x27;]), voltages=[np.float64(0.0), np.float64(0.5)]),\n",
       "           Electrostatics(mesh=Mesh(geometry=Geometry(x=np.float64(0.2), y=np.float64(0.3)), mesh_size=0.02), materials=Materials(geometry=Geometry(x=np.float64(0.2), y=np.float64(0.3)), materials=[&#x27;i&#x27;, &#x27;j&#x27;, &#x27;c&#x27;]), voltages=[np.float64(0.0), np.float64(0.5)])]]]],\n",
       "...\n",
       "           Electrostatics(mesh=Mesh(geometry=Geometry(x=np.float64(0.1), y=np.float64(0.2)), mesh_size=0.02), materials=Materials(geometry=Geometry(x=np.float64(0.1), y=np.float64(0.2)), materials=[&#x27;i&#x27;, &#x27;j&#x27;, &#x27;c&#x27;]), voltages=[np.float64(2.0), np.float64(-0.5)])],\n",
       "          [Electrostatics(mesh=Mesh(geometry=Geometry(x=np.float64(0.1), y=np.float64(0.3)), mesh_size=0.01), materials=Materials(geometry=Geometry(x=np.float64(0.1), y=np.float64(0.3)), materials=[&#x27;i&#x27;, &#x27;j&#x27;, &#x27;c&#x27;]), voltages=[np.float64(2.0), np.float64(-0.5)]),\n",
       "           Electrostatics(mesh=Mesh(geometry=Geometry(x=np.float64(0.1), y=np.float64(0.3)), mesh_size=0.02), materials=Materials(geometry=Geometry(x=np.float64(0.1), y=np.float64(0.3)), materials=[&#x27;i&#x27;, &#x27;j&#x27;, &#x27;c&#x27;]), voltages=[np.float64(2.0), np.float64(-0.5)])]],\n",
       "\n",
       "         [[Electrostatics(mesh=Mesh(geometry=Geometry(x=np.float64(0.2), y=np.float64(0.2)), mesh_size=0.01), materials=Materials(geometry=Geometry(x=np.float64(0.2), y=np.float64(0.2)), materials=[&#x27;i&#x27;, &#x27;j&#x27;, &#x27;c&#x27;]), voltages=[np.float64(2.0), np.float64(-0.5)]),\n",
       "           Electrostatics(mesh=Mesh(geometry=Geometry(x=np.float64(0.2), y=np.float64(0.2)), mesh_size=0.02), materials=Materials(geometry=Geometry(x=np.float64(0.2), y=np.float64(0.2)), materials=[&#x27;i&#x27;, &#x27;j&#x27;, &#x27;c&#x27;]), voltages=[np.float64(2.0), np.float64(-0.5)])],\n",
       "          [Electrostatics(mesh=Mesh(geometry=Geometry(x=np.float64(0.2), y=np.float64(0.3)), mesh_size=0.01), materials=Materials(geometry=Geometry(x=np.float64(0.2), y=np.float64(0.3)), materials=[&#x27;i&#x27;, &#x27;j&#x27;, &#x27;c&#x27;]), voltages=[np.float64(2.0), np.float64(-0.5)]),\n",
       "           Electrostatics(mesh=Mesh(geometry=Geometry(x=np.float64(0.2), y=np.float64(0.3)), mesh_size=0.02), materials=Materials(geometry=Geometry(x=np.float64(0.2), y=np.float64(0.3)), materials=[&#x27;i&#x27;, &#x27;j&#x27;, &#x27;c&#x27;]), voltages=[np.float64(2.0), np.float64(-0.5)])]]],\n",
       "\n",
       "\n",
       "        [[[Electrostatics(mesh=Mesh(geometry=Geometry(x=np.float64(0.1), y=np.float64(0.2)), mesh_size=0.01), materials=Materials(geometry=Geometry(x=np.float64(0.1), y=np.float64(0.2)), materials=[&#x27;i&#x27;, &#x27;j&#x27;, &#x27;c&#x27;]), voltages=[np.float64(2.0), np.float64(0.5)]),\n",
       "           Electrostatics(mesh=Mesh(geometry=Geometry(x=np.float64(0.1), y=np.float64(0.2)), mesh_size=0.02), materials=Materials(geometry=Geometry(x=np.float64(0.1), y=np.float64(0.2)), materials=[&#x27;i&#x27;, &#x27;j&#x27;, &#x27;c&#x27;]), voltages=[np.float64(2.0), np.float64(0.5)])],\n",
       "          [Electrostatics(mesh=Mesh(geometry=Geometry(x=np.float64(0.1), y=np.float64(0.3)), mesh_size=0.01), materials=Materials(geometry=Geometry(x=np.float64(0.1), y=np.float64(0.3)), materials=[&#x27;i&#x27;, &#x27;j&#x27;, &#x27;c&#x27;]), voltages=[np.float64(2.0), np.float64(0.5)]),\n",
       "           Electrostatics(mesh=Mesh(geometry=Geometry(x=np.float64(0.1), y=np.float64(0.3)), mesh_size=0.02), materials=Materials(geometry=Geometry(x=np.float64(0.1), y=np.float64(0.3)), materials=[&#x27;i&#x27;, &#x27;j&#x27;, &#x27;c&#x27;]), voltages=[np.float64(2.0), np.float64(0.5)])]],\n",
       "\n",
       "         [[Electrostatics(mesh=Mesh(geometry=Geometry(x=np.float64(0.2), y=np.float64(0.2)), mesh_size=0.01), materials=Materials(geometry=Geometry(x=np.float64(0.2), y=np.float64(0.2)), materials=[&#x27;i&#x27;, &#x27;j&#x27;, &#x27;c&#x27;]), voltages=[np.float64(2.0), np.float64(0.5)]),\n",
       "           Electrostatics(mesh=Mesh(geometry=Geometry(x=np.float64(0.2), y=np.float64(0.2)), mesh_size=0.02), materials=Materials(geometry=Geometry(x=np.float64(0.2), y=np.float64(0.2)), materials=[&#x27;i&#x27;, &#x27;j&#x27;, &#x27;c&#x27;]), voltages=[np.float64(2.0), np.float64(0.5)])],\n",
       "          [Electrostatics(mesh=Mesh(geometry=Geometry(x=np.float64(0.2), y=np.float64(0.3)), mesh_size=0.01), materials=Materials(geometry=Geometry(x=np.float64(0.2), y=np.float64(0.3)), materials=[&#x27;i&#x27;, &#x27;j&#x27;, &#x27;c&#x27;]), voltages=[np.float64(2.0), np.float64(0.5)]),\n",
       "           Electrostatics(mesh=Mesh(geometry=Geometry(x=np.float64(0.2), y=np.float64(0.3)), mesh_size=0.02), materials=Materials(geometry=Geometry(x=np.float64(0.2), y=np.float64(0.3)), materials=[&#x27;i&#x27;, &#x27;j&#x27;, &#x27;c&#x27;]), voltages=[np.float64(2.0), np.float64(0.5)])]]]]],\n",
       "      dtype=object)</pre></div></li><li class='xr-var-item'><div class='xr-var-name'><span>charge</span></div><div class='xr-var-dims'>(i, j, a, b, c)</div><div class='xr-var-dtype'>object</div><div class='xr-var-preview xr-preview'>-0.5 -0.5 -0.5 -0.5 ... 2.5 2.5 2.5</div><input id='attrs-8cf60980-eafb-4628-95f9-99e4ca4bc601' class='xr-var-attrs-in' type='checkbox' disabled><label for='attrs-8cf60980-eafb-4628-95f9-99e4ca4bc601' title='Show/Hide attributes'><svg class='icon xr-icon-file-text2'><use xlink:href='#icon-file-text2'></use></svg></label><input id='data-70a5ed02-2ac8-4ec1-9cfe-cd2f5270d2b6' class='xr-var-data-in' type='checkbox'><label for='data-70a5ed02-2ac8-4ec1-9cfe-cd2f5270d2b6' title='Show/Hide data repr'><svg class='icon xr-icon-database'><use xlink:href='#icon-database'></use></svg></label><div class='xr-var-attrs'><dl class='xr-attrs'></dl></div><div class='xr-var-data'><pre>array([[[[[np.float64(-0.5), np.float64(-0.5)],\n",
       "          [np.float64(-0.5), np.float64(-0.5)]],\n",
       "\n",
       "         [[np.float64(-0.5), np.float64(-0.5)],\n",
       "          [np.float64(-0.5), np.float64(-0.5)]]],\n",
       "\n",
       "\n",
       "        [[[np.float64(0.5), np.float64(0.5)],\n",
       "          [np.float64(0.5), np.float64(0.5)]],\n",
       "\n",
       "         [[np.float64(0.5), np.float64(0.5)],\n",
       "          [np.float64(0.5), np.float64(0.5)]]]],\n",
       "\n",
       "\n",
       "\n",
       "       [[[[np.float64(0.5), np.float64(0.5)],\n",
       "          [np.float64(0.5), np.float64(0.5)]],\n",
       "\n",
       "         [[np.float64(0.5), np.float64(0.5)],\n",
       "          [np.float64(0.5), np.float64(0.5)]]],\n",
       "...\n",
       "        [[[np.float64(1.5), np.float64(1.5)],\n",
       "          [np.float64(1.5), np.float64(1.5)]],\n",
       "\n",
       "         [[np.float64(1.5), np.float64(1.5)],\n",
       "          [np.float64(1.5), np.float64(1.5)]]]],\n",
       "\n",
       "\n",
       "\n",
       "       [[[[np.float64(1.5), np.float64(1.5)],\n",
       "          [np.float64(1.5), np.float64(1.5)]],\n",
       "\n",
       "         [[np.float64(1.5), np.float64(1.5)],\n",
       "          [np.float64(1.5), np.float64(1.5)]]],\n",
       "\n",
       "\n",
       "        [[[np.float64(2.5), np.float64(2.5)],\n",
       "          [np.float64(2.5), np.float64(2.5)]],\n",
       "\n",
       "         [[np.float64(2.5), np.float64(2.5)],\n",
       "          [np.float64(2.5), np.float64(2.5)]]]]], dtype=object)</pre></div></li><li class='xr-var-item'><div class='xr-var-name'><span>average_charge</span></div><div class='xr-var-dims'>(a, b, c)</div><div class='xr-var-dtype'>object</div><div class='xr-var-preview xr-preview'>1.0 1.0 1.0 1.0 1.0 1.0 1.0 1.0</div><input id='attrs-684663d8-2b0b-4846-b02d-196c910395ef' class='xr-var-attrs-in' type='checkbox' disabled><label for='attrs-684663d8-2b0b-4846-b02d-196c910395ef' title='Show/Hide attributes'><svg class='icon xr-icon-file-text2'><use xlink:href='#icon-file-text2'></use></svg></label><input id='data-4d1af5a6-ba12-4042-b934-67713c246107' class='xr-var-data-in' type='checkbox'><label for='data-4d1af5a6-ba12-4042-b934-67713c246107' title='Show/Hide data repr'><svg class='icon xr-icon-database'><use xlink:href='#icon-database'></use></svg></label><div class='xr-var-attrs'><dl class='xr-attrs'></dl></div><div class='xr-var-data'><pre>array([[[np.float64(1.0), np.float64(1.0)],\n",
       "        [np.float64(1.0), np.float64(1.0)]],\n",
       "\n",
       "       [[np.float64(1.0), np.float64(1.0)],\n",
       "        [np.float64(1.0), np.float64(1.0)]]], dtype=object)</pre></div></li></ul></div></li><li class='xr-section-item'><input id='section-7bb3ac28-131a-4591-85e2-7275445c1923' class='xr-section-summary-in' type='checkbox' disabled ><label for='section-7bb3ac28-131a-4591-85e2-7275445c1923' class='xr-section-summary'  title='Expand/collapse section'>Indexes: <span>(0)</span></label><div class='xr-section-inline-details'></div><div class='xr-section-details'><ul class='xr-var-list'></ul></div></li><li class='xr-section-item'><input id='section-b1e22b6f-04a3-431f-bc2c-aecbb73d60ae' class='xr-section-summary-in' type='checkbox' disabled ><label for='section-b1e22b6f-04a3-431f-bc2c-aecbb73d60ae' class='xr-section-summary'  title='Expand/collapse section'>Attributes: <span>(0)</span></label><div class='xr-section-inline-details'></div><div class='xr-section-details'><dl class='xr-attrs'></dl></div></li></ul></div></div>"
      ],
      "text/plain": [
       "<xarray.Dataset> Size: 1kB\n",
       "Dimensions:                     (a: 2, b: 2, c: 2, i: 3, j: 2)\n",
       "Coordinates:\n",
       "    x                           (a) float64 16B 0.1 0.2\n",
       "    y                           (b) float64 16B 0.2 0.3\n",
       "    coarse_mesh_size:mesh_size  (c) object 16B (0.05, 0.01) (0.06, 0.02)\n",
       "    V_left                      (i) float64 24B 0.0 1.0 2.0\n",
       "    V_right                     (j) float64 16B -0.5 0.5\n",
       "Dimensions without coordinates: a, b, c, i, j\n",
       "Data variables:\n",
       "    geo                         (a, b) object 32B Geometry(x=np.float64(0.1),...\n",
       "    mesh                        (a, b, c) object 64B Mesh(geometry=Geometry(x...\n",
       "    coarse_mesh                 (a, b, c) object 64B Mesh(geometry=Geometry(x...\n",
       "    materials                   (a, b) object 32B Materials(geometry=Geometry...\n",
       "    electrostatics              (i, j, a, b, c) object 384B Electrostatics(me...\n",
       "    charge                      (i, j, a, b, c) object 384B -0.5 -0.5 ... 2.5\n",
       "    average_charge              (a, b, c) object 64B 1.0 1.0 1.0 ... 1.0 1.0 1.0"
      ]
     },
     "execution_count": 49,
     "metadata": {},
     "output_type": "execute_result"
    }
   ],
   "source": [
    "from pipefunc.map import load_xarray_dataset\n",
    "\n",
    "ds = load_xarray_dataset(run_folder=run_folder)\n",
    "ds"
   ]
  },
  {
   "cell_type": "markdown",
   "id": "107",
   "metadata": {},
   "source": [
    "Or specify the `output_name` to load only specific outputs:\n"
   ]
  },
  {
   "cell_type": "code",
   "execution_count": 50,
   "id": "108",
   "metadata": {},
   "outputs": [
    {
     "data": {
      "text/html": [
       "<div><svg style=\"position: absolute; width: 0; height: 0; overflow: hidden\">\n",
       "<defs>\n",
       "<symbol id=\"icon-database\" viewBox=\"0 0 32 32\">\n",
       "<path d=\"M16 0c-8.837 0-16 2.239-16 5v4c0 2.761 7.163 5 16 5s16-2.239 16-5v-4c0-2.761-7.163-5-16-5z\"></path>\n",
       "<path d=\"M16 17c-8.837 0-16-2.239-16-5v6c0 2.761 7.163 5 16 5s16-2.239 16-5v-6c0 2.761-7.163 5-16 5z\"></path>\n",
       "<path d=\"M16 26c-8.837 0-16-2.239-16-5v6c0 2.761 7.163 5 16 5s16-2.239 16-5v-6c0 2.761-7.163 5-16 5z\"></path>\n",
       "</symbol>\n",
       "<symbol id=\"icon-file-text2\" viewBox=\"0 0 32 32\">\n",
       "<path d=\"M28.681 7.159c-0.694-0.947-1.662-2.053-2.724-3.116s-2.169-2.030-3.116-2.724c-1.612-1.182-2.393-1.319-2.841-1.319h-15.5c-1.378 0-2.5 1.121-2.5 2.5v27c0 1.378 1.122 2.5 2.5 2.5h23c1.378 0 2.5-1.122 2.5-2.5v-19.5c0-0.448-0.137-1.23-1.319-2.841zM24.543 5.457c0.959 0.959 1.712 1.825 2.268 2.543h-4.811v-4.811c0.718 0.556 1.584 1.309 2.543 2.268zM28 29.5c0 0.271-0.229 0.5-0.5 0.5h-23c-0.271 0-0.5-0.229-0.5-0.5v-27c0-0.271 0.229-0.5 0.5-0.5 0 0 15.499-0 15.5 0v7c0 0.552 0.448 1 1 1h7v19.5z\"></path>\n",
       "<path d=\"M23 26h-14c-0.552 0-1-0.448-1-1s0.448-1 1-1h14c0.552 0 1 0.448 1 1s-0.448 1-1 1z\"></path>\n",
       "<path d=\"M23 22h-14c-0.552 0-1-0.448-1-1s0.448-1 1-1h14c0.552 0 1 0.448 1 1s-0.448 1-1 1z\"></path>\n",
       "<path d=\"M23 18h-14c-0.552 0-1-0.448-1-1s0.448-1 1-1h14c0.552 0 1 0.448 1 1s-0.448 1-1 1z\"></path>\n",
       "</symbol>\n",
       "</defs>\n",
       "</svg>\n",
       "<style>/* CSS stylesheet for displaying xarray objects in jupyterlab.\n",
       " *\n",
       " */\n",
       "\n",
       ":root {\n",
       "  --xr-font-color0: var(--jp-content-font-color0, rgba(0, 0, 0, 1));\n",
       "  --xr-font-color2: var(--jp-content-font-color2, rgba(0, 0, 0, 0.54));\n",
       "  --xr-font-color3: var(--jp-content-font-color3, rgba(0, 0, 0, 0.38));\n",
       "  --xr-border-color: var(--jp-border-color2, #e0e0e0);\n",
       "  --xr-disabled-color: var(--jp-layout-color3, #bdbdbd);\n",
       "  --xr-background-color: var(--jp-layout-color0, white);\n",
       "  --xr-background-color-row-even: var(--jp-layout-color1, white);\n",
       "  --xr-background-color-row-odd: var(--jp-layout-color2, #eeeeee);\n",
       "}\n",
       "\n",
       "html[theme=\"dark\"],\n",
       "html[data-theme=\"dark\"],\n",
       "body[data-theme=\"dark\"],\n",
       "body.vscode-dark {\n",
       "  --xr-font-color0: rgba(255, 255, 255, 1);\n",
       "  --xr-font-color2: rgba(255, 255, 255, 0.54);\n",
       "  --xr-font-color3: rgba(255, 255, 255, 0.38);\n",
       "  --xr-border-color: #1f1f1f;\n",
       "  --xr-disabled-color: #515151;\n",
       "  --xr-background-color: #111111;\n",
       "  --xr-background-color-row-even: #111111;\n",
       "  --xr-background-color-row-odd: #313131;\n",
       "}\n",
       "\n",
       ".xr-wrap {\n",
       "  display: block !important;\n",
       "  min-width: 300px;\n",
       "  max-width: 700px;\n",
       "}\n",
       "\n",
       ".xr-text-repr-fallback {\n",
       "  /* fallback to plain text repr when CSS is not injected (untrusted notebook) */\n",
       "  display: none;\n",
       "}\n",
       "\n",
       ".xr-header {\n",
       "  padding-top: 6px;\n",
       "  padding-bottom: 6px;\n",
       "  margin-bottom: 4px;\n",
       "  border-bottom: solid 1px var(--xr-border-color);\n",
       "}\n",
       "\n",
       ".xr-header > div,\n",
       ".xr-header > ul {\n",
       "  display: inline;\n",
       "  margin-top: 0;\n",
       "  margin-bottom: 0;\n",
       "}\n",
       "\n",
       ".xr-obj-type,\n",
       ".xr-array-name {\n",
       "  margin-left: 2px;\n",
       "  margin-right: 10px;\n",
       "}\n",
       "\n",
       ".xr-obj-type {\n",
       "  color: var(--xr-font-color2);\n",
       "}\n",
       "\n",
       ".xr-sections {\n",
       "  padding-left: 0 !important;\n",
       "  display: grid;\n",
       "  grid-template-columns: 150px auto auto 1fr 0 20px 0 20px;\n",
       "}\n",
       "\n",
       ".xr-section-item {\n",
       "  display: contents;\n",
       "}\n",
       "\n",
       ".xr-section-item input {\n",
       "  display: inline-block;\n",
       "  opacity: 0;\n",
       "  height: 0;\n",
       "}\n",
       "\n",
       ".xr-section-item input + label {\n",
       "  color: var(--xr-disabled-color);\n",
       "}\n",
       "\n",
       ".xr-section-item input:enabled + label {\n",
       "  cursor: pointer;\n",
       "  color: var(--xr-font-color2);\n",
       "}\n",
       "\n",
       ".xr-section-item input:focus + label {\n",
       "  border: 2px solid var(--xr-font-color0);\n",
       "}\n",
       "\n",
       ".xr-section-item input:enabled + label:hover {\n",
       "  color: var(--xr-font-color0);\n",
       "}\n",
       "\n",
       ".xr-section-summary {\n",
       "  grid-column: 1;\n",
       "  color: var(--xr-font-color2);\n",
       "  font-weight: 500;\n",
       "}\n",
       "\n",
       ".xr-section-summary > span {\n",
       "  display: inline-block;\n",
       "  padding-left: 0.5em;\n",
       "}\n",
       "\n",
       ".xr-section-summary-in:disabled + label {\n",
       "  color: var(--xr-font-color2);\n",
       "}\n",
       "\n",
       ".xr-section-summary-in + label:before {\n",
       "  display: inline-block;\n",
       "  content: \"►\";\n",
       "  font-size: 11px;\n",
       "  width: 15px;\n",
       "  text-align: center;\n",
       "}\n",
       "\n",
       ".xr-section-summary-in:disabled + label:before {\n",
       "  color: var(--xr-disabled-color);\n",
       "}\n",
       "\n",
       ".xr-section-summary-in:checked + label:before {\n",
       "  content: \"▼\";\n",
       "}\n",
       "\n",
       ".xr-section-summary-in:checked + label > span {\n",
       "  display: none;\n",
       "}\n",
       "\n",
       ".xr-section-summary,\n",
       ".xr-section-inline-details {\n",
       "  padding-top: 4px;\n",
       "  padding-bottom: 4px;\n",
       "}\n",
       "\n",
       ".xr-section-inline-details {\n",
       "  grid-column: 2 / -1;\n",
       "}\n",
       "\n",
       ".xr-section-details {\n",
       "  display: none;\n",
       "  grid-column: 1 / -1;\n",
       "  margin-bottom: 5px;\n",
       "}\n",
       "\n",
       ".xr-section-summary-in:checked ~ .xr-section-details {\n",
       "  display: contents;\n",
       "}\n",
       "\n",
       ".xr-array-wrap {\n",
       "  grid-column: 1 / -1;\n",
       "  display: grid;\n",
       "  grid-template-columns: 20px auto;\n",
       "}\n",
       "\n",
       ".xr-array-wrap > label {\n",
       "  grid-column: 1;\n",
       "  vertical-align: top;\n",
       "}\n",
       "\n",
       ".xr-preview {\n",
       "  color: var(--xr-font-color3);\n",
       "}\n",
       "\n",
       ".xr-array-preview,\n",
       ".xr-array-data {\n",
       "  padding: 0 5px !important;\n",
       "  grid-column: 2;\n",
       "}\n",
       "\n",
       ".xr-array-data,\n",
       ".xr-array-in:checked ~ .xr-array-preview {\n",
       "  display: none;\n",
       "}\n",
       "\n",
       ".xr-array-in:checked ~ .xr-array-data,\n",
       ".xr-array-preview {\n",
       "  display: inline-block;\n",
       "}\n",
       "\n",
       ".xr-dim-list {\n",
       "  display: inline-block !important;\n",
       "  list-style: none;\n",
       "  padding: 0 !important;\n",
       "  margin: 0;\n",
       "}\n",
       "\n",
       ".xr-dim-list li {\n",
       "  display: inline-block;\n",
       "  padding: 0;\n",
       "  margin: 0;\n",
       "}\n",
       "\n",
       ".xr-dim-list:before {\n",
       "  content: \"(\";\n",
       "}\n",
       "\n",
       ".xr-dim-list:after {\n",
       "  content: \")\";\n",
       "}\n",
       "\n",
       ".xr-dim-list li:not(:last-child):after {\n",
       "  content: \",\";\n",
       "  padding-right: 5px;\n",
       "}\n",
       "\n",
       ".xr-has-index {\n",
       "  font-weight: bold;\n",
       "}\n",
       "\n",
       ".xr-var-list,\n",
       ".xr-var-item {\n",
       "  display: contents;\n",
       "}\n",
       "\n",
       ".xr-var-item > div,\n",
       ".xr-var-item label,\n",
       ".xr-var-item > .xr-var-name span {\n",
       "  background-color: var(--xr-background-color-row-even);\n",
       "  margin-bottom: 0;\n",
       "}\n",
       "\n",
       ".xr-var-item > .xr-var-name:hover span {\n",
       "  padding-right: 5px;\n",
       "}\n",
       "\n",
       ".xr-var-list > li:nth-child(odd) > div,\n",
       ".xr-var-list > li:nth-child(odd) > label,\n",
       ".xr-var-list > li:nth-child(odd) > .xr-var-name span {\n",
       "  background-color: var(--xr-background-color-row-odd);\n",
       "}\n",
       "\n",
       ".xr-var-name {\n",
       "  grid-column: 1;\n",
       "}\n",
       "\n",
       ".xr-var-dims {\n",
       "  grid-column: 2;\n",
       "}\n",
       "\n",
       ".xr-var-dtype {\n",
       "  grid-column: 3;\n",
       "  text-align: right;\n",
       "  color: var(--xr-font-color2);\n",
       "}\n",
       "\n",
       ".xr-var-preview {\n",
       "  grid-column: 4;\n",
       "}\n",
       "\n",
       ".xr-index-preview {\n",
       "  grid-column: 2 / 5;\n",
       "  color: var(--xr-font-color2);\n",
       "}\n",
       "\n",
       ".xr-var-name,\n",
       ".xr-var-dims,\n",
       ".xr-var-dtype,\n",
       ".xr-preview,\n",
       ".xr-attrs dt {\n",
       "  white-space: nowrap;\n",
       "  overflow: hidden;\n",
       "  text-overflow: ellipsis;\n",
       "  padding-right: 10px;\n",
       "}\n",
       "\n",
       ".xr-var-name:hover,\n",
       ".xr-var-dims:hover,\n",
       ".xr-var-dtype:hover,\n",
       ".xr-attrs dt:hover {\n",
       "  overflow: visible;\n",
       "  width: auto;\n",
       "  z-index: 1;\n",
       "}\n",
       "\n",
       ".xr-var-attrs,\n",
       ".xr-var-data,\n",
       ".xr-index-data {\n",
       "  display: none;\n",
       "  background-color: var(--xr-background-color) !important;\n",
       "  padding-bottom: 5px !important;\n",
       "}\n",
       "\n",
       ".xr-var-attrs-in:checked ~ .xr-var-attrs,\n",
       ".xr-var-data-in:checked ~ .xr-var-data,\n",
       ".xr-index-data-in:checked ~ .xr-index-data {\n",
       "  display: block;\n",
       "}\n",
       "\n",
       ".xr-var-data > table {\n",
       "  float: right;\n",
       "}\n",
       "\n",
       ".xr-var-name span,\n",
       ".xr-var-data,\n",
       ".xr-index-name div,\n",
       ".xr-index-data,\n",
       ".xr-attrs {\n",
       "  padding-left: 25px !important;\n",
       "}\n",
       "\n",
       ".xr-attrs,\n",
       ".xr-var-attrs,\n",
       ".xr-var-data,\n",
       ".xr-index-data {\n",
       "  grid-column: 1 / -1;\n",
       "}\n",
       "\n",
       "dl.xr-attrs {\n",
       "  padding: 0;\n",
       "  margin: 0;\n",
       "  display: grid;\n",
       "  grid-template-columns: 125px auto;\n",
       "}\n",
       "\n",
       ".xr-attrs dt,\n",
       ".xr-attrs dd {\n",
       "  padding: 0;\n",
       "  margin: 0;\n",
       "  float: left;\n",
       "  padding-right: 10px;\n",
       "  width: auto;\n",
       "}\n",
       "\n",
       ".xr-attrs dt {\n",
       "  font-weight: normal;\n",
       "  grid-column: 1;\n",
       "}\n",
       "\n",
       ".xr-attrs dt:hover span {\n",
       "  display: inline-block;\n",
       "  background: var(--xr-background-color);\n",
       "  padding-right: 10px;\n",
       "}\n",
       "\n",
       ".xr-attrs dd {\n",
       "  grid-column: 2;\n",
       "  white-space: pre-wrap;\n",
       "  word-break: break-all;\n",
       "}\n",
       "\n",
       ".xr-icon-database,\n",
       ".xr-icon-file-text2,\n",
       ".xr-no-icon {\n",
       "  display: inline-block;\n",
       "  vertical-align: middle;\n",
       "  width: 1em;\n",
       "  height: 1.5em !important;\n",
       "  stroke-width: 0;\n",
       "  stroke: currentColor;\n",
       "  fill: currentColor;\n",
       "}\n",
       "</style><pre class='xr-text-repr-fallback'>&lt;xarray.Dataset&gt; Size: 112B\n",
       "Dimensions:                     (a: 2, b: 2, c: 2)\n",
       "Coordinates:\n",
       "    x                           (a) float64 16B 0.1 0.2\n",
       "    y                           (b) float64 16B 0.2 0.3\n",
       "    coarse_mesh_size:mesh_size  (c) object 16B (0.05, 0.01) (0.06, 0.02)\n",
       "Dimensions without coordinates: a, b, c\n",
       "Data variables:\n",
       "    average_charge              (a, b, c) object 64B 1.0 1.0 1.0 ... 1.0 1.0 1.0</pre><div class='xr-wrap' style='display:none'><div class='xr-header'><div class='xr-obj-type'>xarray.Dataset</div></div><ul class='xr-sections'><li class='xr-section-item'><input id='section-1b114dde-57df-4984-a62f-c06844782758' class='xr-section-summary-in' type='checkbox' disabled ><label for='section-1b114dde-57df-4984-a62f-c06844782758' class='xr-section-summary'  title='Expand/collapse section'>Dimensions:</label><div class='xr-section-inline-details'><ul class='xr-dim-list'><li><span>a</span>: 2</li><li><span>b</span>: 2</li><li><span>c</span>: 2</li></ul></div><div class='xr-section-details'></div></li><li class='xr-section-item'><input id='section-6efefeac-6a23-4d90-b98c-7f8e633bade7' class='xr-section-summary-in' type='checkbox'  checked><label for='section-6efefeac-6a23-4d90-b98c-7f8e633bade7' class='xr-section-summary' >Coordinates: <span>(3)</span></label><div class='xr-section-inline-details'></div><div class='xr-section-details'><ul class='xr-var-list'><li class='xr-var-item'><div class='xr-var-name'><span>x</span></div><div class='xr-var-dims'>(a)</div><div class='xr-var-dtype'>float64</div><div class='xr-var-preview xr-preview'>0.1 0.2</div><input id='attrs-5be13532-2e06-4e87-ad1e-4218add03141' class='xr-var-attrs-in' type='checkbox' disabled><label for='attrs-5be13532-2e06-4e87-ad1e-4218add03141' title='Show/Hide attributes'><svg class='icon xr-icon-file-text2'><use xlink:href='#icon-file-text2'></use></svg></label><input id='data-bd7c01be-f634-446a-b500-734ada615d85' class='xr-var-data-in' type='checkbox'><label for='data-bd7c01be-f634-446a-b500-734ada615d85' title='Show/Hide data repr'><svg class='icon xr-icon-database'><use xlink:href='#icon-database'></use></svg></label><div class='xr-var-attrs'><dl class='xr-attrs'></dl></div><div class='xr-var-data'><pre>array([0.1, 0.2])</pre></div></li><li class='xr-var-item'><div class='xr-var-name'><span>y</span></div><div class='xr-var-dims'>(b)</div><div class='xr-var-dtype'>float64</div><div class='xr-var-preview xr-preview'>0.2 0.3</div><input id='attrs-64d92b6b-c64d-477f-8935-823292b5262c' class='xr-var-attrs-in' type='checkbox' disabled><label for='attrs-64d92b6b-c64d-477f-8935-823292b5262c' title='Show/Hide attributes'><svg class='icon xr-icon-file-text2'><use xlink:href='#icon-file-text2'></use></svg></label><input id='data-447c9951-391e-4bd2-8f3f-53ecd445a9c3' class='xr-var-data-in' type='checkbox'><label for='data-447c9951-391e-4bd2-8f3f-53ecd445a9c3' title='Show/Hide data repr'><svg class='icon xr-icon-database'><use xlink:href='#icon-database'></use></svg></label><div class='xr-var-attrs'><dl class='xr-attrs'></dl></div><div class='xr-var-data'><pre>array([0.2, 0.3])</pre></div></li><li class='xr-var-item'><div class='xr-var-name'><span>coarse_mesh_size:mesh_size</span></div><div class='xr-var-dims'>(c)</div><div class='xr-var-dtype'>object</div><div class='xr-var-preview xr-preview'>(0.05, 0.01) (0.06, 0.02)</div><input id='attrs-ce54af6b-4463-49fc-9a71-c6e26373da76' class='xr-var-attrs-in' type='checkbox' disabled><label for='attrs-ce54af6b-4463-49fc-9a71-c6e26373da76' title='Show/Hide attributes'><svg class='icon xr-icon-file-text2'><use xlink:href='#icon-file-text2'></use></svg></label><input id='data-ddbf9091-3269-4f53-94d4-8b3f320e3aa5' class='xr-var-data-in' type='checkbox'><label for='data-ddbf9091-3269-4f53-94d4-8b3f320e3aa5' title='Show/Hide data repr'><svg class='icon xr-icon-database'><use xlink:href='#icon-database'></use></svg></label><div class='xr-var-attrs'><dl class='xr-attrs'></dl></div><div class='xr-var-data'><pre>array([(0.05, 0.01), (0.06, 0.02)], dtype=object)</pre></div></li></ul></div></li><li class='xr-section-item'><input id='section-51c3c888-5f8b-406d-9fbd-ee0b0653203f' class='xr-section-summary-in' type='checkbox'  checked><label for='section-51c3c888-5f8b-406d-9fbd-ee0b0653203f' class='xr-section-summary' >Data variables: <span>(1)</span></label><div class='xr-section-inline-details'></div><div class='xr-section-details'><ul class='xr-var-list'><li class='xr-var-item'><div class='xr-var-name'><span>average_charge</span></div><div class='xr-var-dims'>(a, b, c)</div><div class='xr-var-dtype'>object</div><div class='xr-var-preview xr-preview'>1.0 1.0 1.0 1.0 1.0 1.0 1.0 1.0</div><input id='attrs-00ab5d66-4866-45b0-b276-06a89c9e8b75' class='xr-var-attrs-in' type='checkbox' disabled><label for='attrs-00ab5d66-4866-45b0-b276-06a89c9e8b75' title='Show/Hide attributes'><svg class='icon xr-icon-file-text2'><use xlink:href='#icon-file-text2'></use></svg></label><input id='data-c82dd784-4138-4ffa-afec-03c438681630' class='xr-var-data-in' type='checkbox'><label for='data-c82dd784-4138-4ffa-afec-03c438681630' title='Show/Hide data repr'><svg class='icon xr-icon-database'><use xlink:href='#icon-database'></use></svg></label><div class='xr-var-attrs'><dl class='xr-attrs'></dl></div><div class='xr-var-data'><pre>array([[[np.float64(1.0), np.float64(1.0)],\n",
       "        [np.float64(1.0), np.float64(1.0)]],\n",
       "\n",
       "       [[np.float64(1.0), np.float64(1.0)],\n",
       "        [np.float64(1.0), np.float64(1.0)]]], dtype=object)</pre></div></li></ul></div></li><li class='xr-section-item'><input id='section-661cd57b-697c-4db7-9e1a-cfe384596269' class='xr-section-summary-in' type='checkbox' disabled ><label for='section-661cd57b-697c-4db7-9e1a-cfe384596269' class='xr-section-summary'  title='Expand/collapse section'>Indexes: <span>(0)</span></label><div class='xr-section-inline-details'></div><div class='xr-section-details'><ul class='xr-var-list'></ul></div></li><li class='xr-section-item'><input id='section-36ce531c-e0b5-49c0-aaf3-930016230b82' class='xr-section-summary-in' type='checkbox' disabled ><label for='section-36ce531c-e0b5-49c0-aaf3-930016230b82' class='xr-section-summary'  title='Expand/collapse section'>Attributes: <span>(0)</span></label><div class='xr-section-inline-details'></div><div class='xr-section-details'><dl class='xr-attrs'></dl></div></li></ul></div></div>"
      ],
      "text/plain": [
       "<xarray.Dataset> Size: 112B\n",
       "Dimensions:                     (a: 2, b: 2, c: 2)\n",
       "Coordinates:\n",
       "    x                           (a) float64 16B 0.1 0.2\n",
       "    y                           (b) float64 16B 0.2 0.3\n",
       "    coarse_mesh_size:mesh_size  (c) object 16B (0.05, 0.01) (0.06, 0.02)\n",
       "Dimensions without coordinates: a, b, c\n",
       "Data variables:\n",
       "    average_charge              (a, b, c) object 64B 1.0 1.0 1.0 ... 1.0 1.0 1.0"
      ]
     },
     "execution_count": 50,
     "metadata": {},
     "output_type": "execute_result"
    }
   ],
   "source": [
    "avg_charge = load_xarray_dataset(\"average_charge\", run_folder=run_folder)\n",
    "avg_charge"
   ]
  },
  {
   "cell_type": "markdown",
   "id": "109",
   "metadata": {},
   "source": [
    "Now imagine that the electrostatics object is a very large object that we cannot afford to save and load from disk.\n",
    "For this purpose there is the `pipfunc.NestedPipeFunc` class that allows to combine multiple functions into a single function. We can then tell it to not return the output of the intermediate functions by specifying which outputs to return."
   ]
  },
  {
   "cell_type": "code",
   "execution_count": null,
   "id": "110",
   "metadata": {},
   "outputs": [],
   "source": [
    "pipeline_charge2 = pipeline_charge.copy()\n",
    "nested_func = pipeline_charge2.nest_funcs(\n",
    "    {\"electrostatics\", \"charge\"},\n",
    "    new_output_name=\"charge\",\n",
    "    # We can also specify `(\"charge\", \"electrostatics\")` to get both outputs\n",
    ")"
   ]
  },
  {
   "cell_type": "markdown",
   "id": "111",
   "metadata": {},
   "source": [
    "This `nested_func` contains an internal pipeline:"
   ]
  },
  {
   "cell_type": "code",
   "execution_count": 52,
   "id": "112",
   "metadata": {},
   "outputs": [
    {
     "name": "stdout",
     "output_type": "stream",
     "text": [
      "{'electrostatics': <class '__main__.Electrostatics'>} electrostatics\n",
      "{'charge': <class 'float'>} charge\n",
      "Hints in viz {'electrostatics': <class '__main__.Electrostatics'>, 'mesh': <class '__main__.Mesh'>, 'materials': <class '__main__.Materials'>, 'V_left': <class 'float'>, 'V_right': <class 'float'>, 'charge': <class 'float'>}\n"
     ]
    },
    {
     "data": {
      "application/vnd.jupyter.widget-view+json": {
       "model_id": "2f58dc1e13934a30b56f6d18b26c111b",
       "version_major": 2,
       "version_minor": 0
      },
      "text/plain": [
       "VBox(children=(HBox(children=(Button(description='Reset Zoom', style=ButtonStyle()), Dropdown(description='Dir…"
      ]
     },
     "execution_count": 52,
     "metadata": {},
     "output_type": "execute_result"
    }
   ],
   "source": [
    "nested_func.pipeline.visualize()"
   ]
  },
  {
   "cell_type": "markdown",
   "id": "113",
   "metadata": {},
   "source": [
    "When visualizing the pipeline, you can see that the `NestedFunc` is shown as a single node."
   ]
  },
  {
   "cell_type": "code",
   "execution_count": 53,
   "id": "114",
   "metadata": {},
   "outputs": [
    {
     "name": "stdout",
     "output_type": "stream",
     "text": [
      "{'geo': <class '__main__.Geometry'>} geo\n",
      "{'mesh': <class '__main__.Mesh'>, 'coarse_mesh': <class '__main__.Mesh'>} ('mesh', 'coarse_mesh')\n",
      "{'materials': <class '__main__.Materials'>} materials\n",
      "{'average_charge': <class 'float'>} average_charge\n",
      "{'charge': <class 'float'>} charge\n",
      "Hints in viz {'geo': <class '__main__.Geometry'>, 'x': <class 'float'>, 'y': <class 'float'>, 'mesh': <class '__main__.Mesh'>, 'coarse_mesh': <class '__main__.Mesh'>, 'mesh_size': <class 'float'>, 'coarse_mesh_size': <class 'float'>, 'materials': <class '__main__.Materials'>, 'average_charge': <class 'float'>, 'charge': <class 'float'>, 'kwargs': typing.Any}\n"
     ]
    },
    {
     "data": {
      "application/vnd.jupyter.widget-view+json": {
       "model_id": "ea64f92ebd1545d7ab1e77892a5d4d99",
       "version_major": 2,
       "version_minor": 0
      },
      "text/plain": [
       "VBox(children=(HBox(children=(Button(description='Reset Zoom', style=ButtonStyle()), Dropdown(description='Dir…"
      ]
     },
     "execution_count": 53,
     "metadata": {},
     "output_type": "execute_result"
    }
   ],
   "source": [
    "pipeline_charge2.visualize(orient=\"TB\")"
   ]
  },
  {
   "cell_type": "markdown",
   "id": "115",
   "metadata": {},
   "source": [
    "### Example: Sensor Data Processing Pipeline\n",
    "\n",
    "```{note}\n",
    "This example uses `scipy` and `seaborn` libraries for data processing and visualization. Make sure to install these libraries before running the code.\n",
    "```\n",
    "\n",
    "Let's create a detailed example for the sensor data processing pipeline. This example will simulate the following steps:\n",
    "\n",
    "1. **Data Collection**: Simulate raw sensor data.\n",
    "2. **Noise Filtering**: Apply a basic noise filter.\n",
    "3. **Feature Extraction**: Extract features such as peak values.\n",
    "4. **Anomaly Detection**: Identify anomalies within the extracted features.\n",
    "5. **Visualization**: Plot the results.\n",
    "\n",
    "Here’s how this pipeline can be implemented using `pipefunc`:"
   ]
  },
  {
   "cell_type": "code",
   "execution_count": 54,
   "id": "116",
   "metadata": {},
   "outputs": [
    {
     "name": "stdout",
     "output_type": "stream",
     "text": [
      "{} raw_data\n",
      "{} filtered_data\n",
      "{} ('peak_times', 'peak_values')\n",
      "{} ('anomaly_times', 'anomaly_values')\n",
      "{} visualization\n",
      "Hints in viz {'num_samples': <class 'int'>, 'noise_level': <class 'float'>, 'threshold': <class 'float'>}\n"
     ]
    },
    {
     "data": {
      "application/vnd.jupyter.widget-view+json": {
       "model_id": "906c854ae0304e9dbad560af69992a29",
       "version_major": 2,
       "version_minor": 0
      },
      "text/plain": [
       "VBox(children=(HBox(children=(Button(description='Reset Zoom', style=ButtonStyle()), Dropdown(description='Dir…"
      ]
     },
     "execution_count": 54,
     "metadata": {},
     "output_type": "execute_result"
    }
   ],
   "source": [
    "import matplotlib.pyplot as plt\n",
    "import numpy as np\n",
    "from scipy.signal import find_peaks\n",
    "\n",
    "from pipefunc import Pipeline, pipefunc\n",
    "\n",
    "\n",
    "# Step 1: Simulate Sensor Data\n",
    "@pipefunc(output_name=\"raw_data\")\n",
    "def collect_data(num_samples: int = 1000, noise_level: float = 0.1):\n",
    "    time = np.linspace(0, 100, num_samples)\n",
    "    data = np.sin(time) + noise_level * np.random.randn(num_samples)\n",
    "    return time, data\n",
    "\n",
    "\n",
    "# Step 2: Noise Filtering\n",
    "@pipefunc(output_name=\"filtered_data\")\n",
    "def filter_noise(raw_data):\n",
    "    time, data = raw_data\n",
    "    # Simple moving average filter\n",
    "    window_size = 5\n",
    "    filtered_data = np.convolve(data, np.ones(window_size) / window_size, mode=\"valid\")\n",
    "    adjusted_time = time[: len(filtered_data)]\n",
    "    return adjusted_time, filtered_data\n",
    "\n",
    "\n",
    "# Step 3: Feature Extraction\n",
    "@pipefunc(output_name=(\"peak_times\", \"peak_values\"))\n",
    "def extract_features(filtered_data):\n",
    "    time, data = filtered_data\n",
    "    # Find peaks in the data\n",
    "    peaks, _ = find_peaks(data, height=0)\n",
    "    peak_times = time[peaks]\n",
    "    peak_values = data[peaks]\n",
    "    return peak_times, peak_values\n",
    "\n",
    "\n",
    "# Step 4: Anomaly Detection\n",
    "@pipefunc(output_name=(\"anomaly_times\", \"anomaly_values\"))\n",
    "def detect_anomalies(peak_times, peak_values, threshold: float = 0.8):\n",
    "    # Simple anomaly detection based on threshold\n",
    "    anomalies = peak_values > threshold\n",
    "    anomaly_times = peak_times[anomalies]\n",
    "    anomaly_values = peak_values[anomalies]\n",
    "    return anomaly_times, anomaly_values\n",
    "\n",
    "\n",
    "# Step 5: Visualization\n",
    "@pipefunc(output_name=\"visualization\")\n",
    "def visualize(raw_data, filtered_data, peak_times, peak_values, anomaly_times, anomaly_values):\n",
    "    raw_time, raw_data = raw_data\n",
    "    filt_time, filt_data = filtered_data\n",
    "\n",
    "    plt.figure(figsize=(12, 6))\n",
    "    plt.plot(raw_time, raw_data, label=\"Raw Data\", alpha=0.5)\n",
    "    plt.plot(filt_time, filt_data, label=\"Filtered Data\")\n",
    "    plt.scatter(peak_times, peak_values, color=\"green\", label=\"Peaks\")\n",
    "    plt.scatter(anomaly_times, anomaly_values, color=\"red\", label=\"Anomalies\")\n",
    "    plt.title(\"Sensor Data Processing\")\n",
    "    plt.xlabel(\"Time\")\n",
    "    plt.ylabel(\"Sensor Value\")\n",
    "    plt.legend()\n",
    "    plt.grid(visible=True)\n",
    "    plt.show()\n",
    "\n",
    "\n",
    "# Create the pipeline\n",
    "pipeline_sensor = Pipeline(\n",
    "    [collect_data, filter_noise, extract_features, detect_anomalies, visualize],\n",
    ")\n",
    "\n",
    "pipeline_sensor.visualize(orient=\"TB\")"
   ]
  },
  {
   "cell_type": "code",
   "execution_count": 55,
   "id": "117",
   "metadata": {},
   "outputs": [
    {
     "data": {
      "image/png": "[encoded data removed]",
      "text/plain": [
       "<Figure size 1200x600 with 1 Axes>"
      ]
     },
     "metadata": {},
     "output_type": "display_data"
    }
   ],
   "source": [
    "# Run the full pipeline\n",
    "pipeline_sensor(\"visualization\", num_samples=1000, noise_level=0.1, threshold=0.8)"
   ]
  },
  {
   "cell_type": "markdown",
   "id": "118",
   "metadata": {},
   "source": [
    "**Explanation:**\n",
    "\n",
    "- **Data Collection (`collect_data`)**: Simulate time and sine wave data with added Gaussian noise.\n",
    "- **Noise Filtering (`filter_noise`)**: Use a simple moving average to smooth the data.\n",
    "- **Feature Extraction (`extract_features`)**: Find peaks in the filtered data using `scipy.signal.find_peaks`.\n",
    "- **Anomaly Detection (`detect_anomalies`)**: Identify peaks above a certain threshold as anomalies.\n",
    "- **Visualization (`visualize`)**: Plot raw data, filtered data, detected peaks, and anomalies.\n"
   ]
  },
  {
   "cell_type": "markdown",
   "id": "119",
   "metadata": {},
   "source": [
    "**Do a study for different noise levels and thresholds:**\n",
    "\n",
    "We can expand the analysis by examining how varying levels of noise and different sample sizes affect the detection of anomalies."
   ]
  },
  {
   "cell_type": "code",
   "execution_count": 56,
   "id": "120",
   "metadata": {},
   "outputs": [],
   "source": [
    "# Create a new pipeline that terminates at the anomaly detection step (so without visualization)\n",
    "pipeline_sensor2 = pipeline_sensor.subpipeline(output_names={\"anomaly_times\", \"anomaly_values\"})\n",
    "\n",
    "# Also let's add a function to get the number of detected anomalies\n",
    "\n",
    "\n",
    "@pipefunc(output_name=\"num_anomalies\")\n",
    "def count_anomalies(anomaly_times):\n",
    "    return len(anomaly_times)\n",
    "\n",
    "\n",
    "pipeline_sensor2.add(count_anomalies)\n",
    "\n",
    "# Add dimensional axes to the input parameters\n",
    "pipeline_sensor2.add_mapspec_axis(\"num_samples\", axis=\"i\")\n",
    "pipeline_sensor2.add_mapspec_axis(\"noise_level\", axis=\"j\")\n",
    "\n",
    "# Run the subpipeline with different configurations\n",
    "result = pipeline_sensor2.map(\n",
    "    inputs={\"num_samples\": [1000, 500, 1000], \"noise_level\": [0.05, 0.1, 0.2]},\n",
    "    run_folder=\"sensor_map_results\",\n",
    ")"
   ]
  },
  {
   "cell_type": "markdown",
   "id": "121",
   "metadata": {},
   "source": [
    "**Plotting Results for Different Noise Levels and Thresholds:**\n",
    "\n",
    "To better understand the relationships and impacts of noise and sample size on anomaly detection, visualize the results with a heatmap."
   ]
  },
  {
   "cell_type": "code",
   "execution_count": 57,
   "id": "122",
   "metadata": {},
   "outputs": [
    {
     "ename": "ModuleNotFoundError",
     "evalue": "No module named 'seaborn'",
     "output_type": "error",
     "traceback": [
      "\u001b[0;31m---------------------------------------------------------------------------\u001b[0m",
      "\u001b[0;31mModuleNotFoundError\u001b[0m                       Traceback (most recent call last)",
      "Cell \u001b[0;32mIn[57], line 2\u001b[0m\n\u001b[1;32m      1\u001b[0m \u001b[38;5;66;03m# Load and visualize the resulting xarray dataset\u001b[39;00m\n\u001b[0;32m----> 2\u001b[0m \u001b[38;5;28;01mimport\u001b[39;00m\u001b[38;5;250m \u001b[39m\u001b[38;5;21;01mseaborn\u001b[39;00m\u001b[38;5;250m \u001b[39m\u001b[38;5;28;01mas\u001b[39;00m\u001b[38;5;250m \u001b[39m\u001b[38;5;21;01msns\u001b[39;00m\n\u001b[1;32m      4\u001b[0m \u001b[38;5;28;01mfrom\u001b[39;00m\u001b[38;5;250m \u001b[39m\u001b[38;5;21;01mpipefunc\u001b[39;00m\u001b[38;5;21;01m.\u001b[39;00m\u001b[38;5;21;01mmap\u001b[39;00m\u001b[38;5;250m \u001b[39m\u001b[38;5;28;01mimport\u001b[39;00m load_xarray_dataset\n\u001b[1;32m      6\u001b[0m ds \u001b[38;5;241m=\u001b[39m load_xarray_dataset(\u001b[38;5;124m\"\u001b[39m\u001b[38;5;124mnum_anomalies\u001b[39m\u001b[38;5;124m\"\u001b[39m, run_folder\u001b[38;5;241m=\u001b[39m\u001b[38;5;124m\"\u001b[39m\u001b[38;5;124msensor_map_results\u001b[39m\u001b[38;5;124m\"\u001b[39m)\n",
      "\u001b[0;31mModuleNotFoundError\u001b[0m: No module named 'seaborn'"
     ]
    }
   ],
   "source": [
    "# Load and visualize the resulting xarray dataset\n",
    "import seaborn as sns\n",
    "\n",
    "from pipefunc.map import load_xarray_dataset\n",
    "\n",
    "ds = load_xarray_dataset(\"num_anomalies\", run_folder=\"sensor_map_results\")\n",
    "\n",
    "# Convert data variables to a numpy array for plotting\n",
    "num_anomalies_data = ds[\"num_anomalies\"].data.astype(int)\n",
    "\n",
    "# Create a heatmap\n",
    "plt.figure(figsize=(8, 6))\n",
    "sns.heatmap(\n",
    "    num_anomalies_data,\n",
    "    annot=True,\n",
    "    fmt=\"d\",\n",
    "    cmap=\"YlGnBu\",\n",
    "    xticklabels=ds[\"noise_level\"].values,\n",
    "    yticklabels=ds[\"num_samples\"].values,\n",
    ")\n",
    "\n",
    "# Add labels\n",
    "plt.title(\"Number of Anomalies Heatmap\")\n",
    "plt.xlabel(\"Noise Level\")\n",
    "plt.ylabel(\"Number of Samples\")\n",
    "\n",
    "# Show the plot\n",
    "plt.show()"
   ]
  },
  {
   "cell_type": "markdown",
   "id": "123",
   "metadata": {},
   "source": [
    "### Example: Image Processing Workflow Example with `mapspec`\n",
    "\n",
    "```{note}\n",
    "This example uses `scikit-image` for image processing. If you don't have it installed, you can install it using `pip install scikit-image`.\n",
    "```\n",
    "\n",
    "In this example, we'll process a batch of images to:\n",
    "\n",
    "1. **Load and Preprocess**: Convert each image to grayscale to reduce complexity and prepare it for segmentation.\n",
    "2. **Image Segmentation**: Detect regions of interest within each individual image using an edge detection technique.\n",
    "3. **Feature Extraction**: Identify and count the number of detected regions for each processed image.\n",
    "4. **Classification**: Classify each image as \"Complex\" or \"Simple\" based on the extracted features.\n",
    "5. **Result Aggregation**: Summarize the classification results across all images in the batch."
   ]
  },
  {
   "cell_type": "code",
   "execution_count": null,
   "id": "124",
   "metadata": {},
   "outputs": [],
   "source": [
    "import numpy as np\n",
    "from skimage import data, filters, measure\n",
    "from skimage.color import rgb2gray\n",
    "from skimage.segmentation import find_boundaries\n",
    "\n",
    "from pipefunc import Pipeline, pipefunc\n",
    "\n",
    "\n",
    "# Step 1: Image Loading and Preprocessing\n",
    "@pipefunc(output_name=\"gray_image\", mapspec=\"image[n] -> gray_image[n]\")\n",
    "def load_and_preprocess_image(image):\n",
    "    return rgb2gray(image)\n",
    "\n",
    "\n",
    "# Step 2: Image Segmentation\n",
    "@pipefunc(output_name=\"segmented_image\", mapspec=\"gray_image[n] -> segmented_image[n]\")\n",
    "def segment_image(gray_image):\n",
    "    return filters.sobel(gray_image)\n",
    "\n",
    "\n",
    "# Step 3: Feature Extraction\n",
    "@pipefunc(output_name=\"feature\", mapspec=\"segmented_image[n] -> feature[n]\")\n",
    "def extract_feature(segmented_image):\n",
    "    boundaries = find_boundaries(segmented_image > 0.1)\n",
    "    labeled_image = measure.label(boundaries)\n",
    "    num_regions = np.max(labeled_image)\n",
    "    return {\"num_regions\": num_regions}\n",
    "\n",
    "\n",
    "# Step 4: Object Classification\n",
    "@pipefunc(output_name=\"classification\", mapspec=\"feature[n] -> classification[n]\")\n",
    "def classify_object(feature):\n",
    "    # Classify image as 'Complex' if the number of regions is above a threshold.\n",
    "    classification = \"Complex\" if feature[\"num_regions\"] > 5 else \"Simple\"\n",
    "    return classification\n",
    "\n",
    "\n",
    "# Step 5: Result Aggregation\n",
    "@pipefunc(output_name=\"summary\")\n",
    "def aggregate_results(classification):\n",
    "    simple_count = sum(1 for c in classification if c == \"Simple\")\n",
    "    complex_count = len(classification) - simple_count\n",
    "    return {\"Simple\": simple_count, \"Complex\": complex_count}\n",
    "\n",
    "\n",
    "# Create the pipeline\n",
    "pipeline_img = Pipeline(\n",
    "    [\n",
    "        load_and_preprocess_image,\n",
    "        segment_image,\n",
    "        extract_feature,\n",
    "        classify_object,\n",
    "        aggregate_results,\n",
    "    ],\n",
    ")\n",
    "\n",
    "# Simulate a batch of images (using built-in scikit-image sample images)\n",
    "images = [\n",
    "    data.astronaut(),\n",
    "    data.coffee(),\n",
    "    data.coffee(),\n",
    "]  # Repeat the coffee image to simulate multiple images\n",
    "\n",
    "# Run the pipeline on the images\n",
    "results_summary = pipeline_img.map({\"image\": images})\n",
    "print(\"Classification Summary:\", results_summary[\"summary\"].output)"
   ]
  },
  {
   "cell_type": "markdown",
   "id": "125",
   "metadata": {},
   "source": [
    "**Explanation:**\n",
    "\n",
    "- **Image Loading and Preprocessing (`load_and_preprocess_image`)**: Converts each individual image to grayscale, ensuring independent processing via `mapspec`.\n",
    "- **Image Segmentation (`segment_image`)**: Applies Sobel filtering to detect edges and regions of interest in each grayscale image, taking advantage of parallel processing for the batch.\n",
    "- **Feature Extraction (`extract_feature`)**: Identifies boundaries and counts distinct regions in each segmented image, returning the count as a feature for classification.\n",
    "- **Object Classification (`classify_object`)**: Classifies each image as \"Complex\" or \"Simple\" based on the detected regions relative to a predefined threshold.\n",
    "- **Result Aggregation (`aggregate_results`)**: Aggregates classifications to provide a summary of \"Simple\" and \"Complex\" images across the batch.\n",
    "\n",
    "**Key Points:**\n",
    "\n",
    "- **`mapspec`**: Enables independent and parallel processing of each image by defining input-to-output mappings, removing the need for explicit parallel code.\n",
    "- **Functional Structure**: Utilizes `pipefunc` to manage dependencies and efficiently execute batch image processing, highlighting the framework's ability to handle complex workflows.\n",
    "\n",
    "\n",
    "\n"
   ]
  },
  {
   "cell_type": "markdown",
   "id": "126",
   "metadata": {},
   "source": [
    "### Example: Natural Language Processing Pipeline for Text Summarization\n",
    "\n",
    "```{note}\n",
    "This example uses `nltk` for text processing. If you don't have it installed, you can install it using `pip install nltk`.\n",
    "```\n",
    "\n",
    "Let's create a simplified NLP workflow for text summarization with steps involving tokenization, keyword extraction, summary generation, and sentiment analysis. This example will demonstrate the use of `pipefunc` to handle dependencies and illustrate `mapspec` by processing multiple texts."
   ]
  },
  {
   "cell_type": "code",
   "execution_count": null,
   "id": "127",
   "metadata": {},
   "outputs": [],
   "source": [
    "import nltk\n",
    "import numpy as np\n",
    "from nltk.probability import FreqDist\n",
    "from nltk.tokenize import sent_tokenize, word_tokenize\n",
    "\n",
    "from pipefunc import Pipeline, pipefunc\n",
    "\n",
    "nltk.download(\"punkt_tab\", quiet=True)\n",
    "nltk.download(\"stopwords\", quiet=True)\n",
    "\n",
    "\n",
    "# Step 1: Text Tokenization\n",
    "@pipefunc(output_name=\"tokens\", mapspec=\"text[n] -> tokens[n]\")\n",
    "def tokenize_text(text):\n",
    "    from nltk.corpus import stopwords\n",
    "\n",
    "    words = word_tokenize(text.lower())\n",
    "    stop_words = set(stopwords.words(\"english\"))\n",
    "    filtered_words = [word for word in words if word.isalpha() and word not in stop_words]\n",
    "    return filtered_words\n",
    "\n",
    "\n",
    "# Step 2: Keyword Extraction\n",
    "@pipefunc(output_name=\"keywords\", mapspec=\"tokens[n] -> keywords[n]\")\n",
    "def extract_keywords(tokens):\n",
    "    freq_dist = FreqDist(tokens)\n",
    "    common_keywords = freq_dist.most_common(5)\n",
    "    return [word for word, _ in common_keywords]\n",
    "\n",
    "\n",
    "# Step 3: Summary Generation\n",
    "@pipefunc(output_name=\"summary\", mapspec=\"text[n], keywords[n] -> summary[n]\")\n",
    "def generate_summary(text, keywords):\n",
    "    sentences = sent_tokenize(text)\n",
    "    important_sentences = [\n",
    "        sentence\n",
    "        for sentence in sentences\n",
    "        if any(keyword in sentence.lower() for keyword in keywords)\n",
    "    ]\n",
    "    return \" \".join(important_sentences[:2])  # Return the first two important sentences\n",
    "\n",
    "\n",
    "# Step 4: Sentiment Analysis\n",
    "@pipefunc(output_name=\"sentiment\", mapspec=\"summary[n] -> sentiment[n]\")\n",
    "def analyze_sentiment(summary):\n",
    "    # Simplified sentiment analysis: More positive words = Positive sentiment\n",
    "    positive_words = {\"good\", \"great\", \"excellent\", \"positive\", \"fortunate\"}\n",
    "    negative_words = {\"bad\", \"terrible\", \"poor\", \"negative\", \"unfortunate\"}\n",
    "    words = set(summary.lower().split())\n",
    "    sentiment_score = len(words & positive_words) - len(words & negative_words)\n",
    "    if sentiment_score > 0:\n",
    "        return \"Positive\"\n",
    "    if sentiment_score < 0:\n",
    "        return \"Negative\"\n",
    "    return \"Neutral\"\n",
    "\n",
    "\n",
    "# Step 5: Summarization Result Aggregation\n",
    "@pipefunc(output_name=\"result_summary\")\n",
    "def aggregate_summarization(sentiment):\n",
    "    # Convert the sentiment masked array to a list\n",
    "    sentiment_list = np.array(sentiment).tolist()\n",
    "\n",
    "    # Count occurrences of each sentiment type\n",
    "    positive_count = sentiment_list.count(\"Positive\")\n",
    "    negative_count = sentiment_list.count(\"Negative\")\n",
    "    neutral_count = sentiment_list.count(\"Neutral\")\n",
    "\n",
    "    return {\"Positive\": positive_count, \"Negative\": negative_count, \"Neutral\": neutral_count}\n",
    "\n",
    "\n",
    "# Create the pipeline\n",
    "pipeline_sentiment = Pipeline(\n",
    "    [\n",
    "        tokenize_text,\n",
    "        extract_keywords,\n",
    "        generate_summary,\n",
    "        analyze_sentiment,\n",
    "        aggregate_summarization,\n",
    "    ],\n",
    ")\n",
    "\n",
    "# Example texts to summarize\n",
    "texts = [\n",
    "    \"The movie was excellent! The performances were outstanding, and the plot was captivating.\",\n",
    "    \"The movie was bad and boring. I found it dull and slow with no gripping moments.\",\n",
    "    \"An alright film with a good sense of humor but lacking depth in character development.\",\n",
    "]\n",
    "\n",
    "# Run the pipeline on texts\n",
    "results_summary = pipeline_sentiment.map({\"text\": texts}, parallel=True)\n",
    "print(\"Summarization Sentiment Summary:\", results_summary[\"result_summary\"].output)"
   ]
  },
  {
   "cell_type": "markdown",
   "id": "128",
   "metadata": {},
   "source": [
    "**Explanation:**\n",
    "\n",
    "- **Text Tokenization (`tokenize_text`)**: Tokenizes each text, removing stop words using a `mapspec` for independent processing.\n",
    "- **Keyword Extraction (`extract_keywords`)**: Extracts the most frequent words as keywords for each tokenized text.\n",
    "- **Summary Generation (`generate_summary`)**: Generates a summary by selecting sentences with the most important keywords.\n",
    "- **Sentiment Analysis (`analyze_sentiment`)**: Analyzes sentiment of summary texts using a set of positive and negative keywords for simplicity.\n",
    "- **Result Aggregation (`aggregate_summarization`)**: Aggregates sentiments to provide an overall sentiment summary across all texts.\n",
    "\n",
    "This example showcases the capability of `pipefunc` to manage complex workflows in NLP applications, leveraging `mapspec` to process multiple text inputs efficiently."
   ]
  },
  {
   "cell_type": "markdown",
   "id": "129",
   "metadata": {},
   "source": [
    "\n",
    "### Example: Weather Simulation and Analysis Pipeline with `xarray`\n",
    "\n",
    "In this example, we'll generate temperature data for multiple cities over several days, compute statistics like mean and variance, and then use `xarray` to load and visualize the results."
   ]
  },
  {
   "cell_type": "code",
   "execution_count": null,
   "id": "130",
   "metadata": {},
   "outputs": [],
   "source": [
    "import numpy as np\n",
    "import pandas as pd\n",
    "\n",
    "from pipefunc import Pipeline, pipefunc\n",
    "from pipefunc.map import load_xarray_dataset\n",
    "\n",
    "\n",
    "# Step 1: Simulate Temperature Data\n",
    "@pipefunc(output_name=\"temperature\", mapspec=\"city[i], day[j] -> temperature[i, j]\")\n",
    "def simulate_temperature(city, day):\n",
    "    np.random.seed(hash(city) % 2**32)  # For reproducibility\n",
    "    mean_temp = 20 + (hash(city) % 10)  # Base temp varies by city\n",
    "    temp_variation = 5 * np.sin(day.dayofyear * (2 * np.pi / 365))  # Seasonal variation\n",
    "    noise = np.random.normal(0, 2)  # Random daily fluctuation\n",
    "    return float(mean_temp + temp_variation + noise)  # Ensure this is a float\n",
    "\n",
    "\n",
    "# Step 2: Compute Statistics\n",
    "@pipefunc(\n",
    "    output_name=(\"mean_temp\", \"variance\"),\n",
    "    mapspec=\"temperature[i, :] -> mean_temp[i], variance[i]\",\n",
    "    output_picker=dict.__getitem__,\n",
    ")\n",
    "def compute_statistics(temperature):\n",
    "    temp_array = np.array(temperature, dtype=float)  # Ensure it's a numeric array\n",
    "    mean_temp = np.mean(temp_array)\n",
    "    var_temp = np.var(temp_array)\n",
    "    return {\"mean_temp\": mean_temp, \"variance\": var_temp}\n",
    "\n",
    "\n",
    "# Create the pipeline\n",
    "pipeline_weather = Pipeline([simulate_temperature, compute_statistics])\n",
    "\n",
    "# Define cities and days\n",
    "cities = [\"New York\", \"Los Angeles\", \"Chicago\"]\n",
    "days = pd.date_range(\"2023-01-01\", \"2023-01-10\")  # 10 days\n",
    "\n",
    "# Run the pipeline\n",
    "pipeline_weather.map({\"city\": cities, \"day\": days}, run_folder=\"weather_simulation_results\")\n",
    "\n",
    "# Load and display the xarray dataset\n",
    "weather_dataset = load_xarray_dataset(run_folder=\"weather_simulation_results\")\n",
    "display(weather_dataset)\n",
    "\n",
    "# Plot temperatures for each city\n",
    "weather_dataset.temperature.astype(float).plot.line(\n",
    "    x=\"day\",\n",
    "    hue=\"city\",\n",
    "    marker=\"o\",\n",
    "    figsize=(12, 6),\n",
    ")"
   ]
  },
  {
   "cell_type": "markdown",
   "id": "131",
   "metadata": {},
   "source": [
    "**Explanation:**\n",
    "\n",
    "- **Temperature Simulation (`simulate_temperature`)**: Each city has its synthetic daily temperature calculated using a sinusoidal pattern and noise. The `mapspec` `city[i], day[j] -> temperature[i, j]` allows us to handle city-by-day combinations automatically.\n",
    "\n",
    "- **Statistics Calculation (`compute_statistics`)**: Computes the mean and variance of the daily temperature, mapping over cities.\n",
    "\n",
    "- **Automatic `xarray.Dataset`**: The `pipeline.map()` call ensures that the data is structured into an N-dimensional format, representing the outputs naturally as an `xarray.Dataset`.\n",
    "\n",
    "- **Retrieving with `load_xarray_dataset`**: Quickly access the results organized by city and day indices without manually constructing them.\n",
    "\n",
    "This showcases `pipefunc`'s powerful ability to manage multi-dimensional computations and data structuring, presenting an efficient workflow for simulating and analyzing temperature variations.\n",
    "\n",
    "---"
   ]
  }
 ],
 "metadata": {
  "kernelspec": {
   "display_name": ".venv",
   "language": "python",
   "name": "python3"
  },
  "language_info": {
   "codemirror_mode": {
    "name": "ipython",
    "version": 3
   },
   "file_extension": ".py",
   "mimetype": "text/x-python",
   "name": "python",
   "nbconvert_exporter": "python",
   "pygments_lexer": "ipython3",
   "version": "3.11.2"
  }
 },
 "nbformat": 4,
 "nbformat_minor": 5
}
